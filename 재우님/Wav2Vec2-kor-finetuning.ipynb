{
 "cells": [
  {
   "cell_type": "code",
   "execution_count": 1,
   "metadata": {
    "colab": {
     "base_uri": "https://localhost:8080/"
    },
    "executionInfo": {
     "elapsed": 12,
     "status": "ok",
     "timestamp": 1663904569322,
     "user": {
      "displayName": "Hyunjung Lee",
      "userId": "15784017024673692926"
     },
     "user_tz": -540
    },
    "id": "so6BVfow40_K",
    "outputId": "bf01933a-44fb-4586-f761-1f2dcb0b4948"
   },
   "outputs": [
    {
     "name": "stdout",
     "output_type": "stream",
     "text": [
      "Mon Apr 29 09:49:46 2024       \n",
      "+-----------------------------------------------------------------------------------------+\n",
      "| NVIDIA-SMI 552.22                 Driver Version: 552.22         CUDA Version: 12.4     |\n",
      "|-----------------------------------------+------------------------+----------------------+\n",
      "| GPU  Name                     TCC/WDDM  | Bus-Id          Disp.A | Volatile Uncorr. ECC |\n",
      "| Fan  Temp   Perf          Pwr:Usage/Cap |           Memory-Usage | GPU-Util  Compute M. |\n",
      "|                                         |                        |               MIG M. |\n",
      "|=========================================+========================+======================|\n",
      "|   0  NVIDIA GeForce RTX 3070 ...  WDDM  |   00000000:01:00.0 Off |                  N/A |\n",
      "| N/A   46C    P0             30W /  138W |       0MiB /   8192MiB |      0%      Default |\n",
      "|                                         |                        |                  N/A |\n",
      "+-----------------------------------------+------------------------+----------------------+\n",
      "                                                                                         \n",
      "+-----------------------------------------------------------------------------------------+\n",
      "| Processes:                                                                              |\n",
      "|  GPU   GI   CI        PID   Type   Process name                              GPU Memory |\n",
      "|        ID   ID                                                               Usage      |\n",
      "|=========================================================================================|\n",
      "|  No running processes found                                                             |\n",
      "+-----------------------------------------------------------------------------------------+\n"
     ]
    }
   ],
   "source": [
    "#GPU 체크\n",
    "gpu_info = !nvidia-smi\n",
    "gpu_info = '\\n'.join(gpu_info)\n",
    "if gpu_info.find('실패') >= 0:\n",
    "  print('GPU 없음')\n",
    "else:\n",
    "  print(gpu_info)"
   ]
  },
  {
   "cell_type": "code",
   "execution_count": 43,
   "metadata": {
    "colab": {
     "base_uri": "https://localhost:8080/",
     "height": 299,
     "referenced_widgets": [
      "541a6621da094723a0e942dc2cd540e1",
      "7be12029a9d94fa99eb6c8db1e470088",
      "4bd7e354b35040cfb5ea8139268fddcd",
      "d3fbbda6803448bba393bfea3d812530",
      "beb69b8487d14a479db95c3e34bdf93b",
      "d88f92cdbc7540169abe27cc52308fca",
      "81bf7b27e37d4e289b854b54e5dfc6db",
      "befe6810ec764cc1bab989ca607b1095",
      "969f27d0e89e40d2afc5b8644649e97c",
      "4072b4aa162947dfa5dc8a86aa1b5dc0",
      "0551dd908d1a4b02839242588c2929e7",
      "599f6f827559467f9dfd406394442fad",
      "45f13200e45242e0a7b85d57865c6063",
      "aae61c9a5e18450696d7353306d32337"
     ]
    },
    "executionInfo": {
     "elapsed": 1103,
     "status": "ok",
     "timestamp": 1663909608010,
     "user": {
      "displayName": "Hyunjung Lee",
      "userId": "15784017024673692926"
     },
     "user_tz": -540
    },
    "id": "n2r0Cbvc6Rph",
    "outputId": "74ed94ee-90c5-430c-d861-73bfda920fbe"
   },
   "outputs": [
    {
     "data": {
      "application/vnd.jupyter.widget-view+json": {
       "model_id": "c332280de2b9467b8bb1ceaecfabc5b1",
       "version_major": 2,
       "version_minor": 0
      },
      "text/plain": [
       "VBox(children=(HTML(value='<center> <img\\nsrc=https://huggingface.co/front/assets/huggingface_logo-noborder.sv…"
      ]
     },
     "metadata": {},
     "output_type": "display_data"
    }
   ],
   "source": [
    "#허깅페이스 허브 로그인\n",
    "\n",
    "from huggingface_hub import notebook_login\n",
    "\n",
    "notebook_login()"
   ]
  },
  {
   "cell_type": "code",
   "execution_count": 3,
   "metadata": {
    "id": "LfZnp6rq-sDY"
   },
   "outputs": [],
   "source": [
    "%%capture\n",
    "!apt install git-lfs"
   ]
  },
  {
   "cell_type": "markdown",
   "metadata": {
    "id": "0WTxjVgzalmr"
   },
   "source": [
    "## 2.&nbsp;데이터 로드"
   ]
  },
  {
   "cell_type": "code",
   "execution_count": 4,
   "metadata": {
    "colab": {
     "base_uri": "https://localhost:8080/",
     "height": 170,
     "referenced_widgets": [
      "f80ae6637d8a4fcb9116da534515bdd3",
      "d3f7a229fc59468eaf7f395ef83af8ab",
      "c72b35c5f9a34a789359599d984a3f83",
      "7b9ed078b48e48d1be0aae85afc63c06",
      "1dd355366f5d40e08d4515b3d8dc5121",
      "1aca8a38aa5343e9bc46d9bb64ef5e50",
      "55a0d69a4b6c4ac8b514cab236599274",
      "5b33a68e33c34ff79e1712d848a7da6d",
      "72a51759248d4b06adecffa5e64a29b0",
      "fdcfc48ef566417491a1de82e5ece30d",
      "df512ce76cf944ceaa0d0e8584dd6295",
      "64a6d36e60a24f5e8fa8c6fc27baeb51",
      "506a9097f8c245d8a30e12d55b0e315d",
      "256ea08e45e64170b7fc328e10442d6e",
      "5ccc3d151ec74deba176f25ac5c0325d",
      "c2773786c33e4760ab2bde29e52e0aa9",
      "d9402b1a2b7b4d26938c30e5f0506edf",
      "b09d33803c624b92b291e95a83e33f48",
      "06f27efb0f69445f9cd32c88bffc1214",
      "e4d861e102d848a5a8c09783ad4fe253",
      "cd4fe068dc494006a308e2238d00f3dc",
      "c535ba71680749dbb7bb4f4219b1349c",
      "6a4bab6f2f314f1d985d57fc09e813d3",
      "5d75711959b944f091d71fe6ed4481e7",
      "131129dd475f4d28a4c4f3b6dd506e8d",
      "1d5d2c74b42b4545ac984d10bb1f7cb8",
      "755a3ae9baa44b85b3bf8bafa290ac74",
      "551464ae7e5041d5a83e66b3dff19049",
      "06505625fc054999919811e4d06f492d",
      "5e7786edb3b8488fbe2868541ccaacdb",
      "b39d63c40094404f8a073bc8604a3bdd",
      "b38c7b80ea0f4bc6b80a2051452bfa24",
      "ef8a697d22074eebad6ae0646ca8d3d4",
      "f990e16aeee24480a082c95a8a7cc20a",
      "2f270485eae645df83609653d470c786",
      "f700b34288e24e848d11d9758d14c991",
      "da22f2ef40b24800a3369b53484114c5",
      "1166f134348740a8868ab0eea2d3e1e3",
      "4c8deab6c09a40b29b92dab1d8b2f5ae",
      "2932243a5b364e5f935ba5bb6dd4da0f",
      "a3c7f0e14f014d17a349f3205191a138",
      "79fca6b1d8ef4b53a92f12f5fb4f2285",
      "8388ddb9054249c78b1d83ba3818d560",
      "d7368f2a8c354aaba1944c0d421a8f5f",
      "4230ecfa455044a78496880f6d4f2565",
      "af7225a415884de98a5fe214378600be",
      "a3d6387286eb43aeab7763c3939a3683",
      "641d41911e4b482892d11ea3d3c9308d",
      "ffafa61399c24b8ebd0a2ccbbba04132",
      "87e891199999405bac57c10c2222e5d4",
      "971a9fc2a6194c849630e5f3714bce30",
      "afe1087c40bc4a15a189e9fac177f309",
      "2c89d22f52c9458ea29a9729e891b63b",
      "1c99621f4b1345e49f2e3f004223bdb2",
      "7e479f2c5b624c089eded9528e618726"
     ]
    },
    "executionInfo": {
     "elapsed": 970331,
     "status": "ok",
     "timestamp": 1663910596189,
     "user": {
      "displayName": "Hyunjung Lee",
      "userId": "15784017024673692926"
     },
     "user_tz": -540
    },
    "id": "iMcTTGWf4dBw",
    "outputId": "84cb7813-70db-4b01-db60-23c78280c1f1"
   },
   "outputs": [
    {
     "data": {
      "application/vnd.jupyter.widget-view+json": {
       "model_id": "2de9d0d148824c15a792806bf5b56eb2",
       "version_major": 2,
       "version_minor": 0
      },
      "text/plain": [
       "Downloading builder script:   0%|          | 0.00/4.59k [00:00<?, ?B/s]"
      ]
     },
     "metadata": {},
     "output_type": "display_data"
    },
    {
     "data": {
      "application/vnd.jupyter.widget-view+json": {
       "model_id": "d0982bb183104b4ca4e1d72dc0797b7b",
       "version_major": 2,
       "version_minor": 0
      },
      "text/plain": [
       "Downloading data:   0%|          | 0.00/10.3G [00:00<?, ?B/s]"
      ]
     },
     "metadata": {},
     "output_type": "display_data"
    },
    {
     "data": {
      "application/vnd.jupyter.widget-view+json": {
       "model_id": "541aad3da8594b698696e4381f469bfc",
       "version_major": 2,
       "version_minor": 0
      },
      "text/plain": [
       "Generating train split: 0 examples [00:00, ? examples/s]"
      ]
     },
     "metadata": {},
     "output_type": "display_data"
    },
    {
     "data": {
      "application/vnd.jupyter.widget-view+json": {
       "model_id": "bf8b3bae4ae94c54af3aba01e14d7a67",
       "version_major": 2,
       "version_minor": 0
      },
      "text/plain": [
       "Generating test split: 0 examples [00:00, ? examples/s]"
      ]
     },
     "metadata": {},
     "output_type": "display_data"
    }
   ],
   "source": [
    "from datasets import load_dataset, load_metric, Audio\n",
    "zeroth_data = load_dataset(\"kresnik/zeroth_korean\", 'clean', trust_remote_code=True)"
   ]
  },
  {
   "cell_type": "code",
   "execution_count": 5,
   "metadata": {
    "colab": {
     "base_uri": "https://localhost:8080/"
    },
    "executionInfo": {
     "elapsed": 444,
     "status": "ok",
     "timestamp": 1663910599496,
     "user": {
      "displayName": "Hyunjung Lee",
      "userId": "15784017024673692926"
     },
     "user_tz": -540
    },
    "id": "cgYaIMqY0HM2",
    "outputId": "be742452-b935-456d-fbfa-b3574489e797"
   },
   "outputs": [
    {
     "data": {
      "text/plain": [
       "DatasetDict({\n",
       "    train: Dataset({\n",
       "        features: ['file', 'audio', 'text', 'speaker_id', 'chapter_id', 'id'],\n",
       "        num_rows: 22263\n",
       "    })\n",
       "    test: Dataset({\n",
       "        features: ['file', 'audio', 'text', 'speaker_id', 'chapter_id', 'id'],\n",
       "        num_rows: 457\n",
       "    })\n",
       "})"
      ]
     },
     "execution_count": 5,
     "metadata": {},
     "output_type": "execute_result"
    }
   ],
   "source": [
    "zeroth_data"
   ]
  },
  {
   "cell_type": "code",
   "execution_count": null,
   "metadata": {},
   "outputs": [],
   "source": [
    "#전처리"
   ]
  },
  {
   "cell_type": "code",
   "execution_count": 6,
   "metadata": {
    "id": "ggHIJIcCaf3n"
   },
   "outputs": [],
   "source": [
    "zeroth_data = zeroth_data.remove_columns(['speaker_id', 'chapter_id', 'id'])"
   ]
  },
  {
   "cell_type": "code",
   "execution_count": 7,
   "metadata": {
    "colab": {
     "base_uri": "https://localhost:8080/"
    },
    "executionInfo": {
     "elapsed": 560,
     "status": "ok",
     "timestamp": 1663910605500,
     "user": {
      "displayName": "Hyunjung Lee",
      "userId": "15784017024673692926"
     },
     "user_tz": -540
    },
    "id": "eUay6K1Wav5K",
    "outputId": "ffb720e1-4e53-4d77-a53c-327692f58809"
   },
   "outputs": [
    {
     "data": {
      "text/plain": [
       "DatasetDict({\n",
       "    train: Dataset({\n",
       "        features: ['file', 'audio', 'text'],\n",
       "        num_rows: 22263\n",
       "    })\n",
       "    test: Dataset({\n",
       "        features: ['file', 'audio', 'text'],\n",
       "        num_rows: 457\n",
       "    })\n",
       "})"
      ]
     },
     "execution_count": 7,
     "metadata": {},
     "output_type": "execute_result"
    }
   ],
   "source": [
    "zeroth_data"
   ]
  },
  {
   "cell_type": "code",
   "execution_count": 8,
   "metadata": {
    "id": "cddRyr174dB9"
   },
   "outputs": [],
   "source": [
    "from datasets import ClassLabel\n",
    "import random\n",
    "import pandas as pd\n",
    "from IPython.display import display, HTML\n",
    "def show_random_elements(dataset, num_examples=10):\n",
    "    assert num_examples <= len(dataset), \"Can't pick more elements than there are in the dataset.\"\n",
    "    picks = []\n",
    "    for _ in range(num_examples):\n",
    "        pick = random.randint(0, len(dataset)-1)\n",
    "        while pick in picks:\n",
    "            pick = random.randint(0, len(dataset)-1)\n",
    "        picks.append(pick)\n",
    "    df = pd.DataFrame(dataset[picks])\n",
    "    display(HTML(df.to_html()))"
   ]
  },
  {
   "cell_type": "code",
   "execution_count": 9,
   "metadata": {
    "colab": {
     "base_uri": "https://localhost:8080/",
     "height": 363
    },
    "executionInfo": {
     "elapsed": 9,
     "status": "ok",
     "timestamp": 1663910608782,
     "user": {
      "displayName": "Hyunjung Lee",
      "userId": "15784017024673692926"
     },
     "user_tz": -540
    },
    "id": "nffM4hBS4dB-",
    "outputId": "5e51a541-927d-4465-f334-5f35af074668"
   },
   "outputs": [
    {
     "data": {
      "text/html": [
       "<table border=\"1\" class=\"dataframe\">\n",
       "  <thead>\n",
       "    <tr style=\"text-align: right;\">\n",
       "      <th></th>\n",
       "      <th>text</th>\n",
       "    </tr>\n",
       "  </thead>\n",
       "  <tbody>\n",
       "    <tr>\n",
       "      <th>0</th>\n",
       "      <td>그래서 결국 죽음을 선택한 그런 사건도 있었는데 이런 문제를 해결하기 위해서는 부양의무자 기준이 폐지되지 않고는 가능하지 않다고 봅니다</td>\n",
       "    </tr>\n",
       "    <tr>\n",
       "      <th>1</th>\n",
       "      <td>여덟 명만 불러서 조사하고 말아서는 안되는 것 아닌가라고 말했다</td>\n",
       "    </tr>\n",
       "    <tr>\n",
       "      <th>2</th>\n",
       "      <td>한국지엠의 경차 스파크에게 이 월 삼 월 두 달 연속 일 위 자리를 뺏겼다</td>\n",
       "    </tr>\n",
       "    <tr>\n",
       "      <th>3</th>\n",
       "      <td>학습 장애의 증상 가운데는 말을 배우는 것이 늦거나 습관적으로 잘못 발음하거나 어린애 같은 말투를 계속 쓰는 것이 있습니다</td>\n",
       "    </tr>\n",
       "    <tr>\n",
       "      <th>4</th>\n",
       "      <td>사우스캐롤리아 주 해상으로 이동 중인 매슈는 여전히 시속 백 예순 킬로미터의 강풍을 동반하고 있습니다</td>\n",
       "    </tr>\n",
       "    <tr>\n",
       "      <th>5</th>\n",
       "      <td>이천 십 삼 년 가벼운 위염이 있는 감염자에게로 확대하자 한 해 백 마흔 만명으로 뛰었다</td>\n",
       "    </tr>\n",
       "    <tr>\n",
       "      <th>6</th>\n",
       "      <td>우리는 위기의 진앙이 아닌 안전지대가 됐다는 말까지 나올 정도였다</td>\n",
       "    </tr>\n",
       "    <tr>\n",
       "      <th>7</th>\n",
       "      <td>한 걸음 더 나아가 천 구백 이십 이 년에는 처음으로 선박과 육지 사이에 무선 통신이 이루어졌습니다</td>\n",
       "    </tr>\n",
       "    <tr>\n",
       "      <th>8</th>\n",
       "      <td>한편 유상증자 발행주식 중 이십 퍼센트는 우리사주조합에 우선 배정되고 나머지 팔십 퍼센트는 구주주에 배정된다</td>\n",
       "    </tr>\n",
       "    <tr>\n",
       "      <th>9</th>\n",
       "      <td>이에 대해 한 건설사의 임원은 엘시티 더샵의 분양가는 솔직히 과하다며 현재 불안한 국내 부동산시장 상황을 볼 때 막바지 투기를 부추기는 것으로 보인다고 말했다</td>\n",
       "    </tr>\n",
       "  </tbody>\n",
       "</table>"
      ],
      "text/plain": [
       "<IPython.core.display.HTML object>"
      ]
     },
     "metadata": {},
     "output_type": "display_data"
    }
   ],
   "source": [
    "show_random_elements(zeroth_data[\"train\"].remove_columns([\"file\", \"audio\"]), num_examples=10)"
   ]
  },
  {
   "cell_type": "code",
   "execution_count": null,
   "metadata": {
    "id": "34cP2Sv7dwAZ"
   },
   "outputs": [],
   "source": [
    "#Wav2Vec2CTCTokenizer 토크나이저 + 한글 자모 "
   ]
  },
  {
   "cell_type": "code",
   "execution_count": 10,
   "metadata": {
    "id": "R61zARVP_jFQ"
   },
   "outputs": [],
   "source": [
    "__all__ = [\"split_syllable_char\", \"split_syllables\",\n",
    "           \"join_jamos\", \"join_jamos_char\",\n",
    "           \"CHAR_INITIALS\", \"CHAR_MEDIALS\", \"CHAR_FINALS\"]\n",
    "\n",
    "import itertools\n",
    "\n",
    "INITIAL = 0x001\n",
    "MEDIAL = 0x010\n",
    "FINAL = 0x100\n",
    "CHAR_LISTS = {\n",
    "    INITIAL: list(map(chr, [\n",
    "        0x3131, 0x3132, 0x3134, 0x3137, 0x3138, 0x3139,\n",
    "        0x3141, 0x3142, 0x3143, 0x3145, 0x3146, 0x3147,\n",
    "        0x3148, 0x3149, 0x314a, 0x314b, 0x314c, 0x314d,\n",
    "        0x314e\n",
    "    ])),\n",
    "    MEDIAL: list(map(chr, [\n",
    "        0x314f, 0x3150, 0x3151, 0x3152, 0x3153, 0x3154,\n",
    "        0x3155, 0x3156, 0x3157, 0x3158, 0x3159, 0x315a,\n",
    "        0x315b, 0x315c, 0x315d, 0x315e, 0x315f, 0x3160,\n",
    "        0x3161, 0x3162, 0x3163\n",
    "    ])),\n",
    "    FINAL: list(map(chr, [\n",
    "        0x3131, 0x3132, 0x3133, 0x3134, 0x3135, 0x3136,\n",
    "        0x3137, 0x3139, 0x313a, 0x313b, 0x313c, 0x313d,\n",
    "        0x313e, 0x313f, 0x3140, 0x3141, 0x3142, 0x3144,\n",
    "        0x3145, 0x3146, 0x3147, 0x3148, 0x314a, 0x314b,\n",
    "        0x314c, 0x314d, 0x314e\n",
    "    ]))\n",
    "}\n",
    "CHAR_INITIALS = CHAR_LISTS[INITIAL]\n",
    "CHAR_MEDIALS = CHAR_LISTS[MEDIAL]\n",
    "CHAR_FINALS = CHAR_LISTS[FINAL]\n",
    "CHAR_SETS = {k: set(v) for k, v in CHAR_LISTS.items()}\n",
    "CHARSET = set(itertools.chain(*CHAR_SETS.values()))\n",
    "CHAR_INDICES = {k: {c: i for i, c in enumerate(v)}\n",
    "                for k, v in CHAR_LISTS.items()}\n",
    "\n",
    "\n",
    "def is_hangul_syllable(c):\n",
    "    return 0xac00 <= ord(c) <= 0xd7a3  # Hangul Syllables\n",
    "\n",
    "\n",
    "def is_hangul_jamo(c):\n",
    "    return 0x1100 <= ord(c) <= 0x11ff  # Hangul Jamo\n",
    "\n",
    "\n",
    "def is_hangul_compat_jamo(c):\n",
    "    return 0x3130 <= ord(c) <= 0x318f  # Hangul Compatibility Jamo\n",
    "\n",
    "\n",
    "def is_hangul_jamo_exta(c):\n",
    "    return 0xa960 <= ord(c) <= 0xa97f  # Hangul Jamo Extended-A\n",
    "\n",
    "\n",
    "def is_hangul_jamo_extb(c):\n",
    "    return 0xd7b0 <= ord(c) <= 0xd7ff  # Hangul Jamo Extended-B\n",
    "\n",
    "\n",
    "def is_hangul(c):\n",
    "    return (is_hangul_syllable(c) or\n",
    "            is_hangul_jamo(c) or\n",
    "            is_hangul_compat_jamo(c) or\n",
    "            is_hangul_jamo_exta(c) or\n",
    "            is_hangul_jamo_extb(c))\n",
    "\n",
    "\n",
    "def is_supported_hangul(c):\n",
    "    return is_hangul_syllable(c) or is_hangul_compat_jamo(c)\n",
    "\n",
    "\n",
    "def check_hangul(c, jamo_only=False):\n",
    "    if not ((jamo_only or is_hangul_compat_jamo(c)) or is_supported_hangul(c)):\n",
    "        raise ValueError(f\"'{c}' is not a supported hangul character. \"\n",
    "                         f\"'Hangul Syllables' (0xac00 ~ 0xd7a3) and \"\n",
    "                         f\"'Hangul Compatibility Jamos' (0x3130 ~ 0x318f) are \"\n",
    "                         f\"supported at the moment.\")\n",
    "\n",
    "\n",
    "def get_jamo_type(c):\n",
    "    check_hangul(c)\n",
    "    assert is_hangul_compat_jamo(c), f\"not a jamo: {ord(c):x}\"\n",
    "    return sum(t for t, s in CHAR_SETS.items() if c in s)\n",
    "\n",
    "\n",
    "def split_syllable_char(c):\n",
    "    check_hangul(c)\n",
    "    if len(c) != 1:\n",
    "        raise ValueError(\"한개만\")\n",
    "\n",
    "    init, med, final = None, None, None\n",
    "    if is_hangul_syllable(c):\n",
    "        offset = ord(c) - 0xac00\n",
    "        x = (offset - offset % 28) // 28\n",
    "        init, med,견: \"\n",
    "                             f\"{c} (0x{ord(c):x})\")\n",
    "\n",
    "    s = map(try_split, s)\n",
    "    if pad is not None:\n",
    "        tuples = map(lambda x: tuple(pad if y is None else y for y in x), s)\n",
    "    else:\n",
    "        tuples = map(lambda x: filter(None, x), s)\n",
    "    return \"\".join(itertools.chain(*tuples))\n",
    "\n",
    "\n",
    "def join_jamos_char(init, med, final=None):\n",
    "    chars = (init, med, final)\n",
    "    for c in filter(None, chars):\n",
    "        check_hangul(c, jamo_only=True)\n",
    "\n",
    "    idx = tuple(CHAR_INDICES[pos][c] if c is not None else c\n",
    "                for pos, c in zip((INITIAL, MEDIAL, FINAL), chars))\n",
    "    init_idx, med_idx, final_idx = idx\n",
    "    # final index must be shifted once as\n",
    "    # final index with 0 points to syllables without final\n",
    "    final_idx = 0 if final_idx is None else final_idx + 1\n",
    "    return chr(0xac00 + 28 * 21 * init_idx + 28 * med_idx + final_idx)\n",
    "\n",
    "\n",
    "def join_jamos(s, ignore_err=True):\n",
    "    last_t = 0\n",
    "    queue = []\n",
    "    new_string = \"\"\n",
    "\n",
    "    def flush(n=0):\n",
    "        new_queue = []\n",
    "        while len(queue) > n:\n",
    "            new_queue.append(queue.pop())\n",
    "        if len(new_queue) == 1:\n",
    "            if not ignore_err:\n",
    "                raise ValueError(f\"invalid jamo character: {new_queue[0]}\")\n",
    "            result = new_queue[0]\n",
    "        elif len(new_queue) >= 2:\n",
    "            try:\n",
    "                result = join_jamos_char(*new_queue)\n",
    "            except (ValueError, KeyError):\n",
    "                if not ignore_err:\n",
    "                    raise ValueError(f\"invalid jamo characters: {new_queue}\")\n",
    "                result = \"\".join(new_queue)\n",
    "        else:\n",
    "            result = None\n",
    "        return result\n",
    "\n",
    "    for c in s:\n",
    "        if c not in CHARSET:\n",
    "            if queue:\n",
    "                new_c = flush() + c\n",
    "            else:\n",
    "                new_c = c\n",
    "            last_t = 0\n",
    "        else:\n",
    "            t = get_jamo_type(c)\n",
    "            new_c = None\n",
    "            if t & FINAL == FINAL:\n",
    "                if not (last_t == MEDIAL):\n",
    "                    new_c = flush()\n",
    "            elif t == INITIAL:\n",
    "                new_c = flush()\n",
    "            elif t == MEDIAL:\n",
    "                if last_t & INITIAL == INITIAL:\n",
    "                    new_c = flush(1)\n",
    "                else:\n",
    "                    new_c = flush()\n",
    "            last_t = t\n",
    "            queue.insert(0, c)\n",
    "        if new_c:\n",
    "            new_string += new_c\n",
    "    if queue:\n",
    "        new_string += flush()\n",
    "    return new_string"
   ]
  },
  {
   "cell_type": "code",
   "execution_count": 11,
   "metadata": {
    "id": "TfctVU9AJXtP"
   },
   "outputs": [],
   "source": [
    "import re\n",
    "chars_to_ignore_regex = '[-=+,#/\\?:^$.@*\\\"※~&%ㆍ!』\\\\‘|\\(\\)\\[\\]\\<\\>`\\'…》]'\n",
    "def remove_special_characters(batch):\n",
    "    batch[\"text\"] = re.sub(chars_to_ignore_regex, '', batch[\"text\"]).lower() + \" \"\n",
    "    batch['text'] = split_syllables(batch['text'])\n",
    "    return batch"
   ]
  },
  {
   "cell_type": "code",
   "execution_count": 12,
   "metadata": {
    "colab": {
     "base_uri": "https://localhost:8080/",
     "height": 119,
     "referenced_widgets": [
      "f2941ed40d2849ba910b17e8183c9c23",
      "7efe4f6df3fd4eacbb5a3768d45a1768",
      "df88b32fcb7f40edb7b5868e40eea5fc",
      "e37940223110433ea634f2b6a53b89e7",
      "5c782276080f4475807f419b822557e7",
      "9d15ae91bcdc407da5eb9fedd471dde1",
      "49bab38cfa5a429cb1cdd0dd65069406",
      "dc7fab131e7f42ee884814a10c5727ce",
      "d0e69a65084942a69692c4ceb792acf7",
      "2e75206293794798b6b8fa2401641d06",
      "7940a4bac6074146a77a322ac7753045",
      "e7d5744b636647b1b217671df955f2e1",
      "003082f5a1444f77a5a2247078ea2784",
      "e1e9407bccf542cfb53b2e8f05cdf949",
      "9428466f97f7487985997443b2defc0d",
      "0d8e33d171054fb7bc044d3f5564c797",
      "f7dcf93d59b142f19a2f6109d4c9d9cb",
      "09b52654502a4b73b666a36b0242f8fd",
      "69e5efc0c30540a188dfdf288bee2c48",
      "35a9536125424d278497b07cb775448f",
      "f0baf2d9e07d47f8bde4303734582dc9",
      "389b62bf66e34abeb18c6624b32a1d23"
     ]
    },
    "executionInfo": {
     "elapsed": 6285,
     "status": "ok",
     "timestamp": 1663910624636,
     "user": {
      "displayName": "Hyunjung Lee",
      "userId": "15784017024673692926"
     },
     "user_tz": -540
    },
    "id": "kUXZx-FzJ_BS",
    "outputId": "601e507e-ad6e-4777-907b-b53a37370f94"
   },
   "outputs": [
    {
     "data": {
      "application/vnd.jupyter.widget-view+json": {
       "model_id": "fbbe1152f53545e9bad1e1a8fe085965",
       "version_major": 2,
       "version_minor": 0
      },
      "text/plain": [
       "Map:   0%|          | 0/22263 [00:00<?, ? examples/s]"
      ]
     },
     "metadata": {},
     "output_type": "display_data"
    },
    {
     "data": {
      "application/vnd.jupyter.widget-view+json": {
       "model_id": "e407d3a4b1ed4071b935dbfed7d6d9ac",
       "version_major": 2,
       "version_minor": 0
      },
      "text/plain": [
       "Map:   0%|          | 0/457 [00:00<?, ? examples/s]"
      ]
     },
     "metadata": {},
     "output_type": "display_data"
    }
   ],
   "source": [
    "zeroth_data = zeroth_data.map(remove_special_characters)"
   ]
  },
  {
   "cell_type": "code",
   "execution_count": 13,
   "metadata": {
    "colab": {
     "base_uri": "https://localhost:8080/",
     "height": 432
    },
    "executionInfo": {
     "elapsed": 6,
     "status": "ok",
     "timestamp": 1663910626349,
     "user": {
      "displayName": "Hyunjung Lee",
      "userId": "15784017024673692926"
     },
     "user_tz": -540
    },
    "id": "VhIKDNopP53f",
    "outputId": "aa793018-78ab-43ec-8ae0-8e70a73be0f2"
   },
   "outputs": [
    {
     "data": {
      "text/html": [
       "<table border=\"1\" class=\"dataframe\">\n",
       "  <thead>\n",
       "    <tr style=\"text-align: right;\">\n",
       "      <th></th>\n",
       "      <th>text</th>\n",
       "    </tr>\n",
       "  </thead>\n",
       "  <tbody>\n",
       "    <tr>\n",
       "      <th>0</th>\n",
       "      <td>ㅇㅏㄴㅊㅓㄹㅅㅜ ㅇㅢㅇㅝㄴㅇㅣ ㅈㅔㅇㅏㄴㅎㅏㄴ ㅎㅕㄱㅅㅣㄴ ㅈㅓㄴㄷㅏㅇㄷㅐㅎㅚ ㄱㅐㅊㅚㅇㅘ ㄱㅘㄴㄹㅕㄴ ㄷㅏㅇㄴㅐ ㄴㅗㄴㄹㅏㄴㅇㅣ ㅇㅣㄹㅈㅏ ㅁㅜㄴ ㄷㅐㅍㅛㅇㅢ ㅌㅚㅈㅣㄴㅇㅡㄹ ㅇㅛㄱㅜㅎㅏㄴ ㄱㅜㄷㅏㅇㅁㅗㅇㅣㅁㅇㅔ ㅇㅣㄹㅡㅁㅇㅡㄹ ㅇㅗㄹㄹㅣㄱㅣㄷㅗ ㅎㅐㅆㄷㅏ</td>\n",
       "    </tr>\n",
       "    <tr>\n",
       "      <th>1</th>\n",
       "      <td>ㄷㅏㄴㄷㅜㅇㅇㅔㅅㅓㄴ ㅌㅔㅅㅡㅌㅡㅁㅏㄴ ㅎㅏㄱㅗ ㅅㅏㅅㅣㄹ ㅇㅕㄱㅣㅅㅓㄴ ㅎㅐㅋㅓㄷㅡㄹㅇㅣ ㅎㅘㄹㄷㅗㅇ ㅇㅏㄴ ㅎㅐㅇㅛ</td>\n",
       "    </tr>\n",
       "    <tr>\n",
       "      <th>2</th>\n",
       "      <td>ㅅㅣㅂ ㅇㅣ ㅇㅣㄹ ㄱㅕㅇㅈㅜㅇㅔㅅㅓ ㅂㅏㄹㅅㅐㅇㅎㅏㄴ ㅈㅣㅈㅣㄴㅇㅡㄹㅗ ㅍㅗㅎㅏㅇㅅㅣ ㄴㅏㅁㄱㅜㅇㅢ ㅎㅏㄴ ㅁㅏㅌㅡ ㅈㅣㄴㅇㅕㄹㅈㅏㅇㅇㅔ ㅆㅏㅎㅇㅕ ㅇㅣㅆㄷㅓㄴ ㅅㅏㅇㅍㅜㅁㄷㅡㄹㅇㅣ ㅂㅏㄷㅏㄱㅇㅔ ㄸㅓㄹㅇㅓㅈㅕ ㅇㅣㅆㄷㅏ</td>\n",
       "    </tr>\n",
       "    <tr>\n",
       "      <th>3</th>\n",
       "      <td>ㄸㅏㅇㅋㅗㅇㅂㅗㅌㅡ ㅇㅜㄴㅇㅕㅇㅇㅓㅂㅊㅔㅇㅘ ㅁㅗㅌㅓㅂㅗㅌㅡ ㅇㅜㄴㅈㅓㄴㅈㅏㄴㅡㄴ ㅇㅜㄴㅇㅕㅇㅎㅓㄱㅏㅇㅘ ㅇㅜㄴㅈㅓㄴㅁㅕㄴㅎㅓㄴㅡㄴ ㄱㅏㅈㅊㅜㄴ ㄱㅓㅅㅇㅡㄹㅗ ㅎㅘㄱㅇㅣㄴㄷㅙㅆㄷㅏ</td>\n",
       "    </tr>\n",
       "    <tr>\n",
       "      <th>4</th>\n",
       "      <td>ㅇㅣㄹㅂㅜ ㅇㅓㅂㅈㅏㄴㅡㄴ ㅈㅐㅈㅣㄹㅇㅣ ㅂㅣㅅㅡㅅㅎㅏㄴ ㅇㅑㅇ ㄱㅏㅈㅜㄱㅇㅣㄹㅏㄱㅗ ㅅㅗㄱㅇㅕ ㅍㅏㄴㅁㅐㅎㅏㄱㅣㄷㅗ ㅎㅏㄴㅡㄴ ㄱㅓㅅㅇㅡㄹㅗ ㄷㅡㄹㅓㄴㅏㅆㅅㅡㅂㄴㅣㄷㅏ</td>\n",
       "    </tr>\n",
       "    <tr>\n",
       "      <th>5</th>\n",
       "      <td>ㅂㅗㄱㅈㅣㅎㅖㅌㅐㄱㅇㅡㄹ ㅁㅏㅈㅂㅓㄹㅇㅣ ㅂㅜㅂㅜㅇㅔㄱㅔ ㄷㅗㄹㅇㅏㄱㅏㄹ ㅅㅜ ㅇㅣㅆㄷㅗㄹㅗㄱ ㅈㅣㅇㅝㄴㅊㅐㄱㅇㅡㄹ ㄱㅐㅅㅓㄴㅎㅏㅈㅏ ㄹㅏㄴㅡㄴ ㄸㅡㅅㅇㅡㄹ ㅂㅏㄺㅎㅕㅆㅅㅡㅂㄴㅣㄷㅏ</td>\n",
       "    </tr>\n",
       "    <tr>\n",
       "      <th>6</th>\n",
       "      <td>ㄱㅘㄱㅓㅇㅔㄴㅡㄴ ㅊㅓㄴ ㅅㅏㅁㅂㅐㄱ ㅅㅏㅅㅣㅂ ㅈㅗ ㅇㅣㄹㅓㄴ ㅁㅏㄹㅁㅏㄴ ㄴㅏㅇㅘㅆㅈㅣㅁㅏㄴ ㅈㅣㄱㅡㅁ ㅇㅕㄴㄱㅜㅇㅟㅇㅝㄴㄲㅔㅅㅓㄷㅗ ㅈㅣㄹㅈㅓㄱ ㅊㅡㄱㅁㅕㄴㄲㅏㅈㅣ ㄱㅚㅇㅈㅏㅇㅎㅣ ㅇㅟㅎㅓㅁㅎㅏㄷㅏㄱㅗ ㅎㅐㅆㄱㅓㄷㅡㄴㅇㅛ</td>\n",
       "    </tr>\n",
       "    <tr>\n",
       "      <th>7</th>\n",
       "      <td>ㅂㅏㄱㅈㅐㅎㅗㅇ ㅇㅣㅇㅓㅅㅓ ㅋㅡㄹㅣㅁㅃㅏㅇ ㅃㅐㅇㅅㅗㄴㅣ ㅅㅏㄱㅓㄴ ㅅㅜㅅㅏㅇㅔ ㄷㅗㅇㅜㅁㅇㅡㄹ ㅈㅜㅅㅣㄱㅗ ㄱㅖㅅㅣㄴㅡㄴ ㄴㅔㅌㅣㅈㅡㄴㅇㅣㅂㄴㅣㄷㅏ</td>\n",
       "    </tr>\n",
       "    <tr>\n",
       "      <th>8</th>\n",
       "      <td>ㅇㅑㄱㅝㄴㅎㅜㅂㅗ ㄷㅏㄴㅇㅣㄹㅎㅘㅇㅔ ㄷㅐㅎㅐ ㄱㅡㄴㅡㄴ ㄱㅏㄱㄷㅏㅇㅇㅢ ㄱㅏㄱ ㅎㅜㅂㅗㄹㅡㄹ ㅇㅓㄸㅓㅎㄱㅔ ㅃㅗㅂㅇㅡㄹㅈㅣ ㄴㅏㅇㅘㅂㅘㅇㅑ ㅎㅏㄹ ㅇㅒㄱㅣㄷㅏ</td>\n",
       "    </tr>\n",
       "    <tr>\n",
       "      <th>9</th>\n",
       "      <td>ㄱㅏㅁㅅㅏㅇㅝㄴㅇㅡㄴ ㅅㅏ ㅇㅣㄹ ㅇㅣ ㄱㅏㅌㅇㅡㄴ ㄴㅐㅇㅛㅇㅇㅡㄹ ㄷㅏㅁㄱㅗ ㅇㅣㅆㄴㅡㄴ ㄱㅖㅇㅑㄱ ㅂㅜㄴㅇㅑ ㅎㅚㄱㅖㅂㅣㄹㅣ ㅌㅡㄱㅂㅕㄹㅈㅓㅁㄱㅓㅁㅇㅔ ㄷㅐㅎㅏㄴ ㄱㅏㅁㅅㅏ ㄱㅕㄹㄱㅘㄹㅡㄹ ㄱㅗㅇㄱㅐㅎㅐㅆㄷㅏ</td>\n",
       "    </tr>\n",
       "  </tbody>\n",
       "</table>"
      ],
      "text/plain": [
       "<IPython.core.display.HTML object>"
      ]
     },
     "metadata": {},
     "output_type": "display_data"
    }
   ],
   "source": [
    "show_random_elements(zeroth_data[\"train\"].remove_columns([\"file\", \"audio\"]), num_examples=10)"
   ]
  },
  {
   "cell_type": "code",
   "execution_count": 14,
   "metadata": {
    "id": "s1XCU9L64dCA"
   },
   "outputs": [],
   "source": [
    "def extract_all_chars(batch):\n",
    "  all_text = \" \".join(batch[\"text\"])\n",
    "  vocab = list(set(all_text))\n",
    "  return {\"vocab\": [vocab], \"all_text\": [all_text]}"
   ]
  },
  {
   "cell_type": "code",
   "execution_count": 15,
   "metadata": {
    "colab": {
     "base_uri": "https://localhost:8080/",
     "height": 81,
     "referenced_widgets": [
      "4f878b0694404a88b22bc7d4d9e62ecc",
      "d2c62c2c1b6c433192bbd95b422ccaa1",
      "4a33238930034c5a98155ca038386f9b",
      "f3e07b1ee30e49bfaafcfbb3d71f142e",
      "6cc3ee4a6f2540a1ba8ed516ec16faac",
      "0bf7155044f840999890fcf693d82c66",
      "6a98a1971bb2433c93d516283a065dcb",
      "ef6f7966e89f443391bda9fdc0651650",
      "5f3d51b8610843b1b40ceea43bac3052",
      "d4727fed46f74fae91d56a6defb974a2",
      "fbec374d1d984d088a7adea9a38b074b",
      "c56a404a0ee54397a568759235a37325",
      "682c392661a64c6a99c573ed0f2ec37d",
      "7b609b990fca43258ee4d1b1a3e0da90",
      "704a1078729c48fa917d6b6d69768985",
      "08e99b0c97d44719aedd28ef94376873",
      "cdd15f91dbb64b1b8aa9d849437cfcf7",
      "c08fee1e52b54bb59deafd1f83b2a459",
      "6027ba42a1814abf9fb47ca85c626eeb",
      "14b3e757dcee41a9b6487fb7428ac923",
      "0c5e072f42b44293b83631f860a1c723",
      "4d88133366cc43499a4f3f0d93275bd8"
     ]
    },
    "executionInfo": {
     "elapsed": 10,
     "status": "ok",
     "timestamp": 1663910633557,
     "user": {
      "displayName": "Hyunjung Lee",
      "userId": "15784017024673692926"
     },
     "user_tz": -540
    },
    "id": "3_Tj2fatQq1P",
    "outputId": "2de4b493-b947-4dcc-fd1a-f6e2dd409e44"
   },
   "outputs": [
    {
     "data": {
      "application/vnd.jupyter.widget-view+json": {
       "model_id": "159ca745da994c1aa6fcec90348d59e2",
       "version_major": 2,
       "version_minor": 0
      },
      "text/plain": [
       "Map:   0%|          | 0/22263 [00:00<?, ? examples/s]"
      ]
     },
     "metadata": {},
     "output_type": "display_data"
    },
    {
     "data": {
      "application/vnd.jupyter.widget-view+json": {
       "model_id": "37a22eb370224d30942c2faff6c8bdde",
       "version_major": 2,
       "version_minor": 0
      },
      "text/plain": [
       "Map:   0%|          | 0/457 [00:00<?, ? examples/s]"
      ]
     },
     "metadata": {},
     "output_type": "display_data"
    }
   ],
   "source": [
    "vocabs = zeroth_data.map(\n",
    "    extract_all_chars,\n",
    "    batched=True,\n",
    "    batch_size=-1,\n",
    "    keep_in_memory=True,\n",
    "    remove_columns=zeroth_data.column_names[\"train\"])"
   ]
  },
  {
   "cell_type": "code",
   "execution_count": 16,
   "metadata": {
    "id": "fFqv28u9RKKY"
   },
   "outputs": [],
   "source": [
    "vocab_list = list(set(vocabs[\"train\"][\"vocab\"][0]) | set(vocabs[\"test\"][\"vocab\"][0]))"
   ]
  },
  {
   "cell_type": "code",
   "execution_count": 17,
   "metadata": {
    "colab": {
     "base_uri": "https://localhost:8080/"
    },
    "executionInfo": {
     "elapsed": 5,
     "status": "ok",
     "timestamp": 1663910640883,
     "user": {
      "displayName": "Hyunjung Lee",
      "userId": "15784017024673692926"
     },
     "user_tz": -540
    },
    "id": "O1BRBnMxRNyX",
    "outputId": "e45b656f-d488-467e-faef-0a8a6cef6f36"
   },
   "outputs": [
    {
     "data": {
      "text/plain": [
       "{' ': 0,\n",
       " 'ㄱ': 1,\n",
       " 'ㄲ': 2,\n",
       " 'ㄳ': 3,\n",
       " 'ㄴ': 4,\n",
       " 'ㄵ': 5,\n",
       " 'ㄶ': 6,\n",
       " 'ㄷ': 7,\n",
       " 'ㄸ': 8,\n",
       " 'ㄹ': 9,\n",
       " 'ㄺ': 10,\n",
       " 'ㄻ': 11,\n",
       " 'ㄼ': 12,\n",
       " 'ㅀ': 13,\n",
       " 'ㅁ': 14,\n",
       " 'ㅂ': 15,\n",
       " 'ㅃ': 16,\n",
       " 'ㅄ': 17,\n",
       " 'ㅅ': 18,\n",
       " 'ㅆ': 19,\n",
       " 'ㅇ': 20,\n",
       " 'ㅈ': 21,\n",
       " 'ㅉ': 22,\n",
       " 'ㅊ': 23,\n",
       " 'ㅋ': 24,\n",
       " 'ㅌ': 25,\n",
       " 'ㅍ': 26,\n",
       " 'ㅎ': 27,\n",
       " 'ㅏ': 28,\n",
       " 'ㅐ': 29,\n",
       " 'ㅑ': 30,\n",
       " 'ㅒ': 31,\n",
       " 'ㅓ': 32,\n",
       " 'ㅔ': 33,\n",
       " 'ㅕ': 34,\n",
       " 'ㅖ': 35,\n",
       " 'ㅗ': 36,\n",
       " 'ㅘ': 37,\n",
       " 'ㅙ': 38,\n",
       " 'ㅚ': 39,\n",
       " 'ㅛ': 40,\n",
       " 'ㅜ': 41,\n",
       " 'ㅝ': 42,\n",
       " 'ㅞ': 43,\n",
       " 'ㅟ': 44,\n",
       " 'ㅠ': 45,\n",
       " 'ㅡ': 46,\n",
       " 'ㅢ': 47,\n",
       " 'ㅣ': 48}"
      ]
     },
     "execution_count": 17,
     "metadata": {},
     "output_type": "execute_result"
    }
   ],
   "source": [
    "vocab_dict = {v: k for k, v in enumerate(sorted(vocab_list))}\n",
    "vocab_dict"
   ]
  },
  {
   "cell_type": "code",
   "execution_count": 18,
   "metadata": {
    "id": "F3MA_i7P4dCC"
   },
   "outputs": [],
   "source": [
    "vocab_dict[\"|\"] = vocab_dict[\" \"]\n",
    "del vocab_dict[\" \"]"
   ]
  },
  {
   "cell_type": "code",
   "execution_count": 19,
   "metadata": {
    "colab": {
     "base_uri": "https://localhost:8080/"
    },
    "executionInfo": {
     "elapsed": 3,
     "status": "ok",
     "timestamp": 1663910646549,
     "user": {
      "displayName": "Hyunjung Lee",
      "userId": "15784017024673692926"
     },
     "user_tz": -540
    },
    "id": "yoPpcXhm4dCC",
    "outputId": "53ee88b7-e9eb-491b-88d3-f716313f903c"
   },
   "outputs": [
    {
     "data": {
      "text/plain": [
       "51"
      ]
     },
     "execution_count": 19,
     "metadata": {},
     "output_type": "execute_result"
    }
   ],
   "source": [
    "vocab_dict[\"[UNK]\"] = len(vocab_dict)\n",
    "vocab_dict[\"[PAD]\"] = len(vocab_dict)\n",
    "len(vocab_dict)"
   ]
  },
  {
   "cell_type": "code",
   "execution_count": 20,
   "metadata": {
    "id": "LLiHTGMn4dCC"
   },
   "outputs": [],
   "source": [
    "import json\n",
    "with open(\"vocab.json\", 'w') as vocab_file:\n",
    "    json.dump(vocab_dict, vocab_file)"
   ]
  },
  {
   "cell_type": "code",
   "execution_count": 22,
   "metadata": {
    "id": "bRrgB5xF4dCD"
   },
   "outputs": [],
   "source": [
    "from transformers import Wav2Vec2CTCTokenizer\n",
    "tokenizer = Wav2Vec2CTCTokenizer(\"vocab.json\", unk_token=\"[UNK]\", pad_token=\"[PAD]\", word_delimiter_token=\"|\")"
   ]
  },
  {
   "cell_type": "code",
   "execution_count": 44,
   "metadata": {
    "id": "RWk9p52NYzoX"
   },
   "outputs": [],
   "source": [
    "repo_name = \"Ljrabbit/wav2vec2-large-xls-r-300m-korean-test0\""
   ]
  },
  {
   "cell_type": "code",
   "execution_count": 45,
   "metadata": {
    "colab": {
     "base_uri": "https://localhost:8080/",
     "height": 276
    },
    "executionInfo": {
     "elapsed": 14533,
     "status": "ok",
     "timestamp": 1663910678962,
     "user": {
      "displayName": "Hyunjung Lee",
      "userId": "15784017024673692926"
     },
     "user_tz": -540
    },
    "id": "RVPOQYCRYz_l",
    "outputId": "390591d8-6818-4ca2-9024-c28ecb7ed43a"
   },
   "outputs": [
    {
     "data": {
      "text/plain": [
       "CommitInfo(commit_url='https://huggingface.co/Ljrabbit/wav2vec2-large-xls-r-300m-korean-test0/commit/ded914fc5a95a3492cf6acde969566041e8d35b2', commit_message='Upload tokenizer', commit_description='', oid='ded914fc5a95a3492cf6acde969566041e8d35b2', pr_url=None, pr_revision=None, pr_num=None)"
      ]
     },
     "execution_count": 45,
     "metadata": {},
     "output_type": "execute_result"
    }
   ],
   "source": [
    "tokenizer.push_to_hub(repo_name)"
   ]
  },
  {
   "cell_type": "code",
   "execution_count": null,
   "metadata": {
    "id": "8glHVh8z4h2b"
   },
   "outputs": [],
   "source": [
    "#Wav2Vec2 Feature Extractor"
   ]
  },
  {
   "cell_type": "code",
   "execution_count": 28,
   "metadata": {
    "id": "UJCzqRuj4dCD"
   },
   "outputs": [],
   "source": [
    "from transformers import Wav2Vec2FeatureExtractor\n",
    "feature_extractor = Wav2Vec2FeatureExtractor(feature_size=1, sampling_rate=16000, padding_value=0.0, do_normalize=True, return_attention_mask=False)\n",
    "from transformers import Wav2Vec2Processor\n",
    "processor = Wav2Vec2Processor(feature_extractor=feature_extractor, tokenizer=tokenizer)"
   ]
  },
  {
   "cell_type": "code",
   "execution_count": null,
   "metadata": {
    "id": "hYuZvm054wCs"
   },
   "outputs": [],
   "source": [
    "#Preprocess Data"
   ]
  },
  {
   "cell_type": "code",
   "execution_count": 29,
   "metadata": {
    "colab": {
     "base_uri": "https://localhost:8080/",
     "height": 35
    },
    "executionInfo": {
     "elapsed": 2665,
     "status": "ok",
     "timestamp": 1663910704815,
     "user": {
      "displayName": "Hyunjung Lee",
      "userId": "15784017024673692926"
     },
     "user_tz": -540
    },
    "id": "rbuVFKni40DG",
    "outputId": "2a2ff134-8065-41c5-c30f-800571c8effb"
   },
   "outputs": [
    {
     "data": {
      "text/plain": [
       "'C:/Users/User/.cache/huggingface/datasets/downloads/extracted/ced79e66418d9fe8058679e42f8eac8957dd37121e912335283d1e45da227fdf/train_data_01/003/106\\\\106_003_0077.flac'"
      ]
     },
     "execution_count": 29,
     "metadata": {},
     "output_type": "execute_result"
    }
   ],
   "source": [
    "zeroth_data[\"train\"][0][\"file\"]"
   ]
  },
  {
   "cell_type": "code",
   "execution_count": 30,
   "metadata": {
    "colab": {
     "base_uri": "https://localhost:8080/"
    },
    "executionInfo": {
     "elapsed": 8,
     "status": "ok",
     "timestamp": 1663910704816,
     "user": {
      "displayName": "Hyunjung Lee",
      "userId": "15784017024673692926"
     },
     "user_tz": -540
    },
    "id": "QVnhyHOGopjG",
    "outputId": "1213f863-8f44-4e19-cfca-7b544e74bdb9"
   },
   "outputs": [
    {
     "data": {
      "text/plain": [
       "{'path': 'C:/Users/User/.cache/huggingface/datasets/downloads/extracted/ced79e66418d9fe8058679e42f8eac8957dd37121e912335283d1e45da227fdf/train_data_01/003/106\\\\106_003_0077.flac',\n",
       " 'array': array([-3.05175781e-05,  0.00000000e+00, -3.05175781e-05, ...,\n",
       "         0.00000000e+00,  0.00000000e+00, -6.10351562e-05]),\n",
       " 'sampling_rate': 16000}"
      ]
     },
     "execution_count": 30,
     "metadata": {},
     "output_type": "execute_result"
    }
   ],
   "source": [
    "zeroth_data[\"train\"][0][\"audio\"]"
   ]
  },
  {
   "cell_type": "code",
   "execution_count": 31,
   "metadata": {
    "colab": {
     "base_uri": "https://localhost:8080/",
     "height": 113
    },
    "executionInfo": {
     "elapsed": 13,
     "status": "ok",
     "timestamp": 1663910707597,
     "user": {
      "displayName": "Hyunjung Lee",
      "userId": "15784017024673692926"
     },
     "user_tz": -540
    },
    "id": "NBc2aqsfdG1v",
    "outputId": "2253eb65-0b1b-4fa5-8718-f0f392373451"
   },
   "outputs": [
    {
     "name": "stdout",
     "output_type": "stream",
     "text": [
      "ㄱㅕㄴㅇㅣㄴㅇㅣ ㅂㅓㄴㄱㅓㄹㅗㅇㅜㄴ ㄱㅗㄱㅡㅂ ㅅㅜㅇㅣㅂㅊㅏㅇㅘ ㅅㅏ ㄹㅠㄴㄱㅜㄷㅗㅇㅊㅏㄴㅡㄴ ㄱㅕㄴㅇㅣㄴㅎㅏㅈㅣ ㅇㅏㄶㄴㅡㄴㄷㅏㄴㅡㄴ ㅂㅜㄹㅁㅜㄴㅇㅠㄹㅇㅣ ㄱㅗㅇㄱㅗㅇㅇㅕㄴㅎㅣ ㅍㅓㅈㅕ ㅇㅣㅆㄷㅏ \n"
     ]
    },
    {
     "data": {
      "text/html": [
       "\n",
       "                <audio  controls=\"controls\" autoplay=\"autoplay\">\n",
       "                    <source src=\"data:audio/wav;base64,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\" type=\"audio/wav\" />\n",
       "                    Your browser does not support the audio element.\n",
       "                </audio>\n",
       "              "
      ],
      "text/plain": [
       "<IPython.lib.display.Audio object>"
      ]
     },
     "execution_count": 31,
     "metadata": {},
     "output_type": "execute_result"
    }
   ],
   "source": [
    "import IPython.display as ipd\n",
    "import numpy as np\n",
    "import random\n",
    "rand_int = random.randint(0, len(zeroth_data[\"train\"]))\n",
    "print(zeroth_data[\"train\"][rand_int][\"text\"])\n",
    "ipd.Audio(data=zeroth_data[\"train\"][rand_int][\"audio\"][\"array\"], autoplay=True, rate=16000)"
   ]
  },
  {
   "cell_type": "code",
   "execution_count": 69,
   "metadata": {
    "colab": {
     "base_uri": "https://localhost:8080/"
    },
    "executionInfo": {
     "elapsed": 423,
     "status": "ok",
     "timestamp": 1663910711009,
     "user": {
      "displayName": "Hyunjung Lee",
      "userId": "15784017024673692926"
     },
     "user_tz": -540
    },
    "id": "qyRTC1634dCF",
    "outputId": "4b7d207b-b7f0-475e-c978-1f0f33d6ecc9"
   },
   "outputs": [
    {
     "ename": "KeyError",
     "evalue": "'text'",
     "output_type": "error",
     "traceback": [
      "\u001b[1;31m---------------------------------------------------------------------------\u001b[0m",
      "\u001b[1;31mKeyError\u001b[0m                                  Traceback (most recent call last)",
      "Cell \u001b[1;32mIn[69], line 2\u001b[0m\n\u001b[0;32m      1\u001b[0m rand_int \u001b[38;5;241m=\u001b[39m random\u001b[38;5;241m.\u001b[39mrandint(\u001b[38;5;241m0\u001b[39m, \u001b[38;5;28mlen\u001b[39m(zeroth_data[\u001b[38;5;124m\"\u001b[39m\u001b[38;5;124mtrain\u001b[39m\u001b[38;5;124m\"\u001b[39m]))\n\u001b[1;32m----> 2\u001b[0m \u001b[38;5;28mprint\u001b[39m(\u001b[38;5;124m\"\u001b[39m\u001b[38;5;124mTarget text:\u001b[39m\u001b[38;5;124m\"\u001b[39m,\u001b[43mzeroth_data\u001b[49m\u001b[43m[\u001b[49m\u001b[38;5;124;43m\"\u001b[39;49m\u001b[38;5;124;43mtrain\u001b[39;49m\u001b[38;5;124;43m\"\u001b[39;49m\u001b[43m]\u001b[49m\u001b[43m[\u001b[49m\u001b[43mrand_int\u001b[49m\u001b[43m]\u001b[49m\u001b[43m[\u001b[49m\u001b[38;5;124;43m\"\u001b[39;49m\u001b[38;5;124;43mtext\u001b[39;49m\u001b[38;5;124;43m\"\u001b[39;49m\u001b[43m]\u001b[49m)\n\u001b[0;32m      3\u001b[0m \u001b[38;5;28mprint\u001b[39m(\u001b[38;5;124m\"\u001b[39m\u001b[38;5;124mInput array shape:\u001b[39m\u001b[38;5;124m\"\u001b[39m, np\u001b[38;5;241m.\u001b[39masarray(zeroth_data[\u001b[38;5;124m\"\u001b[39m\u001b[38;5;124mtrain\u001b[39m\u001b[38;5;124m\"\u001b[39m][rand_int][\u001b[38;5;124m\"\u001b[39m\u001b[38;5;124maudio\u001b[39m\u001b[38;5;124m\"\u001b[39m][\u001b[38;5;124m\"\u001b[39m\u001b[38;5;124marray\u001b[39m\u001b[38;5;124m\"\u001b[39m])\u001b[38;5;241m.\u001b[39mshape)\n\u001b[0;32m      4\u001b[0m \u001b[38;5;28mprint\u001b[39m(\u001b[38;5;124m\"\u001b[39m\u001b[38;5;124mSampling rate:\u001b[39m\u001b[38;5;124m\"\u001b[39m, zeroth_data[\u001b[38;5;124m\"\u001b[39m\u001b[38;5;124mtrain\u001b[39m\u001b[38;5;124m\"\u001b[39m][rand_int][\u001b[38;5;124m\"\u001b[39m\u001b[38;5;124maudio\u001b[39m\u001b[38;5;124m\"\u001b[39m][\u001b[38;5;124m\"\u001b[39m\u001b[38;5;124msampling_rate\u001b[39m\u001b[38;5;124m\"\u001b[39m])\n",
      "\u001b[1;31mKeyError\u001b[0m: 'text'"
     ]
    }
   ],
   "source": [
    "rand_int = random.randint(0, len(zeroth_data[\"train\"]))\n",
    "print(\"Target text:\",zeroth_data[\"train\"][rand_int][\"text\"])\n",
    "print(\"Input array shape:\", np.asarray(zeroth_data[\"train\"][rand_int][\"audio\"][\"array\"]).shape)\n",
    "print(\"Sampling rate:\", zeroth_data[\"train\"][rand_int][\"audio\"][\"sampling_rate\"])"
   ]
  },
  {
   "cell_type": "code",
   "execution_count": 33,
   "metadata": {
    "id": "pLf34Ppw4dCF"
   },
   "outputs": [],
   "source": [
    "def prepare_dataset(batch):\n",
    "    audio = batch[\"audio\"]\n",
    "    batch[\"input_values\"] = processor(audio[\"array\"], sampling_rate=audio[\"sampling_rate\"]).input_values[0]\n",
    "    batch[\"input_length\"] = len(batch[\"input_values\"])\n",
    "    with processor.as_target_processor():\n",
    "        batch[\"labels\"] = processor(batch[\"text\"]).input_ids\n",
    "    return batch"
   ]
  },
  {
   "cell_type": "code",
   "execution_count": 34,
   "metadata": {
    "id": "ya4Mpzju4dCG"
   },
   "outputs": [
    {
     "data": {
      "application/vnd.jupyter.widget-view+json": {
       "model_id": "de913862326c410d84506e3173c71c68",
       "version_major": 2,
       "version_minor": 0
      },
      "text/plain": [
       "Map:   0%|          | 0/22263 [00:00<?, ? examples/s]"
      ]
     },
     "metadata": {},
     "output_type": "display_data"
    },
    {
     "name": "stderr",
     "output_type": "stream",
     "text": [
      "C:\\Users\\User\\AppData\\Local\\Programs\\Python\\Python310\\lib\\site-packages\\transformers\\models\\wav2vec2\\processing_wav2vec2.py:156: UserWarning: `as_target_processor` is deprecated and will be removed in v5 of Transformers. You can process your labels by using the argument `text` of the regular `__call__` method (either in the same call as your audio inputs, or in a separate call.\n",
      "  warnings.warn(\n"
     ]
    },
    {
     "data": {
      "application/vnd.jupyter.widget-view+json": {
       "model_id": "4957cfb423e74a5fbf8a7ba665c9c1ee",
       "version_major": 2,
       "version_minor": 0
      },
      "text/plain": [
       "Map:   0%|          | 0/457 [00:00<?, ? examples/s]"
      ]
     },
     "metadata": {},
     "output_type": "display_data"
    }
   ],
   "source": [
    "zeroth_data = zeroth_data.map(prepare_dataset, remove_columns=zeroth_data.column_names[\"train\"], num_proc=1)"
   ]
  },
  {
   "cell_type": "code",
   "execution_count": 35,
   "metadata": {
    "colab": {
     "base_uri": "https://localhost:8080/",
     "height": 49,
     "referenced_widgets": [
      "e5bb10c1a2344a4aa0b928cbc248db68",
      "4c924a9090c7410a929f4d8af4e23d3f",
      "1e4263c1fa264abb841988b4169fee14",
      "be725e415b804b1994efacbb17c41dc5",
      "8b6fc3b341634905af7987dde8c772f7",
      "111c21f708604c0388eb948e93491164",
      "4f8263a7e3d14c678b5597e80c826085",
      "2eec32d468d94745b9decb35c839e430",
      "0ecbfb4ab5a54ae18ba1d43cd410b357",
      "a8194a5d062b4351bfb4f516f5f3116b",
      "e9cc96aa2fc04ef9b167c78177216cd4"
     ]
    },
    "executionInfo": {
     "elapsed": 16,
     "status": "ok",
     "timestamp": 1663910830453,
     "user": {
      "displayName": "Hyunjung Lee",
      "userId": "15784017024673692926"
     },
     "user_tz": -540
    },
    "id": "qwp044L5DaH-",
    "outputId": "1cd9b177-97a4-4b1e-ee42-fe352bda5993"
   },
   "outputs": [
    {
     "data": {
      "application/vnd.jupyter.widget-view+json": {
       "model_id": "774d614b48ec445a902a370eccc04452",
       "version_major": 2,
       "version_minor": 0
      },
      "text/plain": [
       "Filter:   0%|          | 0/22263 [00:00<?, ? examples/s]"
      ]
     },
     "metadata": {},
     "output_type": "display_data"
    }
   ],
   "source": [
    "max_input_length_in_sec = 5.0\n",
    "zeroth_data[\"train\"] = zeroth_data[\"train\"].filter(lambda x: x < max_input_length_in_sec * processor.feature_extractor.sampling_rate, input_columns=[\"input_length\"])"
   ]
  },
  {
   "cell_type": "code",
   "execution_count": null,
   "metadata": {
    "id": "IEhAKkqm7Vvh"
   },
   "outputs": [],
   "source": [
    "#Trainer 세팅"
   ]
  },
  {
   "cell_type": "code",
   "execution_count": 36,
   "metadata": {
    "id": "KShOsdhe4dCG"
   },
   "outputs": [],
   "source": [
    "import torch\n",
    "from dataclasses import dataclass, field\n",
    "from typing import Any, Dict, List, Optional, Union\n",
    "@dataclass\n",
    "class DataCollatorCTCWithPadding:\n",
    "    processor: Wav2Vec2Processor\n",
    "    padding: Union[bool, str] = True\n",
    "    max_length: Optional[int] = None\n",
    "    max_length_labels: Optional[int] = None\n",
    "    pad_to_multiple_of: Optional[int] = None\n",
    "    pad_to_multiple_of_labels: Optional[int] = None\n",
    "    def __call__(self, features: List[Dict[str, Union[List[int], torch.Tensor]]]) -> Dict[str, torch.Tensor]:\n",
    "        input_features = [{\"input_values\": feature[\"input_values\"]} for feature in features]\n",
    "        label_features = [{\"input_ids\": feature[\"labels\"]} for feature in features]\n",
    "\n",
    "        batch = self.processor.pad(\n",
    "            input_features,\n",
    "            padding=self.padding,\n",
    "            max_length=self.max_length,\n",
    "            pad_to_multiple_of=self.pad_to_multiple_of,\n",
    "            return_tensors=\"pt\",\n",
    "        )\n",
    "        with self.processor.as_target_processor():\n",
    "            labels_batch = self.processor.pad(\n",
    "                label_features,\n",
    "                padding=self.padding,\n",
    "                max_length=self.max_length_labels,\n",
    "                pad_to_multiple_of=self.pad_to_multiple_of_labels,\n",
    "                return_tensors=\"pt\",\n",
    "            )\n",
    "        labels = labels_batch[\"input_ids\"].masked_fill(labels_batch.attention_mask.ne(1), -100)\n",
    "\n",
    "        batch[\"labels\"] = labels\n",
    "\n",
    "        return batch"
   ]
  },
  {
   "cell_type": "code",
   "execution_count": 37,
   "metadata": {
    "id": "cayq3Gi_4dCG"
   },
   "outputs": [],
   "source": [
    "data_collator = DataCollatorCTCWithPadding(processor=processor, padding=True)"
   ]
  },
  {
   "cell_type": "code",
   "execution_count": 46,
   "metadata": {
    "colab": {
     "base_uri": "https://localhost:8080/",
     "height": 49,
     "referenced_widgets": [
      "c89641c29ff1482fbccc62c13cc7d2db",
      "60f031f7debd4270be97c1158098d697",
      "041b2b245f75439c91a25a3792fa9e10",
      "73954faa65e64689b3d7cec10fc91324",
      "3b26b62e2dd549819bedff2803193e59",
      "a1449d3b68494c2a951c8c391692824e",
      "2f8db87af3a84e9e846ee83689ffcef4",
      "317eb097fb834a26b0b2100f13033eaa",
      "1f041dfef2b4434f867abde7b1753d97",
      "3d4f928da782436ab3c93e9e9fb4e940",
      "5e26b69e61eb45d7a4a1eecf4ca276d4"
     ]
    },
    "executionInfo": {
     "elapsed": 1398,
     "status": "ok",
     "timestamp": 1663910844559,
     "user": {
      "displayName": "Hyunjung Lee",
      "userId": "15784017024673692926"
     },
     "user_tz": -540
    },
    "id": "R0Clzign4dCH",
    "outputId": "32fd24f7-1511-4913-beee-a9c6983fe884"
   },
   "outputs": [
    {
     "name": "stderr",
     "output_type": "stream",
     "text": [
      "C:\\Users\\User\\AppData\\Local\\Programs\\Python\\Python310\\lib\\site-packages\\datasets\\load.py:759: FutureWarning: The repository for cer contains custom code which must be executed to correctly load the metric. You can inspect the repository content at https://raw.githubusercontent.com/huggingface/datasets/2.19.0/metrics/cer/cer.py\n",
      "You can avoid this message in future by passing the argument `trust_remote_code=True`.\n",
      "Passing `trust_remote_code=True` will be mandatory to load this metric from the next major release of `datasets`.\n",
      "  warnings.warn(\n"
     ]
    }
   ],
   "source": [
    "cer_metric = load_metric(\"cer\")"
   ]
  },
  {
   "cell_type": "code",
   "execution_count": 47,
   "metadata": {
    "id": "5eflLZ5-4dCH"
   },
   "outputs": [],
   "source": [
    "def compute_metrics(pred):\n",
    "    pred_logits = pred.predictions\n",
    "    pred_ids = np.argmax(pred_logits, axis=-1)\n",
    "    pred.label_ids[pred.label_ids == -100] = processor.tokenizer.pad_token_id\n",
    "    pred_str = processor.batch_decode(pred_ids)\n",
    "    # we do not want to group tokens when computing the metrics\n",
    "    label_str = processor.batch_decode(pred.label_ids, group_tokens=False)\n",
    "    cer = cer_metric.compute(predictions=pred_str, references=label_str)\n",
    "    return {\"cer\": cer}"
   ]
  },
  {
   "cell_type": "code",
   "execution_count": 48,
   "metadata": {
    "colab": {
     "base_uri": "https://localhost:8080/",
     "height": 193,
     "referenced_widgets": [
      "439838e5a2c948d8aab2fae692350d09",
      "a1b662a5e34d4f808ccb73f99e466377",
      "4dec70aba00d45339a8f87733c664c8b",
      "12ff19b19e574e6096370b29f0429d64",
      "3dc81b8f3a92410f95555b72aaa8a396",
      "6ef66ee5efc24241893eece8c0cf53ee",
      "4a83039ea9d44dada4c7e9c7d0458790",
      "fe7737dee44d42fcabdc9344a62d23b6",
      "6c5743d38548432f81ff5fb85a815776",
      "218ed5b2a97d4e24a316fc25bc5c08a0",
      "028821f52aed49be9ddf20092882d2b0",
      "2e71714a3b1643a5ba6f5948875ac30b",
      "5f95aa2024164d0aa276420cfb2eeeed",
      "530a48b9ad004be28b8338adab952255",
      "9925dd2e71c3435f80dead6aabc789a3",
      "2188afcee2bb4b3fa4f72971a6a67598",
      "38ebc42d33dc4aa48f3c4b34c6617016",
      "83b0831514f74e1cbc3c879e4a037093",
      "8beabbd6fb9f4415abde501d77b221a9",
      "a7093a476b0c4c35bdce897046fb0512",
      "68a8f1df126e4a13af38956e9deffeb6",
      "b7862f4e0b05418091c2e22c2e3c5a31"
     ]
    },
    "executionInfo": {
     "elapsed": 70088,
     "status": "ok",
     "timestamp": 1663910918090,
     "user": {
      "displayName": "Hyunjung Lee",
      "userId": "15784017024673692926"
     },
     "user_tz": -540
    },
    "id": "MvfiB2xO4dCH",
    "outputId": "91750cbc-b0c8-4564-f90c-5d9544683632"
   },
   "outputs": [
    {
     "data": {
      "application/vnd.jupyter.widget-view+json": {
       "model_id": "1c23b9fe5f884e8a97551fbd7c045952",
       "version_major": 2,
       "version_minor": 0
      },
      "text/plain": [
       "config.json:   0%|          | 0.00/1.57k [00:00<?, ?B/s]"
      ]
     },
     "metadata": {},
     "output_type": "display_data"
    },
    {
     "data": {
      "application/vnd.jupyter.widget-view+json": {
       "model_id": "35f3c8d863fe45049017f837abe8fa42",
       "version_major": 2,
       "version_minor": 0
      },
      "text/plain": [
       "pytorch_model.bin:   0%|          | 0.00/1.27G [00:00<?, ?B/s]"
      ]
     },
     "metadata": {},
     "output_type": "display_data"
    },
    {
     "name": "stderr",
     "output_type": "stream",
     "text": [
      "Some weights of Wav2Vec2ForCTC were not initialized from the model checkpoint at facebook/wav2vec2-xls-r-300m and are newly initialized: ['lm_head.bias', 'lm_head.weight', 'wav2vec2.encoder.pos_conv_embed.conv.parametrizations.weight.original0', 'wav2vec2.encoder.pos_conv_embed.conv.parametrizations.weight.original1']\n",
      "You should probably TRAIN this model on a down-stream task to be able to use it for predictions and inference.\n"
     ]
    }
   ],
   "source": [
    "from transformers import Wav2Vec2ForCTC\n",
    "\n",
    "model = Wav2Vec2ForCTC.from_pretrained(\n",
    "    \"facebook/wav2vec2-xls-r-300m\",\n",
    "    attention_dropout=0.0,\n",
    "    hidden_dropout=0.0,\n",
    "    feat_proj_dropout=0.0,\n",
    "    mask_time_prob=0.05,\n",
    "    layerdrop=0.0,\n",
    "    gradient_checkpointing=True, \n",
    "    ctc_loss_reduction=\"mean\", \n",
    "    pad_token_id=processor.tokenizer.pad_token_id,\n",
    "    vocab_size=len(processor.tokenizer)\n",
    ")"
   ]
  },
  {
   "cell_type": "code",
   "execution_count": 49,
   "metadata": {
    "colab": {
     "base_uri": "https://localhost:8080/"
    },
    "executionInfo": {
     "elapsed": 30,
     "status": "ok",
     "timestamp": 1663910918091,
     "user": {
      "displayName": "Hyunjung Lee",
      "userId": "15784017024673692926"
     },
     "user_tz": -540
    },
    "id": "_NDMGthj4dCH",
    "outputId": "e0de50fe-1c87-41c4-b37a-f523fe021f29"
   },
   "outputs": [
    {
     "name": "stderr",
     "output_type": "stream",
     "text": [
      "C:\\Users\\User\\AppData\\Local\\Programs\\Python\\Python310\\lib\\site-packages\\transformers\\models\\wav2vec2\\modeling_wav2vec2.py:1914: FutureWarning: The method `freeze_feature_extractor` is deprecated and will be removed in Transformers v5. Please use the equivalent `freeze_feature_encoder` method instead.\n",
      "  warnings.warn(\n"
     ]
    }
   ],
   "source": [
    "model.freeze_feature_extractor()"
   ]
  },
  {
   "cell_type": "code",
   "execution_count": 50,
   "metadata": {
    "id": "hLzJVrLK4dCI"
   },
   "outputs": [],
   "source": [
    "from transformers import TrainingArguments\n",
    "\n",
    "training_args = TrainingArguments(\n",
    "  output_dir=repo_name,\n",
    "  group_by_length=True,\n",
    "  per_device_train_batch_size=8,\n",
    "  evaluation_strategy=\"steps\",\n",
    "  num_train_epochs=30,\n",
    "  fp16=True,\n",
    "  gradient_checkpointing=True, \n",
    "  save_steps=500,\n",
    "  eval_steps=500,\n",
    "  logging_steps=500,\n",
    "  learning_rate=1e-4,\n",
    "  weight_decay=0.005,\n",
    "  warmup_steps=1000,\n",
    "  save_total_limit=2,\n",
    "  push_to_hub=True,\n",
    ")"
   ]
  },
  {
   "cell_type": "code",
   "execution_count": 51,
   "metadata": {
    "colab": {
     "base_uri": "https://localhost:8080/"
    },
    "executionInfo": {
     "elapsed": 23431,
     "status": "ok",
     "timestamp": 1663910943639,
     "user": {
      "displayName": "Hyunjung Lee",
      "userId": "15784017024673692926"
     },
     "user_tz": -540
    },
    "id": "mIy_hSdJ4dCI",
    "outputId": "e593b748-6840-471b-a39a-8e837959c542"
   },
   "outputs": [],
   "source": [
    "from transformers import Trainer\n",
    "\n",
    "trainer = Trainer(\n",
    "    model=model,\n",
    "    data_collator=data_collator,\n",
    "    args=training_args,\n",
    "    compute_metrics=compute_metrics,\n",
    "    train_dataset=zeroth_data[\"train\"],\n",
    "    eval_dataset=zeroth_data[\"test\"],\n",
    "    tokenizer=processor.feature_extractor,\n",
    ")"
   ]
  },
  {
   "cell_type": "markdown",
   "metadata": {
    "id": "7AVeKlxEf9uY"
   },
   "source": [
    "##6.&nbsp;모델 훈련"
   ]
  },
  {
   "cell_type": "code",
   "execution_count": 52,
   "metadata": {
    "colab": {
     "base_uri": "https://localhost:8080/",
     "height": 1000
    },
    "executionInfo": {
     "elapsed": 5245724,
     "status": "ok",
     "timestamp": 1663916198362,
     "user": {
      "displayName": "Hyunjung Lee",
      "userId": "15784017024673692926"
     },
     "user_tz": -540
    },
    "id": "AqmdpHef4dCI",
    "outputId": "f43b4ee0-b0c7-4f72-efa0-6b454c24e0c2"
   },
   "outputs": [
    {
     "name": "stderr",
     "output_type": "stream",
     "text": [
      "C:\\Users\\User\\AppData\\Local\\Programs\\Python\\Python310\\lib\\site-packages\\transformers\\models\\wav2vec2\\processing_wav2vec2.py:156: UserWarning: `as_target_processor` is deprecated and will be removed in v5 of Transformers. You can process your labels by using the argument `text` of the regular `__call__` method (either in the same call as your audio inputs, or in a separate call.\n",
      "  warnings.warn(\n",
      "C:\\Users\\User\\AppData\\Local\\Programs\\Python\\Python310\\lib\\site-packages\\torch\\utils\\checkpoint.py:464: UserWarning: torch.utils.checkpoint: the use_reentrant parameter should be passed explicitly. In version 2.4 we will raise an exception if use_reentrant is not passed. use_reentrant=False is recommended, but if you need to preserve the current default behavior, you can pass use_reentrant=True. Refer to docs for more details on the differences between the two variants.\n",
      "  warnings.warn(\n",
      "C:\\Users\\User\\AppData\\Local\\Programs\\Python\\Python310\\lib\\site-packages\\torch\\autograd\\graph.py:744: UserWarning: Plan failed with a cudnnException: CUDNN_BACKEND_EXECUTION_PLAN_DESCRIPTOR: cudnnFinalize Descriptor Failed cudnn_status: CUDNN_STATUS_NOT_SUPPORTED (Triggered internally at ..\\aten\\src\\ATen\\native\\cudnn\\Conv_v8.cpp:919.)\n",
      "  return Variable._execution_engine.run_backward(  # Calls into the C++ engine to run the backward pass\n"
     ]
    },
    {
     "data": {
      "text/html": [
       "\n",
       "    <div>\n",
       "      \n",
       "      <progress value='4620' max='4620' style='width:300px; height:20px; vertical-align: middle;'></progress>\n",
       "      [4620/4620 1:50:25, Epoch 30/30]\n",
       "    </div>\n",
       "    <table border=\"1\" class=\"dataframe\">\n",
       "  <thead>\n",
       " <tr style=\"text-align: left;\">\n",
       "      <th>Step</th>\n",
       "      <th>Training Loss</th>\n",
       "      <th>Validation Loss</th>\n",
       "      <th>Cer</th>\n",
       "    </tr>\n",
       "  </thead>\n",
       "  <tbody>\n",
       "    <tr>\n",
       "      <td>500</td>\n",
       "      <td>4.670800</td>\n",
       "      <td>3.516954</td>\n",
       "      <td>0.980371</td>\n",
       "    </tr>\n",
       "    <tr>\n",
       "      <td>1000</td>\n",
       "      <td>1.394900</td>\n",
       "      <td>0.923821</td>\n",
       "      <td>0.227758</td>\n",
       "    </tr>\n",
       "    <tr>\n",
       "      <td>1500</td>\n",
       "      <td>0.386500</td>\n",
       "      <td>0.821764</td>\n",
       "      <td>0.196860</td>\n",
       "    </tr>\n",
       "    <tr>\n",
       "      <td>2000</td>\n",
       "      <td>0.217600</td>\n",
       "      <td>0.841454</td>\n",
       "      <td>0.185443</td>\n",
       "    </tr>\n",
       "    <tr>\n",
       "      <td>2500</td>\n",
       "      <td>0.152400</td>\n",
       "      <td>0.898571</td>\n",
       "      <td>0.175749</td>\n",
       "    </tr>\n",
       "    <tr>\n",
       "      <td>3000</td>\n",
       "      <td>0.126200</td>\n",
       "      <td>0.890366</td>\n",
       "      <td>0.169021</td>\n",
       "    </tr>\n",
       "    <tr>\n",
       "      <td>3500</td>\n",
       "      <td>0.106800</td>\n",
       "      <td>0.865329</td>\n",
       "      <td>0.162385</td>\n",
       "    </tr>\n",
       "    <tr>\n",
       "      <td>4000</td>\n",
       "      <td>0.090700</td>\n",
       "      <td>0.840894</td>\n",
       "      <td>0.155416</td>\n",
       "    </tr>\n",
       "    <tr>\n",
       "      <td>4500</td>\n",
       "      <td>0.078900</td>\n",
       "      <td>0.867323</td>\n",
       "      <td>0.154211</td>\n",
       "    </tr>\n",
       "  </tbody>\n",
       "</table><p>"
      ],
      "text/plain": [
       "<IPython.core.display.HTML object>"
      ]
     },
     "metadata": {},
     "output_type": "display_data"
    },
    {
     "name": "stderr",
     "output_type": "stream",
     "text": [
      "C:\\Users\\User\\AppData\\Local\\Programs\\Python\\Python310\\lib\\site-packages\\torch\\nn\\modules\\conv.py:306: UserWarning: Plan failed with a cudnnException: CUDNN_BACKEND_EXECUTION_PLAN_DESCRIPTOR: cudnnFinalize Descriptor Failed cudnn_status: CUDNN_STATUS_NOT_SUPPORTED (Triggered internally at ..\\aten\\src\\ATen\\native\\cudnn\\Conv_v8.cpp:919.)\n",
      "  return F.conv1d(input, weight, bias, self.stride,\n",
      "C:\\Users\\User\\AppData\\Local\\Programs\\Python\\Python310\\lib\\site-packages\\transformers\\models\\wav2vec2\\processing_wav2vec2.py:156: UserWarning: `as_target_processor` is deprecated and will be removed in v5 of Transformers. You can process your labels by using the argument `text` of the regular `__call__` method (either in the same call as your audio inputs, or in a separate call.\n",
      "  warnings.warn(\n",
      "C:\\Users\\User\\AppData\\Local\\Programs\\Python\\Python310\\lib\\site-packages\\torch\\utils\\checkpoint.py:464: UserWarning: torch.utils.checkpoint: the use_reentrant parameter should be passed explicitly. In version 2.4 we will raise an exception if use_reentrant is not passed. use_reentrant=False is recommended, but if you need to preserve the current default behavior, you can pass use_reentrant=True. Refer to docs for more details on the differences between the two variants.\n",
      "  warnings.warn(\n",
      "C:\\Users\\User\\AppData\\Local\\Programs\\Python\\Python310\\lib\\site-packages\\torch\\autograd\\graph.py:744: UserWarning: Plan failed with a cudnnException: CUDNN_BACKEND_EXECUTION_PLAN_DESCRIPTOR: cudnnFinalize Descriptor Failed cudnn_status: CUDNN_STATUS_NOT_SUPPORTED (Triggered internally at ..\\aten\\src\\ATen\\native\\cudnn\\Conv_v8.cpp:919.)\n",
      "  return Variable._execution_engine.run_backward(  # Calls into the C++ engine to run the backward pass\n",
      "C:\\Users\\User\\AppData\\Local\\Programs\\Python\\Python310\\lib\\site-packages\\transformers\\models\\wav2vec2\\processing_wav2vec2.py:156: UserWarning: `as_target_processor` is deprecated and will be removed in v5 of Transformers. You can process your labels by using the argument `text` of the regular `__call__` method (either in the same call as your audio inputs, or in a separate call.\n",
      "  warnings.warn(\n",
      "C:\\Users\\User\\AppData\\Local\\Programs\\Python\\Python310\\lib\\site-packages\\torch\\utils\\checkpoint.py:464: UserWarning: torch.utils.checkpoint: the use_reentrant parameter should be passed explicitly. In version 2.4 we will raise an exception if use_reentrant is not passed. use_reentrant=False is recommended, but if you need to preserve the current default behavior, you can pass use_reentrant=True. Refer to docs for more details on the differences between the two variants.\n",
      "  warnings.warn(\n",
      "C:\\Users\\User\\AppData\\Local\\Programs\\Python\\Python310\\lib\\site-packages\\torch\\autograd\\graph.py:744: UserWarning: Plan failed with a cudnnException: CUDNN_BACKEND_EXECUTION_PLAN_DESCRIPTOR: cudnnFinalize Descriptor Failed cudnn_status: CUDNN_STATUS_NOT_SUPPORTED (Triggered internally at ..\\aten\\src\\ATen\\native\\cudnn\\Conv_v8.cpp:919.)\n",
      "  return Variable._execution_engine.run_backward(  # Calls into the C++ engine to run the backward pass\n",
      "C:\\Users\\User\\AppData\\Local\\Programs\\Python\\Python310\\lib\\site-packages\\transformers\\models\\wav2vec2\\processing_wav2vec2.py:156: UserWarning: `as_target_processor` is deprecated and will be removed in v5 of Transformers. You can process your labels by using the argument `text` of the regular `__call__` method (either in the same call as your audio inputs, or in a separate call.\n",
      "  warnings.warn(\n",
      "C:\\Users\\User\\AppData\\Local\\Programs\\Python\\Python310\\lib\\site-packages\\torch\\utils\\checkpoint.py:464: UserWarning: torch.utils.checkpoint: the use_reentrant parameter should be passed explicitly. In version 2.4 we will raise an exception if use_reentrant is not passed. use_reentrant=False is recommended, but if you need to preserve the current default behavior, you can pass use_reentrant=True. Refer to docs for more details on the differences between the two variants.\n",
      "  warnings.warn(\n",
      "C:\\Users\\User\\AppData\\Local\\Programs\\Python\\Python310\\lib\\site-packages\\torch\\autograd\\graph.py:744: UserWarning: Plan failed with a cudnnException: CUDNN_BACKEND_EXECUTION_PLAN_DESCRIPTOR: cudnnFinalize Descriptor Failed cudnn_status: CUDNN_STATUS_NOT_SUPPORTED (Triggered internally at ..\\aten\\src\\ATen\\native\\cudnn\\Conv_v8.cpp:919.)\n",
      "  return Variable._execution_engine.run_backward(  # Calls into the C++ engine to run the backward pass\n",
      "C:\\Users\\User\\AppData\\Local\\Programs\\Python\\Python310\\lib\\site-packages\\transformers\\models\\wav2vec2\\processing_wav2vec2.py:156: UserWarning: `as_target_processor` is deprecated and will be removed in v5 of Transformers. You can process your labels by using the argument `text` of the regular `__call__` method (either in the same call as your audio inputs, or in a separate call.\n",
      "  warnings.warn(\n",
      "C:\\Users\\User\\AppData\\Local\\Programs\\Python\\Python310\\lib\\site-packages\\torch\\utils\\checkpoint.py:464: UserWarning: torch.utils.checkpoint: the use_reentrant parameter should be passed explicitly. In version 2.4 we will raise an exception if use_reentrant is not passed. use_reentrant=False is recommended, but if you need to preserve the current default behavior, you can pass use_reentrant=True. Refer to docs for more details on the differences between the two variants.\n",
      "  warnings.warn(\n",
      "C:\\Users\\User\\AppData\\Local\\Programs\\Python\\Python310\\lib\\site-packages\\torch\\autograd\\graph.py:744: UserWarning: Plan failed with a cudnnException: CUDNN_BACKEND_EXECUTION_PLAN_DESCRIPTOR: cudnnFinalize Descriptor Failed cudnn_status: CUDNN_STATUS_NOT_SUPPORTED (Triggered internally at ..\\aten\\src\\ATen\\native\\cudnn\\Conv_v8.cpp:919.)\n",
      "  return Variable._execution_engine.run_backward(  # Calls into the C++ engine to run the backward pass\n",
      "C:\\Users\\User\\AppData\\Local\\Programs\\Python\\Python310\\lib\\site-packages\\transformers\\models\\wav2vec2\\processing_wav2vec2.py:156: UserWarning: `as_target_processor` is deprecated and will be removed in v5 of Transformers. You can process your labels by using the argument `text` of the regular `__call__` method (either in the same call as your audio inputs, or in a separate call.\n",
      "  warnings.warn(\n",
      "C:\\Users\\User\\AppData\\Local\\Programs\\Python\\Python310\\lib\\site-packages\\torch\\utils\\checkpoint.py:464: UserWarning: torch.utils.checkpoint: the use_reentrant parameter should be passed explicitly. In version 2.4 we will raise an exception if use_reentrant is not passed. use_reentrant=False is recommended, but if you need to preserve the current default behavior, you can pass use_reentrant=True. Refer to docs for more details on the differences between the two variants.\n",
      "  warnings.warn(\n",
      "C:\\Users\\User\\AppData\\Local\\Programs\\Python\\Python310\\lib\\site-packages\\transformers\\models\\wav2vec2\\processing_wav2vec2.py:156: UserWarning: `as_target_processor` is deprecated and will be removed in v5 of Transformers. You can process your labels by using the argument `text` of the regular `__call__` method (either in the same call as your audio inputs, or in a separate call.\n",
      "  warnings.warn(\n",
      "C:\\Users\\User\\AppData\\Local\\Programs\\Python\\Python310\\lib\\site-packages\\torch\\utils\\checkpoint.py:464: UserWarning: torch.utils.checkpoint: the use_reentrant parameter should be passed explicitly. In version 2.4 we will raise an exception if use_reentrant is not passed. use_reentrant=False is recommended, but if you need to preserve the current default behavior, you can pass use_reentrant=True. Refer to docs for more details on the differences between the two variants.\n",
      "  warnings.warn(\n",
      "C:\\Users\\User\\AppData\\Local\\Programs\\Python\\Python310\\lib\\site-packages\\torch\\autograd\\graph.py:744: UserWarning: Plan failed with a cudnnException: CUDNN_BACKEND_EXECUTION_PLAN_DESCRIPTOR: cudnnFinalize Descriptor Failed cudnn_status: CUDNN_STATUS_NOT_SUPPORTED (Triggered internally at ..\\aten\\src\\ATen\\native\\cudnn\\Conv_v8.cpp:919.)\n",
      "  return Variable._execution_engine.run_backward(  # Calls into the C++ engine to run the backward pass\n",
      "C:\\Users\\User\\AppData\\Local\\Programs\\Python\\Python310\\lib\\site-packages\\transformers\\models\\wav2vec2\\processing_wav2vec2.py:156: UserWarning: `as_target_processor` is deprecated and will be removed in v5 of Transformers. You can process your labels by using the argument `text` of the regular `__call__` method (either in the same call as your audio inputs, or in a separate call.\n",
      "  warnings.warn(\n",
      "C:\\Users\\User\\AppData\\Local\\Programs\\Python\\Python310\\lib\\site-packages\\torch\\utils\\checkpoint.py:464: UserWarning: torch.utils.checkpoint: the use_reentrant parameter should be passed explicitly. In version 2.4 we will raise an exception if use_reentrant is not passed. use_reentrant=False is recommended, but if you need to preserve the current default behavior, you can pass use_reentrant=True. Refer to docs for more details on the differences between the two variants.\n",
      "  warnings.warn(\n",
      "C:\\Users\\User\\AppData\\Local\\Programs\\Python\\Python310\\lib\\site-packages\\torch\\autograd\\graph.py:744: UserWarning: Plan failed with a cudnnException: CUDNN_BACKEND_EXECUTION_PLAN_DESCRIPTOR: cudnnFinalize Descriptor Failed cudnn_status: CUDNN_STATUS_NOT_SUPPORTED (Triggered internally at ..\\aten\\src\\ATen\\native\\cudnn\\Conv_v8.cpp:919.)\n",
      "  return Variable._execution_engine.run_backward(  # Calls into the C++ engine to run the backward pass\n",
      "C:\\Users\\User\\AppData\\Local\\Programs\\Python\\Python310\\lib\\site-packages\\transformers\\models\\wav2vec2\\processing_wav2vec2.py:156: UserWarning: `as_target_processor` is deprecated and will be removed in v5 of Transformers. You can process your labels by using the argument `text` of the regular `__call__` method (either in the same call as your audio inputs, or in a separate call.\n",
      "  warnings.warn(\n",
      "C:\\Users\\User\\AppData\\Local\\Programs\\Python\\Python310\\lib\\site-packages\\torch\\utils\\checkpoint.py:464: UserWarning: torch.utils.checkpoint: the use_reentrant parameter should be passed explicitly. In version 2.4 we will raise an exception if use_reentrant is not passed. use_reentrant=False is recommended, but if you need to preserve the current default behavior, you can pass use_reentrant=True. Refer to docs for more details on the differences between the two variants.\n",
      "  warnings.warn(\n",
      "C:\\Users\\User\\AppData\\Local\\Programs\\Python\\Python310\\lib\\site-packages\\torch\\autograd\\graph.py:744: UserWarning: Plan failed with a cudnnException: CUDNN_BACKEND_EXECUTION_PLAN_DESCRIPTOR: cudnnFinalize Descriptor Failed cudnn_status: CUDNN_STATUS_NOT_SUPPORTED (Triggered internally at ..\\aten\\src\\ATen\\native\\cudnn\\Conv_v8.cpp:919.)\n",
      "  return Variable._execution_engine.run_backward(  # Calls into the C++ engine to run the backward pass\n",
      "C:\\Users\\User\\AppData\\Local\\Programs\\Python\\Python310\\lib\\site-packages\\transformers\\models\\wav2vec2\\processing_wav2vec2.py:156: UserWarning: `as_target_processor` is deprecated and will be removed in v5 of Transformers. You can process your labels by using the argument `text` of the regular `__call__` method (either in the same call as your audio inputs, or in a separate call.\n",
      "  warnings.warn(\n",
      "C:\\Users\\User\\AppData\\Local\\Programs\\Python\\Python310\\lib\\site-packages\\torch\\utils\\checkpoint.py:464: UserWarning: torch.utils.checkpoint: the use_reentrant parameter should be passed explicitly. In version 2.4 we will raise an exception if use_reentrant is not passed. use_reentrant=False is recommended, but if you need to preserve the current default behavior, you can pass use_reentrant=True. Refer to docs for more details on the differences between the two variants.\n",
      "  warnings.warn(\n",
      "C:\\Users\\User\\AppData\\Local\\Programs\\Python\\Python310\\lib\\site-packages\\torch\\autograd\\graph.py:744: UserWarning: Plan failed with a cudnnException: CUDNN_BACKEND_EXECUTION_PLAN_DESCRIPTOR: cudnnFinalize Descriptor Failed cudnn_status: CUDNN_STATUS_NOT_SUPPORTED (Triggered internally at ..\\aten\\src\\ATen\\native\\cudnn\\Conv_v8.cpp:919.)\n",
      "  return Variable._execution_engine.run_backward(  # Calls into the C++ engine to run the backward pass\n"
     ]
    },
    {
     "data": {
      "text/plain": [
       "TrainOutput(global_step=4620, training_loss=0.7837989130061426, metrics={'train_runtime': 6629.6833, 'train_samples_per_second': 5.566, 'train_steps_per_second': 0.697, 'total_flos': 5.198172364312105e+18, 'train_loss': 0.7837989130061426, 'epoch': 30.0})"
      ]
     },
     "execution_count": 52,
     "metadata": {},
     "output_type": "execute_result"
    }
   ],
   "source": [
    "trainer.train()"
   ]
  },
  {
   "cell_type": "markdown",
   "metadata": {},
   "source": [
    "1500단계까지 학습 및 검증 손실이 모두 크게 감소하였으며 문자 오류율도 대폭 감소.\n",
    "이러한 메트릭은 모델이 효과적으로 학습하고, (검증 손실에서 볼 수 있듯이) 새로운 데이터에 더 잘 일반화하고, \n",
    "(CER의 감소에서 볼 수 있듯이) 예측이 더 정확해지고 있음을 호ㅏㄱ인 가능"
   ]
  },
  {
   "cell_type": "code",
   "execution_count": 54,
   "metadata": {
    "colab": {
     "base_uri": "https://localhost:8080/",
     "height": 404
    },
    "executionInfo": {
     "elapsed": 543,
     "status": "ok",
     "timestamp": 1663920209963,
     "user": {
      "displayName": "Hyunjung Lee",
      "userId": "15784017024673692926"
     },
     "user_tz": -540
    },
    "id": "Xjbxa4FNRWVe",
    "outputId": "d5269412-3d96-41ba-aa95-ea9314e93505"
   },
   "outputs": [
    {
     "data": {
      "image/png": "[encoded data removed]",
      "text/plain": [
       "<Figure size 800x600 with 1 Axes>"
      ]
     },
     "metadata": {},
     "output_type": "display_data"
    }
   ],
   "source": [
    "import matplotlib.pyplot as plt\n",
    "\n",
    "x  = [500, 1000, 1500, 2000, 2500, 3000, 3500, 4000, 4500]\n",
    "y = [0.955, 0.248, 0.208, 0.190, 0.184, 0.174, 0.180, 0.169, 0.163]\n",
    "plt.figure(figsize=(8,6))\n",
    "plt.plot(x, y)\n",
    "plt.plot()\n",
    "\n",
    "plt.xlabel(\"Step\")\n",
    "plt.ylabel(\"CER\")\n",
    "plt.title(\"CER Graph\")\n",
    "plt.show()"
   ]
  },
  {
   "cell_type": "code",
   "execution_count": 55,
   "metadata": {
    "colab": {
     "base_uri": "https://localhost:8080/",
     "height": 404
    },
    "executionInfo": {
     "elapsed": 617,
     "status": "ok",
     "timestamp": 1663920446040,
     "user": {
      "displayName": "Hyunjung Lee",
      "userId": "15784017024673692926"
     },
     "user_tz": -540
    },
    "id": "aam1kXkG68Ym",
    "outputId": "72f23e24-a5f0-48d8-95f5-0845dc50302c"
   },
   "outputs": [
    {
     "data": {
      "image/png": "[encoded data removed]",
      "text/plain": [
       "<Figure size 800x600 with 1 Axes>"
      ]
     },
     "metadata": {},
     "output_type": "display_data"
    }
   ],
   "source": [
    "x  = [500, 1000, 1500, 2000, 2500, 3000, 3500, 4000, 4500]\n",
    "y1 = [4.833, 1.243, 0.365, 0.210, 0.150, 0.124, 0.104, 0.092, 0.080]\n",
    "y2 = [3.462, 1.004, 0.874, 0.879, 0.932, 0.877, 0.979, 0.946, 0.922]\n",
    "plt.figure(figsize=(8,6))\n",
    "plt.plot(x, y1, label=\"Training Loss\")\n",
    "plt.plot(x, y2, label=\"Validation Loss\")\n",
    "plt.plot()\n",
    "\n",
    "plt.xlabel(\"Step\")\n",
    "plt.ylabel(\"Loss\")\n",
    "plt.title(\"Training & Validation Loss Graph\")\n",
    "plt.legend()\n",
    "plt.show()"
   ]
  },
  {
   "cell_type": "markdown",
   "metadata": {
    "id": "NgNeZXyp8XmI"
   },
   "source": [
    "## 7.&nbsp;모델 저장"
   ]
  },
  {
   "cell_type": "code",
   "execution_count": 56,
   "metadata": {
    "colab": {
     "base_uri": "https://localhost:8080/",
     "height": 577,
     "referenced_widgets": [
      "0fcbd21cb6e7474ca8f66ae9d837741d",
      "a76db059eb74489a87a63b074fe84272",
      "ca38167b10c24fbfb29b3b5686367f5d",
      "e5cf425c436847a3b08af2785ab3ac0f",
      "82f5d46b67244893a820cbed4ff939ae",
      "01cfa7cc707142b898dba385f82c4a47",
      "23dc162fca924e378a3ef4edeab5b021",
      "ddce011f22564f31b57ebab7be80b925",
      "ba86603b1ca146979b9b35aecbee94d0",
      "a11115de235149379c876baa7637d61c",
      "0a51920ce48e46e2b52f279ef4d86b80",
      "6a631c893d594bcfb22ff64ec8780b60",
      "2e8d919be25a4382a915e8c2ca82e876",
      "1b15478d821e45f9b8c3fa5ca3562381",
      "802451b887474b9e87083e607a11ff07",
      "302209a692cf44399e5f786296a12bb4",
      "1f4cceea11b74334967a55423c63f735",
      "9129bc64871645e9962e7198ec5508a4",
      "9fcf11ab67674102bb552b35cfe4e826",
      "8eaba8d199ad4a33864555dc7f75a953",
      "f649dc81e256422ba6eff93c07eb60e4",
      "31c19f36d662492aba2f7ca72a74b575"
     ]
    },
    "executionInfo": {
     "elapsed": 1321369,
     "status": "ok",
     "timestamp": 1663917891225,
     "user": {
      "displayName": "Hyunjung Lee",
      "userId": "15784017024673692926"
     },
     "user_tz": -540
    },
    "id": "c8iePkMy7zGW",
    "outputId": "0446ffbe-b229-441c-e0b9-6fe8f8918032"
   },
   "outputs": [
    {
     "data": {
      "application/vnd.jupyter.widget-view+json": {
       "model_id": "64b5600ccf2145a1bf685bc22e76e9de",
       "version_major": 2,
       "version_minor": 0
      },
      "text/plain": [
       "model.safetensors:   0%|          | 0.00/1.26G [00:00<?, ?B/s]"
      ]
     },
     "metadata": {},
     "output_type": "display_data"
    },
    {
     "data": {
      "text/plain": [
       "CommitInfo(commit_url='https://huggingface.co/Ljrabbit/wav2vec2-large-xls-r-300m-korean-test0/commit/8890b103da771f7b8bfa679fab65670d7e78772f', commit_message='End of training', commit_description='', oid='8890b103da771f7b8bfa679fab65670d7e78772f', pr_url=None, pr_revision=None, pr_num=None)"
      ]
     },
     "execution_count": 56,
     "metadata": {},
     "output_type": "execute_result"
    }
   ],
   "source": [
    "trainer.push_to_hub()"
   ]
  },
  {
   "cell_type": "markdown",
   "metadata": {
    "id": "dN-tQdGJ8kac"
   },
   "source": [
    "## 8.&nbsp;모델 평가"
   ]
  },
  {
   "cell_type": "code",
   "execution_count": 59,
   "metadata": {
    "id": "G3h2_wCbDe4z"
   },
   "outputs": [],
   "source": [
    "def map_to_result(batch):\n",
    "  with torch.no_grad():\n",
    "    input_values = torch.tensor(batch[\"input_values\"], device=\"cuda\").unsqueeze(0)\n",
    "    logits = model(input_values).logits\n",
    "  pred_ids = torch.argmax(logits, dim=-1)\n",
    "  batch[\"pred_str\"] = processor.batch_decode(pred_ids)[0]\n",
    "  batch[\"text\"] = processor.decode(batch[\"labels\"], group_tokens=False)\n",
    "  return batch"
   ]
  },
  {
   "cell_type": "code",
   "execution_count": 60,
   "metadata": {
    "colab": {
     "base_uri": "https://localhost:8080/",
     "height": 86,
     "referenced_widgets": [
      "691c280323874c548ef199797674a10d",
      "03d77a8429844e5eae4f1e098cef7530",
      "f0d9d8e29248444f89fb2ee3b2e2f9a7",
      "965aab196ac64203a44a296664c745f0",
      "6b1dcb2a96a54c34b902e8bb946813e9",
      "0fa55fc0c48f44f283b6cbce669d3e90",
      "c336d9a9cae74a70b5132e52013786bb",
      "e3297bd0d60f4fe39ab5781854826df9",
      "4990daf575164cf6ab70fedcfbda505f",
      "339e2d1abf4740efb829251a749b1fea",
      "876d50f01fd3461f9960e580800d4502"
     ]
    },
    "executionInfo": {
     "elapsed": 87829,
     "status": "ok",
     "timestamp": 1663916308813,
     "user": {
      "displayName": "Hyunjung Lee",
      "userId": "15784017024673692926"
     },
     "user_tz": -540
    },
    "id": "Cl8KtavKFFgh",
    "outputId": "c44d5990-f925-4076-b5fa-4a835a36d0aa"
   },
   "outputs": [
    {
     "name": "stderr",
     "output_type": "stream",
     "text": [
      "Parameter 'function'=<function map_to_result at 0x0000022765C39FC0> of the transform datasets.arrow_dataset.Dataset._map_single couldn't be hashed properly, a random hash was used instead. Make sure your transforms and parameters are serializable with pickle or dill for the dataset fingerprinting and caching to work. If you reuse this transform, the caching mechanism will consider it to be different from the previous calls and recompute everything. This warning is only showed once. Subsequent hashing failures won't be showed.\n"
     ]
    },
    {
     "data": {
      "application/vnd.jupyter.widget-view+json": {
       "model_id": "0a043867d7c24f50a00a45496d5137ee",
       "version_major": 2,
       "version_minor": 0
      },
      "text/plain": [
       "Map:   0%|          | 0/457 [00:00<?, ? examples/s]"
      ]
     },
     "metadata": {},
     "output_type": "display_data"
    },
    {
     "name": "stderr",
     "output_type": "stream",
     "text": [
      "C:\\Users\\User\\AppData\\Local\\Programs\\Python\\Python310\\lib\\site-packages\\torch\\utils\\checkpoint.py:464: UserWarning: torch.utils.checkpoint: the use_reentrant parameter should be passed explicitly. In version 2.4 we will raise an exception if use_reentrant is not passed. use_reentrant=False is recommended, but if you need to preserve the current default behavior, you can pass use_reentrant=True. Refer to docs for more details on the differences between the two variants.\n",
      "  warnings.warn(\n",
      "C:\\Users\\User\\AppData\\Local\\Programs\\Python\\Python310\\lib\\site-packages\\torch\\utils\\checkpoint.py:91: UserWarning: None of the inputs have requires_grad=True. Gradients will be None\n",
      "  warnings.warn(\n"
     ]
    }
   ],
   "source": [
    "results = zeroth_data[\"test\"].map(map_to_result, remove_columns=zeroth_data[\"test\"].column_names)"
   ]
  },
  {
   "cell_type": "code",
   "execution_count": 61,
   "metadata": {
    "colab": {
     "base_uri": "https://localhost:8080/"
    },
    "executionInfo": {
     "elapsed": 811,
     "status": "ok",
     "timestamp": 1663916318712,
     "user": {
      "displayName": "Hyunjung Lee",
      "userId": "15784017024673692926"
     },
     "user_tz": -540
    },
    "id": "hBxypZj-Dm00",
    "outputId": "e933e8e8-2aaf-458b-c872-f86dc8816b86"
   },
   "outputs": [
    {
     "name": "stdout",
     "output_type": "stream",
     "text": [
      "Test CER: 0.167\n"
     ]
    }
   ],
   "source": [
    "print(\"Test CER: {:.3f}\".format(cer_metric.compute(predictions=results[\"pred_str\"], references=results[\"text\"])))"
   ]
  },
  {
   "cell_type": "code",
   "execution_count": 62,
   "metadata": {
    "colab": {
     "base_uri": "https://localhost:8080/",
     "height": 623
    },
    "executionInfo": {
     "elapsed": 705,
     "status": "ok",
     "timestamp": 1663916321142,
     "user": {
      "displayName": "Hyunjung Lee",
      "userId": "15784017024673692926"
     },
     "user_tz": -540
    },
    "id": "TW0J8Z8XDz3M",
    "outputId": "83f43398-f6ab-43d8-b8f1-d2b4df295e2e"
   },
   "outputs": [
    {
     "data": {
      "text/html": [
       "<table border=\"1\" class=\"dataframe\">\n",
       "  <thead>\n",
       "    <tr style=\"text-align: right;\">\n",
       "      <th></th>\n",
       "      <th>pred_str</th>\n",
       "      <th>text</th>\n",
       "    </tr>\n",
       "  </thead>\n",
       "  <tbody>\n",
       "    <tr>\n",
       "      <th>0</th>\n",
       "      <td>ㄱㅓㅁㅣㅇㅑㄱㅡ ㄱㅓㅁㅣㄱㅏ ㅁㅏㄴㄷㅡㄹㅇㅓㄷㅔㄴㅡㄴ ㄱㅏㅅㅊㅓㄹ ㅁㅏㅋㅡㄴㅌㅔㄴㅌㅡㄴㅏ ㄱㅓㅁㅣ ㅈㅗㄹㅇㅡㄴ ㅇㅜㅇㅕㄴㅇㅔ ㅅㅏㅁㅁㅜㄹㅇㅣㅂㄴㅣㄲㅏ</td>\n",
       "      <td>ㄱㅓㅁㅣㅇㅘ ㄱㅡ ㄱㅓㅁㅣㄱㅏ ㅁㅏㄴㄷㅡㄹㅇㅓ ㄴㅐㄴㅡㄴ ㄱㅏㅇㅊㅓㄹㅁㅏㄴㅋㅡㅁㅇㅣㄴㅏ ㅌㅡㄴㅌㅡㄴㅎㅏㄴ ㄱㅓㅁㅣㅈㅜㄹㅇㅡㄴ ㅇㅜㅇㅕㄴㅇㅢ ㅅㅏㄴㅁㅜㄹㅇㅣㅂㄴㅣㄲㅏ</td>\n",
       "    </tr>\n",
       "    <tr>\n",
       "      <th>1</th>\n",
       "      <td>ㄷㅐㄴㅣㅇㅔ ㅇㅣㅁㄱㅣㄹㅛㅎㄱㅎㅔ ㅅㅐㅇㄱㅏㄱㅎㅏㄱㅗ ㅇㅣㅆㄱㅔ ㅈㅣㅁㅏㄴ ㅇㅜㄹㅣㄷㅏ ㅇㅓㄷㅣㅇㅔ ㅅㅏㄹ ㄷㅡㄴㅈㅣ ㅇㅕㅎㅜㅇㅘㄲㅔㅅㅓ ㅎㅘㅇㅅㅏㅇ ㅇㅜㄹㅣㄱㅕㅌ ㄱㅐㅅㅣㄷㅏㄴㅡㄴ ㄱㅓㄹ ㄱㅣㅇㅓㄱㅎㅏㄹㅇㅛ</td>\n",
       "      <td>ㄷㅐㄴㅣㅇㅔㄹ ㅇㅣㅁㅣ ㄱㅡㄹㅓㅎㄱㅔ ㅅㅐㅇㄱㅏㄱㅎㅏㄱㅗ ㅇㅣㅆㄱㅔㅆㅈㅣㅁㅏㄴ ㅇㅜㄹㅣㄱㅏ ㅇㅓㄷㅣㅇㅔ ㅅㅏㄹㄷㅡㄴㅈㅣ ㅇㅕㅎㅗㅇㅘㄲㅔㅅㅓ ㅎㅏㅇㅅㅏㅇ ㅇㅜㄹㅣ ㄱㅕㅌㅇㅔ ㄱㅖㅅㅣㄷㅏㄴㅡㄴ ㄱㅓㄹ ㄱㅣㅇㅓㄱㅎㅏㄹㅕㅁ</td>\n",
       "    </tr>\n",
       "    <tr>\n",
       "      <th>2</th>\n",
       "      <td>ㅇㅠㄱㅅㅣㅂ ㅅㅏ ㄴㅕㄴ ㅊㅗㅇㅣㄴ ㄱㅓㅁㅅㅏㄹㅗ ㅇㅣㄴㄱㅘㄴㅎㅏㄴ ㄱㅣㅁㅈㅓㄴㅅㅣㄹㅈㅏㅇㅇㅡㄴ ㅅㅣㅂ ㄴㅕㄴ ㅎㅜㅇㅣㄴ ㅊㅣㅅㅣㅂ ㅅㅏㄴㅕㄴ ㅅㅏㅇㅝㄹ ㅈㅜㄱㅏㅇ ㅈㅓㅇㅂㅗㅂㅜㅈㅏㅇ ㅂㅓㅂㄹㅠㄹ ㅂㅗㅈㅏㄱㅏㄴㅇㅡㄹㅗ ㅍㅏㄱㅕㄴㄷㅚㄱㅗ ㄱㅏㅌㅇㅡㄴㅇㅔ ㄱㅜㅇㅓㄹ ㄷㅐㄱㅗㅇ ㅅㅜㅅㅏ ㄱㅜㄱㅈㅏㅇㅇㅣ ㄷㅙㅆㄷㅏ</td>\n",
       "      <td>ㅇㅠㄱㅅㅣㅂ ㅅㅏ ㄴㅕㄴ ㅊㅗㅇㅣㅁㄱㅓㅁㅅㅏㄹㅗ ㅇㅣㅁㄱㅘㄴㅎㅏㄴ ㄱㅣㅁ ㅈㅓㄴ ㅅㅣㄹㅈㅏㅇㅇㅡㄴ ㅅㅣㅂ ㄴㅕㄴ ㅎㅜㅇㅣㄴ ㅊㅣㄹㅅㅣㅂ ㅅㅏ ㄴㅕㄴ ㅅㅏ ㅇㅝㄹ ㅈㅜㅇㅇㅏㅇㅈㅓㅇㅂㅗㅂㅜㅈㅏㅇ ㅂㅓㅂㄹㅠㄹㅂㅗㅈㅘㄱㅘㄴㅇㅡㄹㅗ ㅍㅏㄱㅕㄴㄷㅙㅆㄱㅗ ㄱㅏㅌㅇㅡㄴ ㅎㅐ ㄱㅜ ㅇㅝㄹ ㄷㅐㄱㅗㅇㅅㅜㅅㅏㄱㅜㄱㅈㅏㅇㅇㅣ ㄷㅙㅆㄷㅏ</td>\n",
       "    </tr>\n",
       "    <tr>\n",
       "      <th>3</th>\n",
       "      <td>ㅅㅓㄴㄷㅐㅇㅣㄴ ㄱㅡㄹㅓㄴㄷㅔ ㄴㅜㄱㅜㄴㅏ ㄴㅡㄲㅣㅅㅣㄱㅔ ㅆㅈㅣㅁㅏㄴ ㅈㅣㄱㅇㅡㄴ ㅇㅣㅊㅓㄴ ㅇㅣㅇ ㄴㅕㄴ ㅂㅜㄷㅗㅇ ㅅㅏㄴ ㅍㅗㄱㄷㅚㄴㄱㅣㄷㅐ ㅁㅗㄷㅏㄹ ㅅㅣㄱㅇㅡㄴ ㅎㅗㅇㅎㅏㅁㅇㅣㄴㄱㅏ</td>\n",
       "      <td>ㅅㅓㄴㄷㅐㅇㅣㄴ ㄱㅡㄹㅓㄴㄷㅔ ㄴㅜㄱㅜㄴㅏ ㄴㅡㄲㅣㅅㅣㄱㅔㅆㅈㅣㅁㅏㄴ ㅈㅣㄱㅡㅁ ㅇㅣㅊㅓㄴ ㅇㅠㄱ ㄴㅕㄴ ㅂㅜㄷㅗㅇㅅㅏㄴ ㅍㅗㄱㄷㅡㅇㄱㅣ ㄸㅐㅂㅗㄷㅏ ㅈㅣㄱㅡㅁ ㅎㅗㅎㅘㅇㅇㅣㄴㄱㅏ</td>\n",
       "    </tr>\n",
       "    <tr>\n",
       "      <th>4</th>\n",
       "      <td>ㅊㅓㄱㅂㅏㅈㅡㄴㅡㄴ ㅇㅐㄹㄹㅣㅇㅛㄹㅗ ㅇㅣㄴㅇㅐ ㅎㅐㅅㅜㅁㅕㄴ ㅇㅗㄴㄷㅗㄱㅏ ㄴㅗㅍㅏ ㄷㅐㄹㅠㅎㅕㄴㅅㅏㄴㅇㅣ ㄱㅏㅇㅎㅏㄱㅔ ㅂㅏㄹㄷㅏㄹㅏㄴㅡㄴ ㄱㅓㅈㅣㄱㅗ ㄷㅜㄱㅓㄴㅈㅔㄴㅡㄴ ㅅㅏㅇㅊㅣㄴㄱㅗㄱㅣㅇㅏㅂㅇㅣ ㅂㅏㄹㄷㅏㄹㅏㅁㅇㅔㅅㅓ ㄷㅐㄹㅛㅎㅕㄴㅅㅏㅇㅇㅡㄹ ㄷㅓ ㄱㅘㅇㅎㅏㅅㅣㄴㅡㄴ ㅇㅕㄱㅏㄹㄹㅏㄱㅗ ㅣㅆㅅㅡㅂㄴㅣㄷㅏ</td>\n",
       "      <td>ㅊㅓㅅㅂㅓㄴㅉㅐㄴㅡㄴ ㅇㅔㄹㄴㅣㄴㅛㄹㅗ ㅇㅣㄴㅎㅐ ㅎㅐㅅㅜㅁㅕㄴ ㅇㅗㄴㄷㅗㄱㅏ ㄴㅗㅍㅇㅏ ㄷㅐㄹㅠ ㅎㅕㄴㅅㅏㅇㅇㅣ ㄱㅏㅇㅎㅏㄱㅔ ㅂㅏㄹㄷㅏㄹㅎㅏㄴㅡㄴ ㄱㅓㅅㅇㅣㄱㅗ ㄷㅜㅂㅓㄴㅉㅐㄴㅡㄴ ㅅㅏㅇㅊㅡㅇ ㄱㅗㄱㅣㅇㅏㅂㅇㅣ ㅂㅏㄹㄷㅏㄹㅎㅏㅁㅕㄴㅅㅓ ㄷㅐㄹㅠ ㅎㅕㄴㅅㅏㅇㅇㅡㄹ ㄷㅓ ㄱㅏㅇㅎㅘㅅㅣㅋㅣㄴㅡㄴ ㅇㅕㄱㅎㅏㄹㅇㅡㄹ ㅎㅏㄱㅗ ㅇㅣㅆㅅㅡㅂㄴㅣㄷㅏ</td>\n",
       "    </tr>\n",
       "    <tr>\n",
       "      <th>5</th>\n",
       "      <td>ㅇㅣㄹㄱㅏ ㄱㅔㅅㅓㄴㅡㄴ ㄱㅡㅂㅋㅕㄱㄱㅣ ㅍㅚㄴㅊㅓㄴ ㅎㅏㄴ ㅅㅣㄴㄱㅠㅅㅣㅈㅏㅇㅇㅣ ㅌㅡㅇㅡㄷㅡㅇㅢ ㅂㅕㄴㅎㅘㄹㅗ ㅎㅚㄷㅏㅇㅅㅣㅈㅏㅇㄱㅘ ㄱㅘㄴㄹㅕㄴ ㅅㅣㅈㅏㅁㅇㅡㄹ ㅇㅟㅊㅗㄱㅅㅣㄱㅣㄴㄷㅏㄴㅇㅡㄴ ㅇㅕㅁㄹㅕㅇㅢ ㅅㅣㄱㅏㄱㄷㅗ ㅇㅣㅆㄷㅏ</td>\n",
       "      <td>ㅇㅣㄹㄱㅏㄱㅇㅔㅅㅓㄴㅡㄴ ㄱㅡㅂㄱㅕㄱㅎㅣ ㅍㅐㅇㅊㅏㅇㅎㅏㄴ ㅅㅣㄴㄱㅠ ㅅㅣㅈㅏㅇㅇㅣ ㅌㅡㄹㅔㄴㄷㅡㅇㅢ ㅂㅕㄴㅎㅘㄹㅗ ㅎㅐㄷㅏㅇ ㅅㅣㅈㅏㅇㄱㅘ ㄱㅘㄴㄹㅕㄴㅅㅣㅈㅏㅇㅇㅡㄹ ㅇㅟㅊㅜㄱ ㅅㅣㅋㅣㄴㄷㅏㄴㅡㄴ ㅇㅕㅁㄹㅕㅇㅢ ㅅㅣㄱㅏㄱㄷㅗ ㅇㅣㅆㄷㅏ</td>\n",
       "    </tr>\n",
       "    <tr>\n",
       "      <th>6</th>\n",
       "      <td>ㅁㅗㄱㅈㅓㄱㅇㅡㄴ ㄴㅏㄹㅇㅡㅈㅣㅁㅏㄴ ㄱㅕㄹㄱㅜㄱ ㅁㅗㄷㅜ ㅁㅕㅇㅍㅜㅁㅎㅣ ㅈㅜㄴㅡㄴ ㅂㅗㅅㅏㅇ ㅅㅣㅁ ㄴㅣㅇㅔㅅㅓ ㅇㅓㅍㅣㄹㅗㅎㄷㅙㅆㄷㅏㄴㅡㄴㄱㅔ ㅈㅓㄴㄱㅘㄷㅡㄹ ㅂㅜㄴㅅㅓㄱㅇㅣㄷㅏ</td>\n",
       "      <td>ㅁㅗㄱㅈㅓㄱㅇㅡㄴ ㄷㅏㄹㅡㅈㅣㅁㅏㄴ ㄱㅕㄹㄱㅜㄱ ㅁㅗㄷㅜ ㅁㅕㅇㅍㅜㅁㅇㅣ ㅈㅜㄴㅡㄴ ㅂㅗㅅㅏㅇㅅㅣㅁㄹㅣㅇㅔㅅㅓ ㅂㅣㄹㅗㅅㄷㅙㅆㄷㅏㄴㅡㄴ ㄱㅔ ㅈㅓㄴㅁㅜㄴㄱㅏㄷㅡㄹ ㅂㅜㄴㅅㅓㄱㅇㅣㄷㅏ</td>\n",
       "    </tr>\n",
       "    <tr>\n",
       "      <th>7</th>\n",
       "      <td>ㄷㅗㄱㅣㄹㅡㄹ ㅂㅗㅎㅗㅎㅘㄱㅣ ㅇㅟㅇㅘㅇㅇㅕ ㅎㅚㅆㅡㄴㅢ ㅇㅑㅎㅏㅇ ㅇㅣㅂㅐㄱ ㅁㅏㄴㅁㅕㅇㅇㅢ ㅇㅣㄴㅁㅕㅇㅇㅡㄴㄹ ㅇㅏㅅㅏㄱㅏㄴㅡㄴ ㅇㅣㄹㅡㄹ ㅈㅜㅇㅟ ㅎㅏㅇㅣㄴㅡㄴㄷㅔ ㄱㅡ ㅈㅜㅇ ㄷㅐㅂㅜ ㅂㅜㄴㅣ ㅇㅠㄷㅐㅇㅣㄴㅣㅇㅓㅆㅅㅡㅂㄴㅣㄷㅏ</td>\n",
       "      <td>ㄷㅗㄱㅇㅣㄹㅇㅡㄹ ㅂㅗㅎㅗㅎㅏㄱㅣ ㅇㅟㅎㅏㅇㅕ ㅎㅚㅅㅡㄴㅡㄴ ㅇㅑㄱ ㅇㅣㅂㅐㄱ ㅁㅏㄴ ㅁㅕㅇㅇㅢ ㅇㅣㄴㅁㅕㅇㅇㅡㄹ ㅇㅏㅅㅇㅏ ㄱㅏㄴㅡㄴ ㅇㅣㄹㅇㅡㄹ ㅈㅣㅎㅟㅎㅏㅇㅕㅆㄴㅡㄴㄷㅔ ㄱㅡㅈㅜㅇ ㄷㅐㅂㅜㅂㅜㄴㅇㅣ ㅇㅠㄷㅐㅇㅣㄴㅇㅣㅇㅓㅆㅅㅡㅂㄴㅣㄷㅏ</td>\n",
       "    </tr>\n",
       "    <tr>\n",
       "      <th>8</th>\n",
       "      <td>ㄷㅓㅇㅗㄱㅇㅣ ㅇㅗㄹㅔ ㅎㅏㅘㄴㄱㅣ ㅁㅣㄱㅜ ㄱㅡㅁㄴㅣㅇㄴㅅㅏㅇㅇㅣ ㅇㅖㄱㅗㄷㅙ ㅇㅣㅆㅇㅓ ㄱㅡㅁㄴㅣㄹㅡㄹ ㄷㅓ ㄴㅐㄹㅕㅆㄷㅏㄱㅏㄴ ㅈㅏㅈㅊㅣ ㅊㅏㅂㅡㄴ ㄴㅜㅊㅜㄹㅇㅣ ㄱㅓㅅㅔㅈㅣㄹ ㅅㅜ ㅇㅣㅆㄷㅏㄴㅡㄴ ㅈㅓㅁㄷㅗ ㄱㅡㅁㄴㅣㅇㅣㄴㅏㅇㅢ ㅂㅜㄷㅏㅁㅇㅡㄹ ㅈㅜㄱㅗ ㅇㅣㅆㅅㅡㅂㄴㅣㄷㅏ</td>\n",
       "      <td>ㄷㅓㅇㅜㄱㅇㅣ ㅇㅗㄹㅎㅐ ㅎㅏㅂㅏㄴㄱㅣ ㅁㅣㄱㅜㄱ ㄱㅡㅁㄹㅣㅇㅣㄴㅅㅏㅇㅇㅣ ㅇㅖㄱㅗㄷㅙ ㅇㅣㅆㅇㅓ ㄱㅡㅁㄹㅣㄹㅡㄹ ㄷㅓ ㄴㅐㄹㅕㅆㄷㅏㄱㅏㄴ ㅈㅏㅊㅣㅅ ㅈㅏㅂㅗㄴ ㅇㅠㅊㅜㄹㅇㅣ ㄱㅓㅅㅔㅈㅣㄹ ㅅㅜ ㅇㅣㅆㄷㅏㄴㅡㄴ ㅈㅓㅁㄷㅗ ㄱㅡㅁㄹㅣ ㅇㅣㄴㅎㅏㅇㅔ ㅂㅜㄷㅏㅁㅇㅡㄹ ㅈㅜㄱㅗ ㅇㅣㅆㅅㅡㅂㄴㅣㄷㅏ</td>\n",
       "    </tr>\n",
       "    <tr>\n",
       "      <th>9</th>\n",
       "      <td>ㅁㅁㅣㄷㅣㅇㅓㄱㅓ ㄱㅓㄹㅐㅅㅓㄴ ㅈㅓㅇㄴㅇㅛㄴㄱㅗㄴㄱㅏㄴㅇㅡㄹ ㅊㅣㅅㅣㅂ ㅍㅓㅅㅔㄴㅌㅡㄹㅗ ㅎㅏㄱㄷㅐㅎㅏㄱㅗ ㄱㅏㄱ ㅊㅏㅁㅅㅓㄱㅈㅏㅇㅢ ㅍㅣㄹㅛㅎㅐㅆㄷㅏㄹㅡㄴ ㅈㅓㄴㅅㅣ ㅂㅗㅇㄱㅏㄴㅇㅡㄹㅗ ㄱㅣㅎㅐㄱㅎㅏㄴ ㄱㅓㅅㅇㅣ ㅌㅡㅈㅣㅇㅛ</td>\n",
       "      <td>ㅁㅣㄷㅣㅇㅓㅇㅘ ㄱㅓㄹㅐㅅㅓㄴ ㅈㅓㄴㅇㅛㅇ ㄱㅗㅇㄱㅏㄴㅇㅡㄹ ㅊㅣㄹㅅㅣㅂ ㅍㅓㅅㅔㄴㅌㅡㄹㅗ ㅎㅘㄱㄷㅐㅎㅏㄱㅗ ㄱㅏㄱ ㅊㅏㅁㅅㅓㄱㅈㅏㅇㅢ ㅍㅣㄹㅇㅛㅇㅔ ㄸㅏㄹㅡㄴ ㅈㅓㄴㅅㅣㄱㅗㅇㄱㅏㄴㅇㅡㄹㅗ ㄱㅣㅎㅚㄱㅎㅏㄴ ㄱㅓㅅㅇㅣ ㅌㅡㄱㅈㅣㅇ</td>\n",
       "    </tr>\n",
       "  </tbody>\n",
       "</table>"
      ],
      "text/plain": [
       "<IPython.core.display.HTML object>"
      ]
     },
     "metadata": {},
     "output_type": "display_data"
    }
   ],
   "source": [
    "show_random_elements(results)"
   ]
  },
  {
   "cell_type": "code",
   "execution_count": 63,
   "metadata": {
    "id": "ZAhOi8pDINc-"
   },
   "outputs": [],
   "source": [
    "def make_words(batch):\n",
    "  batch['pred_str'] = join_jamos(batch['pred_str'])\n",
    "  batch['text'] = join_jamos(batch['text'])\n",
    "  return batch"
   ]
  },
  {
   "cell_type": "code",
   "execution_count": 64,
   "metadata": {
    "colab": {
     "base_uri": "https://localhost:8080/",
     "height": 49,
     "referenced_widgets": [
      "ca695d68e4544b75a00a5118c383dfa3",
      "c8c152acddde4583b983df90332d44f1",
      "e5879b1a19764f49a8dd7743636875c5",
      "eac5fc2f18354083bf84163a395b61f0",
      "9251795a6c5b4e3d8b34cdffebaf198b",
      "7eb43411c5074346b4468dc1678acc7f",
      "78d30a4a666548458376ceede1af6402",
      "4774fa66e0b7488ab16843de07517a3b",
      "046e9a11ac164156ab273c465af0f376",
      "527053b7bfdb47ce87fdb461e3325cf8",
      "23b46a82a7a94e808c801a7587443fdb"
     ]
    },
    "executionInfo": {
     "elapsed": 1015,
     "status": "ok",
     "timestamp": 1663916329460,
     "user": {
      "displayName": "Hyunjung Lee",
      "userId": "15784017024673692926"
     },
     "user_tz": -540
    },
    "id": "AC0iTzIJIPrJ",
    "outputId": "afa287b8-ff03-4dd5-a0ea-50d11a6614e1"
   },
   "outputs": [
    {
     "data": {
      "application/vnd.jupyter.widget-view+json": {
       "model_id": "d89693c0914d4f5888960c07acd54cf0",
       "version_major": 2,
       "version_minor": 0
      },
      "text/plain": [
       "Map:   0%|          | 0/457 [00:00<?, ? examples/s]"
      ]
     },
     "metadata": {},
     "output_type": "display_data"
    }
   ],
   "source": [
    "results = results.map(make_words)"
   ]
  },
  {
   "cell_type": "code",
   "execution_count": 65,
   "metadata": {
    "colab": {
     "base_uri": "https://localhost:8080/",
     "height": 432
    },
    "executionInfo": {
     "elapsed": 19,
     "status": "ok",
     "timestamp": 1663916332553,
     "user": {
      "displayName": "Hyunjung Lee",
      "userId": "15784017024673692926"
     },
     "user_tz": -540
    },
    "id": "Vs667yXUIaft",
    "outputId": "aa52bc1d-889e-463c-b7f6-51ae0242ec43"
   },
   "outputs": [
    {
     "data": {
      "text/html": [
       "<table border=\"1\" class=\"dataframe\">\n",
       "  <thead>\n",
       "    <tr style=\"text-align: right;\">\n",
       "      <th></th>\n",
       "      <th>pred_str</th>\n",
       "      <th>text</th>\n",
       "    </tr>\n",
       "  </thead>\n",
       "  <tbody>\n",
       "    <tr>\n",
       "      <th>0</th>\n",
       "      <td>한구 그냉에 따르며 장련말 힌제 가게 진용 잔핵은 천 상백 사십 사조 상천 억은으로 이 가운데 약 십 산퍼센트가 마인어스 통정등 대출로 추선든다</td>\n",
       "      <td>한국은행에 따르면 작년 말 현재 가계신용 잔액은 천 삼백 사십 사 조 삼천 억원으로 이 가운데 약 십 삼 퍼센트가 마이너스통장 등 대출로 추산된다</td>\n",
       "    </tr>\n",
       "    <tr>\n",
       "      <th>1</th>\n",
       "      <td>선대인 그런데 누구나 느끼시게 ㅆ지만 직은 이천 잉 년 부동 산 폭된기대 모달 식은 홍함인가</td>\n",
       "      <td>선대인 그런데 누구나 느끼시겠지만 지금 이천 육 년 부동산 폭등기 때보다 지금 호황인가</td>\n",
       "    </tr>\n",
       "    <tr>\n",
       "      <th>2</th>\n",
       "      <td>연고 지는 앙에 에서 이전자 벼니게 이라날 가능성이 일퍼센트미만이 것이라고 추장한고 이씁니다</td>\n",
       "      <td>연구진은 아이에게서 유전자 변이가 일어날 가능성이 일 퍼센트 미만일 것으로 추정하고 있습니다</td>\n",
       "    </tr>\n",
       "    <tr>\n",
       "      <th>3</th>\n",
       "      <td>틐히 중소영 빌딩은 개인투자자의 전폭적인 제질을 받고 있다</td>\n",
       "      <td>특히 중소형 빌딩은 개인투자자의 전폭적인 지지를 받고 있다</td>\n",
       "    </tr>\n",
       "    <tr>\n",
       "      <th>4</th>\n",
       "      <td>그렇게 해주시면 후보들은 정책과 비전을 가지고 국민 드게 세로온 데함민 국으리 어떻게 만딜 것인지</td>\n",
       "      <td>그렇게 해주시면 후보들은 정책과 비전을 가지고 국민들에게 새로운 대한민국을 어떻게 만들 것인지</td>\n",
       "    </tr>\n",
       "    <tr>\n",
       "      <th>5</th>\n",
       "      <td>옇우민 ㄴ대이는 모든 문가 차먼이 닺쳐 있었고 줄변에는 감식ㅋ함에라가 있었다며 이유 똘러 부터 오래 동한 자우 외이 처가시꾸를 보지 못했다는 말을 드어다며아며오 전 했다</td>\n",
       "      <td>여우밍레이는 모든 문과 창문이 닫혀 있었고 주변에는 감시카메라가 있었다며 이웃들로부터 오랫동안 자오웨이 처가 식구를 보지 못했다는 말을 들었다며며 전했다</td>\n",
       "    </tr>\n",
       "    <tr>\n",
       "      <th>6</th>\n",
       "      <td>그리스티의 청박장이 는 여전히 우리 모두에게 도전이 되는 것입니다</td>\n",
       "      <td>크리스티의 청각 장애는 여전히 우리 모두에게 도전이 되는 것입니다</td>\n",
       "    </tr>\n",
       "    <tr>\n",
       "      <th>7</th>\n",
       "      <td>작 년 십 잉 월 천 이백 십 언대가지 올랐던 ㅇ원단러 하뉼은 쵝은 천댁 오십언 때로 오퍼센트 가령 떨어지면서 뇌국인 자금 유이르 모물 주고 있다</td>\n",
       "      <td>작년 십 이 월 천 이백 십 원대까지 올랐던 원 달러 환율은 최근 천 백 오십 원대로 오 퍼센트가량 떨어지면서 외국인 자금 유입에 도움을 주고 있다</td>\n",
       "    </tr>\n",
       "    <tr>\n",
       "      <th>8</th>\n",
       "      <td>노예로끌 려온 ㅏㅏ는 사람들은 수사스릐 묵겨 구차를 당하고 나기니 지켰으며 그후 냉 킬로미터에 다라는 노예의 기를 걸어가야 했습니다</td>\n",
       "      <td>노예로 끌려 온 많은 사람들은 쇠사슬에 묶여 구타를 당하고 낙인이 찍혔으며 그 후 네 킬로미터에 달하는 노예의 길을 걸어가야 했습니다</td>\n",
       "    </tr>\n",
       "    <tr>\n",
       "      <th>9</th>\n",
       "      <td>박 대통련은 위민관 삼층 영상 국무ㅢ 이실에서 찬모들과 머리이 맞대곡 정북 추수책을 농이한다고 한다</td>\n",
       "      <td>박 대통령은 위민관 삼 층 영상국무회의실에서 참모들과 머리를 맞대고 정국 수습책을 논의한다고 한다</td>\n",
       "    </tr>\n",
       "  </tbody>\n",
       "</table>"
      ],
      "text/plain": [
       "<IPython.core.display.HTML object>"
      ]
     },
     "metadata": {},
     "output_type": "display_data"
    }
   ],
   "source": [
    "show_random_elements(results)"
   ]
  },
  {
   "cell_type": "code",
   "execution_count": 66,
   "metadata": {
    "colab": {
     "base_uri": "https://localhost:8080/"
    },
    "executionInfo": {
     "elapsed": 250,
     "status": "ok",
     "timestamp": 1663841714558,
     "user": {
      "displayName": "Hyunjung Lee",
      "userId": "15784017024673692926"
     },
     "user_tz": -540
    },
    "id": "iJ7jcJjUAnVj",
    "outputId": "822d6ee4-4ba4-426f-a663-83351f52022a"
   },
   "outputs": [],
   "source": [
    "model.to(\"cuda\")\n",
    "with torch.no_grad():\n",
    "  logits = model(torch.tensor(zeroth_data[\"test\"][:1][\"input_values\"], device=\"cuda\")).logits\n",
    "pred_ids = torch.argmax(logits, dim=-1)"
   ]
  },
  {
   "cell_type": "code",
   "execution_count": 67,
   "metadata": {
    "colab": {
     "base_uri": "https://localhost:8080/",
     "height": 200
    },
    "executionInfo": {
     "elapsed": 378,
     "status": "ok",
     "timestamp": 1663841716313,
     "user": {
      "displayName": "Hyunjung Lee",
      "userId": "15784017024673692926"
     },
     "user_tz": -540
    },
    "id": "lm2s-TDEMePA",
    "outputId": "c0950c1c-af21-4dc5-e49c-1af7c65b232d"
   },
   "outputs": [
    {
     "data": {
      "text/plain": [
       "'[PAD] [PAD] [PAD] [PAD] [PAD] [PAD] [PAD] [PAD] [PAD] [PAD] [PAD] [PAD] [PAD] [PAD] [PAD] [PAD] [PAD] [PAD] [PAD] [PAD] [PAD] [PAD] [PAD] [PAD] [PAD] [PAD] [PAD] [PAD] [PAD] [PAD] [PAD] [PAD] [PAD] [PAD] [PAD] [PAD] [PAD] [PAD] [PAD] [PAD] [PAD] [PAD] ㅊ [PAD] ㅣ [PAD] ㄴ [PAD] [PAD] ㅏ ㅏ ㄴ [PAD] ㅇ ㅇ ㅢ | | [PAD] ㅅ [PAD] [PAD] [PAD] ㅏ [PAD] ㅁ [PAD] ㅇ [PAD] ㅓ [PAD] [PAD] [PAD] ㄹ [PAD] | | [PAD] [PAD] [PAD] [PAD] [PAD] ㄱ [PAD] ㅣ ㅁ [PAD] [PAD] [PAD] [PAD] [PAD] [PAD] ㅈ [PAD] [PAD] ㅓ ㄴ [PAD] [PAD] [PAD] [PAD] ㅈ [PAD] [PAD] ㅏ ㅇ [PAD] [PAD] [PAD] [PAD] ㄱ [PAD] [PAD] ㅘ ㄴ [PAD] [PAD] ㅇ ㅇ ㅔ | | [PAD] [PAD] ㄷ [PAD] [PAD] ㅗ ㅇ ㅇ [PAD] [PAD] [PAD] [PAD] ㄹ [PAD] ㅛ [PAD] [PAD] [PAD] ㅇ ㅇ ㅣ [PAD] ㄴ [PAD] | | [PAD] [PAD] [PAD] [PAD] [PAD] [PAD] [PAD] ㅈ [PAD] [PAD] ㅏ [PAD] ㅇ [PAD] [PAD] [PAD] [PAD] [PAD] ㄷ [PAD] ㅗ [PAD] ㅇ [PAD] [PAD] [PAD] [PAD] ㅇ ㄴ [PAD] [PAD] ㅕ [PAD] ㄴ | | [PAD] [PAD] ㅎ [PAD] ㅗ [PAD] ㅇ [PAD] [PAD] ㅎ ㅣ [PAD] ㄱ [PAD] [PAD] [PAD] [PAD] [PAD] [PAD] ㄷ [PAD] [PAD] ㅐ [PAD] | | [PAD] ㄱ [PAD] [PAD] ㅛ [PAD] [PAD] [PAD] [PAD] ㅅ [PAD] ㅜ [PAD] ㄱ ㄱ [PAD] [PAD] ㅏ ㅏ [PAD] [PAD] | | [PAD] [PAD] [PAD] ㅁ ㅁ [PAD] ㅣ [PAD] ㄴ [PAD] [PAD] [PAD] [PAD] [PAD] ㄱ [PAD] [PAD] [PAD] ㅏ [PAD] ㄴ | | [PAD] [PAD] ㅈ [PAD] [PAD] ㅏ [PAD] ㅇ [PAD] [PAD] [PAD] [PAD] [PAD] ㅘ [PAD] [PAD] | | ㅈ [PAD] ㅕ ㅕ [PAD] ㄴ [PAD] [PAD] ㅈ [PAD] ㅏ ㅏ [PAD] ㅇ [PAD] ㅇ ㅡ ㄹ ㄹ ㅗ [PAD] | | ㅁ [PAD] ㅣ ㅣ [PAD] [PAD] [PAD] [PAD] ㅈ [PAD] ㅗ [PAD] ㄱ [PAD] [PAD] [PAD] [PAD] ㄷ [PAD] ㅚ [PAD] [PAD] ㅁ [PAD] [PAD] ㅕ [PAD] ㄴ [PAD] [PAD] [PAD] [PAD] ㅅ [PAD] ㅓ [PAD] [PAD] [PAD] [PAD] | | [PAD] [PAD] [PAD] [PAD] [PAD] [PAD] [PAD] [PAD] [PAD] [PAD] [PAD] [PAD] [PAD] [PAD] [PAD] ㅂ [PAD] [PAD] ㅗ ㅇ ㅇ [PAD] [PAD] [PAD] ㄱ [PAD] ㅕ [PAD] [PAD] ㄱ [PAD] [PAD] [PAD] ㅈ [PAD] ㅓ [PAD] [PAD] ㄱ ㅇ ㅇ ㅣ ㄴ [PAD] | [PAD] [PAD] [PAD] ㄱ [PAD] [PAD] ㅗ ㅇ ㅇ [PAD] [PAD] [PAD] [PAD] ㅁ [PAD] ㅗ ㅗ [PAD] [PAD] [PAD] ㅇ [PAD] ㅘ [PAD] [PAD] | | [PAD] [PAD] ㄱ [PAD] [PAD] ㅐ [PAD] [PAD] [PAD] ㅂ ㅂ [PAD] [PAD] ㅏ [PAD] ㄹ [PAD] [PAD] [PAD] ㅈ [PAD] ㅏ [PAD] [PAD] ㄱ [PAD] ㅓ [PAD] ㅂ ㅂ ㅇ ㅇ ㅔ [PAD] | | [PAD] [PAD] ㄷ [PAD] ㅡ ㄹ [PAD] ㅇ ㅓ [PAD] ㄱ [PAD] [PAD] ㅏ [PAD] [PAD] [PAD] [PAD] [PAD] [PAD] [PAD] [PAD] [PAD] [PAD] [PAD] [PAD] [PAD] [PAD] [PAD] [PAD] [PAD] [PAD] [PAD] [PAD] [PAD] [PAD] [PAD] [PAD] [PAD] [PAD] [PAD] [PAD] [PAD] [PAD] [PAD] [PAD] [PAD] [PAD] [PAD] [PAD] [PAD] [PAD] [PAD] [PAD] [PAD] [PAD] [PAD] [PAD] [PAD] [PAD] [PAD] [PAD] [PAD] [PAD] [PAD] [PAD] [PAD] [PAD] [PAD] [PAD] [PAD] [PAD] [PAD] [PAD] [PAD] [PAD] [PAD] [PAD] [PAD] [PAD] [PAD] [PAD] [PAD] [PAD] [PAD] [PAD] [PAD] [PAD] [PAD] [PAD] [PAD] [PAD] [PAD] ㅆ ㄷ ㄷ ㅏ | | |'"
      ]
     },
     "execution_count": 67,
     "metadata": {},
     "output_type": "execute_result"
    }
   ],
   "source": [
    "\" \".join(processor.tokenizer.convert_ids_to_tokens(pred_ids[0].tolist()))"
   ]
  },
  {
   "cell_type": "code",
   "execution_count": null,
   "metadata": {},
   "outputs": [],
   "source": []
  },
  {
   "cell_type": "code",
   "execution_count": null,
   "metadata": {},
   "outputs": [],
   "source": []
  },
  {
   "cell_type": "code",
   "execution_count": null,
   "metadata": {},
   "outputs": [],
   "source": []
  },
  {
   "cell_type": "code",
   "execution_count": null,
   "metadata": {},
   "outputs": [],
   "source": []
  }
 ],
 "metadata": {
  "accelerator": "GPU",
  "colab": {
   "collapsed_sections": [],
   "machine_shape": "hm",
   "provenance": [
    {
     "file_id": "1IL3mVfe4oh6zcQHfdjo8kMGCruM2gao7",
     "timestamp": 1663920667763
    }
   ]
  },
  "kernelspec": {
   "display_name": "Python 3 (ipykernel)",
   "language": "python",
   "name": "python3"
  },
  "language_info": {
   "codemirror_mode": {
    "name": "ipython",
    "version": 3
   },
   "file_extension": ".py",
   "mimetype": "text/x-python",
   "name": "python",
   "nbconvert_exporter": "python",
   "pygments_lexer": "ipython3",
   "version": "3.10.12"
  },
  "widgets": {
   "application/vnd.jupyter.widget-state+json": {
    "003082f5a1444f77a5a2247078ea2784": {
     "model_module": "@jupyter-widgets/controls",
     "model_module_version": "1.5.0",
     "model_name": "HTMLModel",
     "state": {
      "_dom_classes": [],
      "_model_module": "@jupyter-widgets/controls",
      "_model_module_version": "1.5.0",
      "_model_name": "HTMLModel",
      "_view_count": null,
      "_view_module": "@jupyter-widgets/controls",
      "_view_module_version": "1.5.0",
      "_view_name": "HTMLView",
      "description": "",
      "description_tooltip": null,
      "layout": "IPY_MODEL_f7dcf93d59b142f19a2f6109d4c9d9cb",
      "placeholder": "​",
      "style": "IPY_MODEL_09b52654502a4b73b666a36b0242f8fd",
      "value": ""
     }
    },
    "01cfa7cc707142b898dba385f82c4a47": {
     "model_module": "@jupyter-widgets/base",
     "model_module_version": "1.2.0",
     "model_name": "LayoutModel",
     "state": {
      "_model_module": "@jupyter-widgets/base",
      "_model_module_version": "1.2.0",
      "_model_name": "LayoutModel",
      "_view_count": null,
      "_view_module": "@jupyter-widgets/base",
      "_view_module_version": "1.2.0",
      "_view_name": "LayoutView",
      "align_content": null,
      "align_items": null,
      "align_self": null,
      "border": null,
      "bottom": null,
      "display": null,
      "flex": null,
      "flex_flow": null,
      "grid_area": null,
      "grid_auto_columns": null,
      "grid_auto_flow": null,
      "grid_auto_rows": null,
      "grid_column": null,
      "grid_gap": null,
      "grid_row": null,
      "grid_template_areas": null,
      "grid_template_columns": null,
      "grid_template_rows": null,
      "height": null,
      "justify_content": null,
      "justify_items": null,
      "left": null,
      "margin": null,
      "max_height": null,
      "max_width": null,
      "min_height": null,
      "min_width": null,
      "object_fit": null,
      "object_position": null,
      "order": null,
      "overflow": null,
      "overflow_x": null,
      "overflow_y": null,
      "padding": null,
      "right": null,
      "top": null,
      "visibility": null,
      "width": null
     }
    },
    "028821f52aed49be9ddf20092882d2b0": {
     "model_module": "@jupyter-widgets/controls",
     "model_module_version": "1.5.0",
     "model_name": "DescriptionStyleModel",
     "state": {
      "_model_module": "@jupyter-widgets/controls",
      "_model_module_version": "1.5.0",
      "_model_name": "DescriptionStyleModel",
      "_view_count": null,
      "_view_module": "@jupyter-widgets/base",
      "_view_module_version": "1.2.0",
      "_view_name": "StyleView",
      "description_width": ""
     }
    },
    "03d77a8429844e5eae4f1e098cef7530": {
     "model_module": "@jupyter-widgets/controls",
     "model_module_version": "1.5.0",
     "model_name": "HTMLModel",
     "state": {
      "_dom_classes": [],
      "_model_module": "@jupyter-widgets/controls",
      "_model_module_version": "1.5.0",
      "_model_name": "HTMLModel",
      "_view_count": null,
      "_view_module": "@jupyter-widgets/controls",
      "_view_module_version": "1.5.0",
      "_view_name": "HTMLView",
      "description": "",
      "description_tooltip": null,
      "layout": "IPY_MODEL_0fa55fc0c48f44f283b6cbce669d3e90",
      "placeholder": "​",
      "style": "IPY_MODEL_c336d9a9cae74a70b5132e52013786bb",
      "value": ""
     }
    },
    "041b2b245f75439c91a25a3792fa9e10": {
     "model_module": "@jupyter-widgets/controls",
     "model_module_version": "1.5.0",
     "model_name": "FloatProgressModel",
     "state": {
      "_dom_classes": [],
      "_model_module": "@jupyter-widgets/controls",
      "_model_module_version": "1.5.0",
      "_model_name": "FloatProgressModel",
      "_view_count": null,
      "_view_module": "@jupyter-widgets/controls",
      "_view_module_version": "1.5.0",
      "_view_name": "ProgressView",
      "bar_style": "success",
      "description": "",
      "description_tooltip": null,
      "layout": "IPY_MODEL_317eb097fb834a26b0b2100f13033eaa",
      "max": 2160,
      "min": 0,
      "orientation": "horizontal",
      "style": "IPY_MODEL_1f041dfef2b4434f867abde7b1753d97",
      "value": 2160
     }
    },
    "046e9a11ac164156ab273c465af0f376": {
     "model_module": "@jupyter-widgets/controls",
     "model_module_version": "1.5.0",
     "model_name": "ProgressStyleModel",
     "state": {
      "_model_module": "@jupyter-widgets/controls",
      "_model_module_version": "1.5.0",
      "_model_name": "ProgressStyleModel",
      "_view_count": null,
      "_view_module": "@jupyter-widgets/base",
      "_view_module_version": "1.2.0",
      "_view_name": "StyleView",
      "bar_color": null,
      "description_width": ""
     }
    },
    "0551dd908d1a4b02839242588c2929e7": {
     "model_module": "@jupyter-widgets/base",
     "model_module_version": "1.2.0",
     "model_name": "LayoutModel",
     "state": {
      "_model_module": "@jupyter-widgets/base",
      "_model_module_version": "1.2.0",
      "_model_name": "LayoutModel",
      "_view_count": null,
      "_view_module": "@jupyter-widgets/base",
      "_view_module_version": "1.2.0",
      "_view_name": "LayoutView",
      "align_content": null,
      "align_items": null,
      "align_self": null,
      "border": null,
      "bottom": null,
      "display": null,
      "flex": null,
      "flex_flow": null,
      "grid_area": null,
      "grid_auto_columns": null,
      "grid_auto_flow": null,
      "grid_auto_rows": null,
      "grid_column": null,
      "grid_gap": null,
      "grid_row": null,
      "grid_template_areas": null,
      "grid_template_columns": null,
      "grid_template_rows": null,
      "height": null,
      "justify_content": null,
      "justify_items": null,
      "left": null,
      "margin": null,
      "max_height": null,
      "max_width": null,
      "min_height": null,
      "min_width": null,
      "object_fit": null,
      "object_position": null,
      "order": null,
      "overflow": null,
      "overflow_x": null,
      "overflow_y": null,
      "padding": null,
      "right": null,
      "top": null,
      "visibility": null,
      "width": null
     }
    },
    "06505625fc054999919811e4d06f492d": {
     "model_module": "@jupyter-widgets/controls",
     "model_module_version": "1.5.0",
     "model_name": "DescriptionStyleModel",
     "state": {
      "_model_module": "@jupyter-widgets/controls",
      "_model_module_version": "1.5.0",
      "_model_name": "DescriptionStyleModel",
      "_view_count": null,
      "_view_module": "@jupyter-widgets/base",
      "_view_module_version": "1.2.0",
      "_view_name": "StyleView",
      "description_width": ""
     }
    },
    "06f27efb0f69445f9cd32c88bffc1214": {
     "model_module": "@jupyter-widgets/base",
     "model_module_version": "1.2.0",
     "model_name": "LayoutModel",
     "state": {
      "_model_module": "@jupyter-widgets/base",
      "_model_module_version": "1.2.0",
      "_model_name": "LayoutModel",
      "_view_count": null,
      "_view_module": "@jupyter-widgets/base",
      "_view_module_version": "1.2.0",
      "_view_name": "LayoutView",
      "align_content": null,
      "align_items": null,
      "align_self": null,
      "border": null,
      "bottom": null,
      "display": null,
      "flex": null,
      "flex_flow": null,
      "grid_area": null,
      "grid_auto_columns": null,
      "grid_auto_flow": null,
      "grid_auto_rows": null,
      "grid_column": null,
      "grid_gap": null,
      "grid_row": null,
      "grid_template_areas": null,
      "grid_template_columns": null,
      "grid_template_rows": null,
      "height": null,
      "justify_content": null,
      "justify_items": null,
      "left": null,
      "margin": null,
      "max_height": null,
      "max_width": null,
      "min_height": null,
      "min_width": null,
      "object_fit": null,
      "object_position": null,
      "order": null,
      "overflow": null,
      "overflow_x": null,
      "overflow_y": null,
      "padding": null,
      "right": null,
      "top": null,
      "visibility": null,
      "width": null
     }
    },
    "08e99b0c97d44719aedd28ef94376873": {
     "model_module": "@jupyter-widgets/base",
     "model_module_version": "1.2.0",
     "model_name": "LayoutModel",
     "state": {
      "_model_module": "@jupyter-widgets/base",
      "_model_module_version": "1.2.0",
      "_model_name": "LayoutModel",
      "_view_count": null,
      "_view_module": "@jupyter-widgets/base",
      "_view_module_version": "1.2.0",
      "_view_name": "LayoutView",
      "align_content": null,
      "align_items": null,
      "align_self": null,
      "border": null,
      "bottom": null,
      "display": null,
      "flex": null,
      "flex_flow": null,
      "grid_area": null,
      "grid_auto_columns": null,
      "grid_auto_flow": null,
      "grid_auto_rows": null,
      "grid_column": null,
      "grid_gap": null,
      "grid_row": null,
      "grid_template_areas": null,
      "grid_template_columns": null,
      "grid_template_rows": null,
      "height": null,
      "justify_content": null,
      "justify_items": null,
      "left": null,
      "margin": null,
      "max_height": null,
      "max_width": null,
      "min_height": null,
      "min_width": null,
      "object_fit": null,
      "object_position": null,
      "order": null,
      "overflow": null,
      "overflow_x": null,
      "overflow_y": null,
      "padding": null,
      "right": null,
      "top": null,
      "visibility": null,
      "width": null
     }
    },
    "09b52654502a4b73b666a36b0242f8fd": {
     "model_module": "@jupyter-widgets/controls",
     "model_module_version": "1.5.0",
     "model_name": "DescriptionStyleModel",
     "state": {
      "_model_module": "@jupyter-widgets/controls",
      "_model_module_version": "1.5.0",
      "_model_name": "DescriptionStyleModel",
      "_view_count": null,
      "_view_module": "@jupyter-widgets/base",
      "_view_module_version": "1.2.0",
      "_view_name": "StyleView",
      "description_width": ""
     }
    },
    "0a51920ce48e46e2b52f279ef4d86b80": {
     "model_module": "@jupyter-widgets/controls",
     "model_module_version": "1.5.0",
     "model_name": "DescriptionStyleModel",
     "state": {
      "_model_module": "@jupyter-widgets/controls",
      "_model_module_version": "1.5.0",
      "_model_name": "DescriptionStyleModel",
      "_view_count": null,
      "_view_module": "@jupyter-widgets/base",
      "_view_module_version": "1.2.0",
      "_view_name": "StyleView",
      "description_width": ""
     }
    },
    "0bf7155044f840999890fcf693d82c66": {
     "model_module": "@jupyter-widgets/base",
     "model_module_version": "1.2.0",
     "model_name": "LayoutModel",
     "state": {
      "_model_module": "@jupyter-widgets/base",
      "_model_module_version": "1.2.0",
      "_model_name": "LayoutModel",
      "_view_count": null,
      "_view_module": "@jupyter-widgets/base",
      "_view_module_version": "1.2.0",
      "_view_name": "LayoutView",
      "align_content": null,
      "align_items": null,
      "align_self": null,
      "border": null,
      "bottom": null,
      "display": null,
      "flex": null,
      "flex_flow": null,
      "grid_area": null,
      "grid_auto_columns": null,
      "grid_auto_flow": null,
      "grid_auto_rows": null,
      "grid_column": null,
      "grid_gap": null,
      "grid_row": null,
      "grid_template_areas": null,
      "grid_template_columns": null,
      "grid_template_rows": null,
      "height": null,
      "justify_content": null,
      "justify_items": null,
      "left": null,
      "margin": null,
      "max_height": null,
      "max_width": null,
      "min_height": null,
      "min_width": null,
      "object_fit": null,
      "object_position": null,
      "order": null,
      "overflow": null,
      "overflow_x": null,
      "overflow_y": null,
      "padding": null,
      "right": null,
      "top": null,
      "visibility": null,
      "width": null
     }
    },
    "0c5e072f42b44293b83631f860a1c723": {
     "model_module": "@jupyter-widgets/base",
     "model_module_version": "1.2.0",
     "model_name": "LayoutModel",
     "state": {
      "_model_module": "@jupyter-widgets/base",
      "_model_module_version": "1.2.0",
      "_model_name": "LayoutModel",
      "_view_count": null,
      "_view_module": "@jupyter-widgets/base",
      "_view_module_version": "1.2.0",
      "_view_name": "LayoutView",
      "align_content": null,
      "align_items": null,
      "align_self": null,
      "border": null,
      "bottom": null,
      "display": null,
      "flex": null,
      "flex_flow": null,
      "grid_area": null,
      "grid_auto_columns": null,
      "grid_auto_flow": null,
      "grid_auto_rows": null,
      "grid_column": null,
      "grid_gap": null,
      "grid_row": null,
      "grid_template_areas": null,
      "grid_template_columns": null,
      "grid_template_rows": null,
      "height": null,
      "justify_content": null,
      "justify_items": null,
      "left": null,
      "margin": null,
      "max_height": null,
      "max_width": null,
      "min_height": null,
      "min_width": null,
      "object_fit": null,
      "object_position": null,
      "order": null,
      "overflow": null,
      "overflow_x": null,
      "overflow_y": null,
      "padding": null,
      "right": null,
      "top": null,
      "visibility": null,
      "width": null
     }
    },
    "0d8e33d171054fb7bc044d3f5564c797": {
     "model_module": "@jupyter-widgets/base",
     "model_module_version": "1.2.0",
     "model_name": "LayoutModel",
     "state": {
      "_model_module": "@jupyter-widgets/base",
      "_model_module_version": "1.2.0",
      "_model_name": "LayoutModel",
      "_view_count": null,
      "_view_module": "@jupyter-widgets/base",
      "_view_module_version": "1.2.0",
      "_view_name": "LayoutView",
      "align_content": null,
      "align_items": null,
      "align_self": null,
      "border": null,
      "bottom": null,
      "display": null,
      "flex": null,
      "flex_flow": null,
      "grid_area": null,
      "grid_auto_columns": null,
      "grid_auto_flow": null,
      "grid_auto_rows": null,
      "grid_column": null,
      "grid_gap": null,
      "grid_row": null,
      "grid_template_areas": null,
      "grid_template_columns": null,
      "grid_template_rows": null,
      "height": null,
      "justify_content": null,
      "justify_items": null,
      "left": null,
      "margin": null,
      "max_height": null,
      "max_width": null,
      "min_height": null,
      "min_width": null,
      "object_fit": null,
      "object_position": null,
      "order": null,
      "overflow": null,
      "overflow_x": null,
      "overflow_y": null,
      "padding": null,
      "right": null,
      "top": null,
      "visibility": null,
      "width": null
     }
    },
    "0ecbfb4ab5a54ae18ba1d43cd410b357": {
     "model_module": "@jupyter-widgets/controls",
     "model_module_version": "1.5.0",
     "model_name": "ProgressStyleModel",
     "state": {
      "_model_module": "@jupyter-widgets/controls",
      "_model_module_version": "1.5.0",
      "_model_name": "ProgressStyleModel",
      "_view_count": null,
      "_view_module": "@jupyter-widgets/base",
      "_view_module_version": "1.2.0",
      "_view_name": "StyleView",
      "bar_color": null,
      "description_width": ""
     }
    },
    "0fa55fc0c48f44f283b6cbce669d3e90": {
     "model_module": "@jupyter-widgets/base",
     "model_module_version": "1.2.0",
     "model_name": "LayoutModel",
     "state": {
      "_model_module": "@jupyter-widgets/base",
      "_model_module_version": "1.2.0",
      "_model_name": "LayoutModel",
      "_view_count": null,
      "_view_module": "@jupyter-widgets/base",
      "_view_module_version": "1.2.0",
      "_view_name": "LayoutView",
      "align_content": null,
      "align_items": null,
      "align_self": null,
      "border": null,
      "bottom": null,
      "display": null,
      "flex": null,
      "flex_flow": null,
      "grid_area": null,
      "grid_auto_columns": null,
      "grid_auto_flow": null,
      "grid_auto_rows": null,
      "grid_column": null,
      "grid_gap": null,
      "grid_row": null,
      "grid_template_areas": null,
      "grid_template_columns": null,
      "grid_template_rows": null,
      "height": null,
      "justify_content": null,
      "justify_items": null,
      "left": null,
      "margin": null,
      "max_height": null,
      "max_width": null,
      "min_height": null,
      "min_width": null,
      "object_fit": null,
      "object_position": null,
      "order": null,
      "overflow": null,
      "overflow_x": null,
      "overflow_y": null,
      "padding": null,
      "right": null,
      "top": null,
      "visibility": null,
      "width": null
     }
    },
    "0fcbd21cb6e7474ca8f66ae9d837741d": {
     "model_module": "@jupyter-widgets/controls",
     "model_module_version": "1.5.0",
     "model_name": "HBoxModel",
     "state": {
      "_dom_classes": [],
      "_model_module": "@jupyter-widgets/controls",
      "_model_module_version": "1.5.0",
      "_model_name": "HBoxModel",
      "_view_count": null,
      "_view_module": "@jupyter-widgets/controls",
      "_view_module_version": "1.5.0",
      "_view_name": "HBoxView",
      "box_style": "",
      "children": [
       "IPY_MODEL_a76db059eb74489a87a63b074fe84272",
       "IPY_MODEL_ca38167b10c24fbfb29b3b5686367f5d",
       "IPY_MODEL_e5cf425c436847a3b08af2785ab3ac0f"
      ],
      "layout": "IPY_MODEL_82f5d46b67244893a820cbed4ff939ae"
     }
    },
    "111c21f708604c0388eb948e93491164": {
     "model_module": "@jupyter-widgets/base",
     "model_module_version": "1.2.0",
     "model_name": "LayoutModel",
     "state": {
      "_model_module": "@jupyter-widgets/base",
      "_model_module_version": "1.2.0",
      "_model_name": "LayoutModel",
      "_view_count": null,
      "_view_module": "@jupyter-widgets/base",
      "_view_module_version": "1.2.0",
      "_view_name": "LayoutView",
      "align_content": null,
      "align_items": null,
      "align_self": null,
      "border": null,
      "bottom": null,
      "display": null,
      "flex": null,
      "flex_flow": null,
      "grid_area": null,
      "grid_auto_columns": null,
      "grid_auto_flow": null,
      "grid_auto_rows": null,
      "grid_column": null,
      "grid_gap": null,
      "grid_row": null,
      "grid_template_areas": null,
      "grid_template_columns": null,
      "grid_template_rows": null,
      "height": null,
      "justify_content": null,
      "justify_items": null,
      "left": null,
      "margin": null,
      "max_height": null,
      "max_width": null,
      "min_height": null,
      "min_width": null,
      "object_fit": null,
      "object_position": null,
      "order": null,
      "overflow": null,
      "overflow_x": null,
      "overflow_y": null,
      "padding": null,
      "right": null,
      "top": null,
      "visibility": null,
      "width": null
     }
    },
    "1166f134348740a8868ab0eea2d3e1e3": {
     "model_module": "@jupyter-widgets/base",
     "model_module_version": "1.2.0",
     "model_name": "LayoutModel",
     "state": {
      "_model_module": "@jupyter-widgets/base",
      "_model_module_version": "1.2.0",
      "_model_name": "LayoutModel",
      "_view_count": null,
      "_view_module": "@jupyter-widgets/base",
      "_view_module_version": "1.2.0",
      "_view_name": "LayoutView",
      "align_content": null,
      "align_items": null,
      "align_self": null,
      "border": null,
      "bottom": null,
      "display": null,
      "flex": null,
      "flex_flow": null,
      "grid_area": null,
      "grid_auto_columns": null,
      "grid_auto_flow": null,
      "grid_auto_rows": null,
      "grid_column": null,
      "grid_gap": null,
      "grid_row": null,
      "grid_template_areas": null,
      "grid_template_columns": null,
      "grid_template_rows": null,
      "height": null,
      "justify_content": null,
      "justify_items": null,
      "left": null,
      "margin": null,
      "max_height": null,
      "max_width": null,
      "min_height": null,
      "min_width": null,
      "object_fit": null,
      "object_position": null,
      "order": null,
      "overflow": null,
      "overflow_x": null,
      "overflow_y": null,
      "padding": null,
      "right": null,
      "top": null,
      "visibility": "hidden",
      "width": null
     }
    },
    "12ff19b19e574e6096370b29f0429d64": {
     "model_module": "@jupyter-widgets/controls",
     "model_module_version": "1.5.0",
     "model_name": "HTMLModel",
     "state": {
      "_dom_classes": [],
      "_model_module": "@jupyter-widgets/controls",
      "_model_module_version": "1.5.0",
      "_model_name": "HTMLModel",
      "_view_count": null,
      "_view_module": "@jupyter-widgets/controls",
      "_view_module_version": "1.5.0",
      "_view_name": "HTMLView",
      "description": "",
      "description_tooltip": null,
      "layout": "IPY_MODEL_218ed5b2a97d4e24a316fc25bc5c08a0",
      "placeholder": "​",
      "style": "IPY_MODEL_028821f52aed49be9ddf20092882d2b0",
      "value": " 1.53k/1.53k [00:00&lt;00:00, 67.6kB/s]"
     }
    },
    "131129dd475f4d28a4c4f3b6dd506e8d": {
     "model_module": "@jupyter-widgets/controls",
     "model_module_version": "1.5.0",
     "model_name": "FloatProgressModel",
     "state": {
      "_dom_classes": [],
      "_model_module": "@jupyter-widgets/controls",
      "_model_module_version": "1.5.0",
      "_model_name": "FloatProgressModel",
      "_view_count": null,
      "_view_module": "@jupyter-widgets/controls",
      "_view_module_version": "1.5.0",
      "_view_name": "ProgressView",
      "bar_style": "info",
      "description": "",
      "description_tooltip": null,
      "layout": "IPY_MODEL_5e7786edb3b8488fbe2868541ccaacdb",
      "max": 1,
      "min": 0,
      "orientation": "horizontal",
      "style": "IPY_MODEL_b39d63c40094404f8a073bc8604a3bdd",
      "value": 1
     }
    },
    "14b3e757dcee41a9b6487fb7428ac923": {
     "model_module": "@jupyter-widgets/controls",
     "model_module_version": "1.5.0",
     "model_name": "ProgressStyleModel",
     "state": {
      "_model_module": "@jupyter-widgets/controls",
      "_model_module_version": "1.5.0",
      "_model_name": "ProgressStyleModel",
      "_view_count": null,
      "_view_module": "@jupyter-widgets/base",
      "_view_module_version": "1.2.0",
      "_view_name": "StyleView",
      "bar_color": null,
      "description_width": ""
     }
    },
    "1aca8a38aa5343e9bc46d9bb64ef5e50": {
     "model_module": "@jupyter-widgets/base",
     "model_module_version": "1.2.0",
     "model_name": "LayoutModel",
     "state": {
      "_model_module": "@jupyter-widgets/base",
      "_model_module_version": "1.2.0",
      "_model_name": "LayoutModel",
      "_view_count": null,
      "_view_module": "@jupyter-widgets/base",
      "_view_module_version": "1.2.0",
      "_view_name": "LayoutView",
      "align_content": null,
      "align_items": null,
      "align_self": null,
      "border": null,
      "bottom": null,
      "display": null,
      "flex": null,
      "flex_flow": null,
      "grid_area": null,
      "grid_auto_columns": null,
      "grid_auto_flow": null,
      "grid_auto_rows": null,
      "grid_column": null,
      "grid_gap": null,
      "grid_row": null,
      "grid_template_areas": null,
      "grid_template_columns": null,
      "grid_template_rows": null,
      "height": null,
      "justify_content": null,
      "justify_items": null,
      "left": null,
      "margin": null,
      "max_height": null,
      "max_width": null,
      "min_height": null,
      "min_width": null,
      "object_fit": null,
      "object_position": null,
      "order": null,
      "overflow": null,
      "overflow_x": null,
      "overflow_y": null,
      "padding": null,
      "right": null,
      "top": null,
      "visibility": null,
      "width": null
     }
    },
    "1b15478d821e45f9b8c3fa5ca3562381": {
     "model_module": "@jupyter-widgets/controls",
     "model_module_version": "1.5.0",
     "model_name": "FloatProgressModel",
     "state": {
      "_dom_classes": [],
      "_model_module": "@jupyter-widgets/controls",
      "_model_module_version": "1.5.0",
      "_model_name": "FloatProgressModel",
      "_view_count": null,
      "_view_module": "@jupyter-widgets/controls",
      "_view_module_version": "1.5.0",
      "_view_name": "ProgressView",
      "bar_style": "success",
      "description": "",
      "description_tooltip": null,
      "layout": "IPY_MODEL_9fcf11ab67674102bb552b35cfe4e826",
      "max": 9369,
      "min": 0,
      "orientation": "horizontal",
      "style": "IPY_MODEL_8eaba8d199ad4a33864555dc7f75a953",
      "value": 9369
     }
    },
    "1c99621f4b1345e49f2e3f004223bdb2": {
     "model_module": "@jupyter-widgets/base",
     "model_module_version": "1.2.0",
     "model_name": "LayoutModel",
     "state": {
      "_model_module": "@jupyter-widgets/base",
      "_model_module_version": "1.2.0",
      "_model_name": "LayoutModel",
      "_view_count": null,
      "_view_module": "@jupyter-widgets/base",
      "_view_module_version": "1.2.0",
      "_view_name": "LayoutView",
      "align_content": null,
      "align_items": null,
      "align_self": null,
      "border": null,
      "bottom": null,
      "display": null,
      "flex": null,
      "flex_flow": null,
      "grid_area": null,
      "grid_auto_columns": null,
      "grid_auto_flow": null,
      "grid_auto_rows": null,
      "grid_column": null,
      "grid_gap": null,
      "grid_row": null,
      "grid_template_areas": null,
      "grid_template_columns": null,
      "grid_template_rows": null,
      "height": null,
      "justify_content": null,
      "justify_items": null,
      "left": null,
      "margin": null,
      "max_height": null,
      "max_width": null,
      "min_height": null,
      "min_width": null,
      "object_fit": null,
      "object_position": null,
      "order": null,
      "overflow": null,
      "overflow_x": null,
      "overflow_y": null,
      "padding": null,
      "right": null,
      "top": null,
      "visibility": null,
      "width": null
     }
    },
    "1d5d2c74b42b4545ac984d10bb1f7cb8": {
     "model_module": "@jupyter-widgets/controls",
     "model_module_version": "1.5.0",
     "model_name": "HTMLModel",
     "state": {
      "_dom_classes": [],
      "_model_module": "@jupyter-widgets/controls",
      "_model_module_version": "1.5.0",
      "_model_name": "HTMLModel",
      "_view_count": null,
      "_view_module": "@jupyter-widgets/controls",
      "_view_module_version": "1.5.0",
      "_view_name": "HTMLView",
      "description": "",
      "description_tooltip": null,
      "layout": "IPY_MODEL_b38c7b80ea0f4bc6b80a2051452bfa24",
      "placeholder": "​",
      "style": "IPY_MODEL_ef8a697d22074eebad6ae0646ca8d3d4",
      "value": " 21230/0 [00:01&lt;00:00, 15323.24 examples/s]"
     }
    },
    "1dd355366f5d40e08d4515b3d8dc5121": {
     "model_module": "@jupyter-widgets/base",
     "model_module_version": "1.2.0",
     "model_name": "LayoutModel",
     "state": {
      "_model_module": "@jupyter-widgets/base",
      "_model_module_version": "1.2.0",
      "_model_name": "LayoutModel",
      "_view_count": null,
      "_view_module": "@jupyter-widgets/base",
      "_view_module_version": "1.2.0",
      "_view_name": "LayoutView",
      "align_content": null,
      "align_items": null,
      "align_self": null,
      "border": null,
      "bottom": null,
      "display": null,
      "flex": null,
      "flex_flow": null,
      "grid_area": null,
      "grid_auto_columns": null,
      "grid_auto_flow": null,
      "grid_auto_rows": null,
      "grid_column": null,
      "grid_gap": null,
      "grid_row": null,
      "grid_template_areas": null,
      "grid_template_columns": null,
      "grid_template_rows": null,
      "height": null,
      "justify_content": null,
      "justify_items": null,
      "left": null,
      "margin": null,
      "max_height": null,
      "max_width": null,
      "min_height": null,
      "min_width": null,
      "object_fit": null,
      "object_position": null,
      "order": null,
      "overflow": null,
      "overflow_x": null,
      "overflow_y": null,
      "padding": null,
      "right": null,
      "top": null,
      "visibility": null,
      "width": null
     }
    },
    "1e4263c1fa264abb841988b4169fee14": {
     "model_module": "@jupyter-widgets/controls",
     "model_module_version": "1.5.0",
     "model_name": "FloatProgressModel",
     "state": {
      "_dom_classes": [],
      "_model_module": "@jupyter-widgets/controls",
      "_model_module_version": "1.5.0",
      "_model_name": "FloatProgressModel",
      "_view_count": null,
      "_view_module": "@jupyter-widgets/controls",
      "_view_module_version": "1.5.0",
      "_view_name": "ProgressView",
      "bar_style": "success",
      "description": "",
      "description_tooltip": null,
      "layout": "IPY_MODEL_2eec32d468d94745b9decb35c839e430",
      "max": 23,
      "min": 0,
      "orientation": "horizontal",
      "style": "IPY_MODEL_0ecbfb4ab5a54ae18ba1d43cd410b357",
      "value": 23
     }
    },
    "1f041dfef2b4434f867abde7b1753d97": {
     "model_module": "@jupyter-widgets/controls",
     "model_module_version": "1.5.0",
     "model_name": "ProgressStyleModel",
     "state": {
      "_model_module": "@jupyter-widgets/controls",
      "_model_module_version": "1.5.0",
      "_model_name": "ProgressStyleModel",
      "_view_count": null,
      "_view_module": "@jupyter-widgets/base",
      "_view_module_version": "1.2.0",
      "_view_name": "StyleView",
      "bar_color": null,
      "description_width": ""
     }
    },
    "1f4cceea11b74334967a55423c63f735": {
     "model_module": "@jupyter-widgets/base",
     "model_module_version": "1.2.0",
     "model_name": "LayoutModel",
     "state": {
      "_model_module": "@jupyter-widgets/base",
      "_model_module_version": "1.2.0",
      "_model_name": "LayoutModel",
      "_view_count": null,
      "_view_module": "@jupyter-widgets/base",
      "_view_module_version": "1.2.0",
      "_view_name": "LayoutView",
      "align_content": null,
      "align_items": null,
      "align_self": null,
      "border": null,
      "bottom": null,
      "display": null,
      "flex": null,
      "flex_flow": null,
      "grid_area": null,
      "grid_auto_columns": null,
      "grid_auto_flow": null,
      "grid_auto_rows": null,
      "grid_column": null,
      "grid_gap": null,
      "grid_row": null,
      "grid_template_areas": null,
      "grid_template_columns": null,
      "grid_template_rows": null,
      "height": null,
      "justify_content": null,
      "justify_items": null,
      "left": null,
      "margin": null,
      "max_height": null,
      "max_width": null,
      "min_height": null,
      "min_width": null,
      "object_fit": null,
      "object_position": null,
      "order": null,
      "overflow": null,
      "overflow_x": null,
      "overflow_y": null,
      "padding": null,
      "right": null,
      "top": null,
      "visibility": null,
      "width": null
     }
    },
    "2188afcee2bb4b3fa4f72971a6a67598": {
     "model_module": "@jupyter-widgets/base",
     "model_module_version": "1.2.0",
     "model_name": "LayoutModel",
     "state": {
      "_model_module": "@jupyter-widgets/base",
      "_model_module_version": "1.2.0",
      "_model_name": "LayoutModel",
      "_view_count": null,
      "_view_module": "@jupyter-widgets/base",
      "_view_module_version": "1.2.0",
      "_view_name": "LayoutView",
      "align_content": null,
      "align_items": null,
      "align_self": null,
      "border": null,
      "bottom": null,
      "display": null,
      "flex": null,
      "flex_flow": null,
      "grid_area": null,
      "grid_auto_columns": null,
      "grid_auto_flow": null,
      "grid_auto_rows": null,
      "grid_column": null,
      "grid_gap": null,
      "grid_row": null,
      "grid_template_areas": null,
      "grid_template_columns": null,
      "grid_template_rows": null,
      "height": null,
      "justify_content": null,
      "justify_items": null,
      "left": null,
      "margin": null,
      "max_height": null,
      "max_width": null,
      "min_height": null,
      "min_width": null,
      "object_fit": null,
      "object_position": null,
      "order": null,
      "overflow": null,
      "overflow_x": null,
      "overflow_y": null,
      "padding": null,
      "right": null,
      "top": null,
      "visibility": null,
      "width": null
     }
    },
    "218ed5b2a97d4e24a316fc25bc5c08a0": {
     "model_module": "@jupyter-widgets/base",
     "model_module_version": "1.2.0",
     "model_name": "LayoutModel",
     "state": {
      "_model_module": "@jupyter-widgets/base",
      "_model_module_version": "1.2.0",
      "_model_name": "LayoutModel",
      "_view_count": null,
      "_view_module": "@jupyter-widgets/base",
      "_view_module_version": "1.2.0",
      "_view_name": "LayoutView",
      "align_content": null,
      "align_items": null,
      "align_self": null,
      "border": null,
      "bottom": null,
      "display": null,
      "flex": null,
      "flex_flow": null,
      "grid_area": null,
      "grid_auto_columns": null,
      "grid_auto_flow": null,
      "grid_auto_rows": null,
      "grid_column": null,
      "grid_gap": null,
      "grid_row": null,
      "grid_template_areas": null,
      "grid_template_columns": null,
      "grid_template_rows": null,
      "height": null,
      "justify_content": null,
      "justify_items": null,
      "left": null,
      "margin": null,
      "max_height": null,
      "max_width": null,
      "min_height": null,
      "min_width": null,
      "object_fit": null,
      "object_position": null,
      "order": null,
      "overflow": null,
      "overflow_x": null,
      "overflow_y": null,
      "padding": null,
      "right": null,
      "top": null,
      "visibility": null,
      "width": null
     }
    },
    "23b46a82a7a94e808c801a7587443fdb": {
     "model_module": "@jupyter-widgets/controls",
     "model_module_version": "1.5.0",
     "model_name": "DescriptionStyleModel",
     "state": {
      "_model_module": "@jupyter-widgets/controls",
      "_model_module_version": "1.5.0",
      "_model_name": "DescriptionStyleModel",
      "_view_count": null,
      "_view_module": "@jupyter-widgets/base",
      "_view_module_version": "1.2.0",
      "_view_name": "StyleView",
      "description_width": ""
     }
    },
    "23dc162fca924e378a3ef4edeab5b021": {
     "model_module": "@jupyter-widgets/controls",
     "model_module_version": "1.5.0",
     "model_name": "DescriptionStyleModel",
     "state": {
      "_model_module": "@jupyter-widgets/controls",
      "_model_module_version": "1.5.0",
      "_model_name": "DescriptionStyleModel",
      "_view_count": null,
      "_view_module": "@jupyter-widgets/base",
      "_view_module_version": "1.2.0",
      "_view_name": "StyleView",
      "description_width": ""
     }
    },
    "256ea08e45e64170b7fc328e10442d6e": {
     "model_module": "@jupyter-widgets/controls",
     "model_module_version": "1.5.0",
     "model_name": "FloatProgressModel",
     "state": {
      "_dom_classes": [],
      "_model_module": "@jupyter-widgets/controls",
      "_model_module_version": "1.5.0",
      "_model_name": "FloatProgressModel",
      "_view_count": null,
      "_view_module": "@jupyter-widgets/controls",
      "_view_module_version": "1.5.0",
      "_view_name": "ProgressView",
      "bar_style": "success",
      "description": "",
      "description_tooltip": null,
      "layout": "IPY_MODEL_06f27efb0f69445f9cd32c88bffc1214",
      "max": 10339720618,
      "min": 0,
      "orientation": "horizontal",
      "style": "IPY_MODEL_e4d861e102d848a5a8c09783ad4fe253",
      "value": 10339720618
     }
    },
    "2932243a5b364e5f935ba5bb6dd4da0f": {
     "model_module": "@jupyter-widgets/controls",
     "model_module_version": "1.5.0",
     "model_name": "DescriptionStyleModel",
     "state": {
      "_model_module": "@jupyter-widgets/controls",
      "_model_module_version": "1.5.0",
      "_model_name": "DescriptionStyleModel",
      "_view_count": null,
      "_view_module": "@jupyter-widgets/base",
      "_view_module_version": "1.2.0",
      "_view_name": "StyleView",
      "description_width": ""
     }
    },
    "2c89d22f52c9458ea29a9729e891b63b": {
     "model_module": "@jupyter-widgets/controls",
     "model_module_version": "1.5.0",
     "model_name": "ProgressStyleModel",
     "state": {
      "_model_module": "@jupyter-widgets/controls",
      "_model_module_version": "1.5.0",
      "_model_name": "ProgressStyleModel",
      "_view_count": null,
      "_view_module": "@jupyter-widgets/base",
      "_view_module_version": "1.2.0",
      "_view_name": "StyleView",
      "bar_color": null,
      "description_width": ""
     }
    },
    "2e71714a3b1643a5ba6f5948875ac30b": {
     "model_module": "@jupyter-widgets/controls",
     "model_module_version": "1.5.0",
     "model_name": "HBoxModel",
     "state": {
      "_dom_classes": [],
      "_model_module": "@jupyter-widgets/controls",
      "_model_module_version": "1.5.0",
      "_model_name": "HBoxModel",
      "_view_count": null,
      "_view_module": "@jupyter-widgets/controls",
      "_view_module_version": "1.5.0",
      "_view_name": "HBoxView",
      "box_style": "",
      "children": [
       "IPY_MODEL_5f95aa2024164d0aa276420cfb2eeeed",
       "IPY_MODEL_530a48b9ad004be28b8338adab952255",
       "IPY_MODEL_9925dd2e71c3435f80dead6aabc789a3"
      ],
      "layout": "IPY_MODEL_2188afcee2bb4b3fa4f72971a6a67598"
     }
    },
    "2e75206293794798b6b8fa2401641d06": {
     "model_module": "@jupyter-widgets/base",
     "model_module_version": "1.2.0",
     "model_name": "LayoutModel",
     "state": {
      "_model_module": "@jupyter-widgets/base",
      "_model_module_version": "1.2.0",
      "_model_name": "LayoutModel",
      "_view_count": null,
      "_view_module": "@jupyter-widgets/base",
      "_view_module_version": "1.2.0",
      "_view_name": "LayoutView",
      "align_content": null,
      "align_items": null,
      "align_self": null,
      "border": null,
      "bottom": null,
      "display": null,
      "flex": null,
      "flex_flow": null,
      "grid_area": null,
      "grid_auto_columns": null,
      "grid_auto_flow": null,
      "grid_auto_rows": null,
      "grid_column": null,
      "grid_gap": null,
      "grid_row": null,
      "grid_template_areas": null,
      "grid_template_columns": null,
      "grid_template_rows": null,
      "height": null,
      "justify_content": null,
      "justify_items": null,
      "left": null,
      "margin": null,
      "max_height": null,
      "max_width": null,
      "min_height": null,
      "min_width": null,
      "object_fit": null,
      "object_position": null,
      "order": null,
      "overflow": null,
      "overflow_x": null,
      "overflow_y": null,
      "padding": null,
      "right": null,
      "top": null,
      "visibility": null,
      "width": null
     }
    },
    "2e8d919be25a4382a915e8c2ca82e876": {
     "model_module": "@jupyter-widgets/controls",
     "model_module_version": "1.5.0",
     "model_name": "HTMLModel",
     "state": {
      "_dom_classes": [],
      "_model_module": "@jupyter-widgets/controls",
      "_model_module_version": "1.5.0",
      "_model_name": "HTMLModel",
      "_view_count": null,
      "_view_module": "@jupyter-widgets/controls",
      "_view_module_version": "1.5.0",
      "_view_name": "HTMLView",
      "description": "",
      "description_tooltip": null,
      "layout": "IPY_MODEL_1f4cceea11b74334967a55423c63f735",
      "placeholder": "​",
      "style": "IPY_MODEL_9129bc64871645e9962e7198ec5508a4",
      "value": "Upload file runs/Sep23_05-28-39_865d716a54e6/events.out.tfevents.1663910984.865d716a54e6.77.0: 100%"
     }
    },
    "2eec32d468d94745b9decb35c839e430": {
     "model_module": "@jupyter-widgets/base",
     "model_module_version": "1.2.0",
     "model_name": "LayoutModel",
     "state": {
      "_model_module": "@jupyter-widgets/base",
      "_model_module_version": "1.2.0",
      "_model_name": "LayoutModel",
      "_view_count": null,
      "_view_module": "@jupyter-widgets/base",
      "_view_module_version": "1.2.0",
      "_view_name": "LayoutView",
      "align_content": null,
      "align_items": null,
      "align_self": null,
      "border": null,
      "bottom": null,
      "display": null,
      "flex": null,
      "flex_flow": null,
      "grid_area": null,
      "grid_auto_columns": null,
      "grid_auto_flow": null,
      "grid_auto_rows": null,
      "grid_column": null,
      "grid_gap": null,
      "grid_row": null,
      "grid_template_areas": null,
      "grid_template_columns": null,
      "grid_template_rows": null,
      "height": null,
      "justify_content": null,
      "justify_items": null,
      "left": null,
      "margin": null,
      "max_height": null,
      "max_width": null,
      "min_height": null,
      "min_width": null,
      "object_fit": null,
      "object_position": null,
      "order": null,
      "overflow": null,
      "overflow_x": null,
      "overflow_y": null,
      "padding": null,
      "right": null,
      "top": null,
      "visibility": null,
      "width": null
     }
    },
    "2f270485eae645df83609653d470c786": {
     "model_module": "@jupyter-widgets/controls",
     "model_module_version": "1.5.0",
     "model_name": "HTMLModel",
     "state": {
      "_dom_classes": [],
      "_model_module": "@jupyter-widgets/controls",
      "_model_module_version": "1.5.0",
      "_model_name": "HTMLModel",
      "_view_count": null,
      "_view_module": "@jupyter-widgets/controls",
      "_view_module_version": "1.5.0",
      "_view_name": "HTMLView",
      "description": "",
      "description_tooltip": null,
      "layout": "IPY_MODEL_4c8deab6c09a40b29b92dab1d8b2f5ae",
      "placeholder": "​",
      "style": "IPY_MODEL_2932243a5b364e5f935ba5bb6dd4da0f",
      "value": ""
     }
    },
    "2f8db87af3a84e9e846ee83689ffcef4": {
     "model_module": "@jupyter-widgets/controls",
     "model_module_version": "1.5.0",
     "model_name": "DescriptionStyleModel",
     "state": {
      "_model_module": "@jupyter-widgets/controls",
      "_model_module_version": "1.5.0",
      "_model_name": "DescriptionStyleModel",
      "_view_count": null,
      "_view_module": "@jupyter-widgets/base",
      "_view_module_version": "1.2.0",
      "_view_name": "StyleView",
      "description_width": ""
     }
    },
    "302209a692cf44399e5f786296a12bb4": {
     "model_module": "@jupyter-widgets/base",
     "model_module_version": "1.2.0",
     "model_name": "LayoutModel",
     "state": {
      "_model_module": "@jupyter-widgets/base",
      "_model_module_version": "1.2.0",
      "_model_name": "LayoutModel",
      "_view_count": null,
      "_view_module": "@jupyter-widgets/base",
      "_view_module_version": "1.2.0",
      "_view_name": "LayoutView",
      "align_content": null,
      "align_items": null,
      "align_self": null,
      "border": null,
      "bottom": null,
      "display": null,
      "flex": null,
      "flex_flow": null,
      "grid_area": null,
      "grid_auto_columns": null,
      "grid_auto_flow": null,
      "grid_auto_rows": null,
      "grid_column": null,
      "grid_gap": null,
      "grid_row": null,
      "grid_template_areas": null,
      "grid_template_columns": null,
      "grid_template_rows": null,
      "height": null,
      "justify_content": null,
      "justify_items": null,
      "left": null,
      "margin": null,
      "max_height": null,
      "max_width": null,
      "min_height": null,
      "min_width": null,
      "object_fit": null,
      "object_position": null,
      "order": null,
      "overflow": null,
      "overflow_x": null,
      "overflow_y": null,
      "padding": null,
      "right": null,
      "top": null,
      "visibility": null,
      "width": null
     }
    },
    "317eb097fb834a26b0b2100f13033eaa": {
     "model_module": "@jupyter-widgets/base",
     "model_module_version": "1.2.0",
     "model_name": "LayoutModel",
     "state": {
      "_model_module": "@jupyter-widgets/base",
      "_model_module_version": "1.2.0",
      "_model_name": "LayoutModel",
      "_view_count": null,
      "_view_module": "@jupyter-widgets/base",
      "_view_module_version": "1.2.0",
      "_view_name": "LayoutView",
      "align_content": null,
      "align_items": null,
      "align_self": null,
      "border": null,
      "bottom": null,
      "display": null,
      "flex": null,
      "flex_flow": null,
      "grid_area": null,
      "grid_auto_columns": null,
      "grid_auto_flow": null,
      "grid_auto_rows": null,
      "grid_column": null,
      "grid_gap": null,
      "grid_row": null,
      "grid_template_areas": null,
      "grid_template_columns": null,
      "grid_template_rows": null,
      "height": null,
      "justify_content": null,
      "justify_items": null,
      "left": null,
      "margin": null,
      "max_height": null,
      "max_width": null,
      "min_height": null,
      "min_width": null,
      "object_fit": null,
      "object_position": null,
      "order": null,
      "overflow": null,
      "overflow_x": null,
      "overflow_y": null,
      "padding": null,
      "right": null,
      "top": null,
      "visibility": null,
      "width": null
     }
    },
    "31c19f36d662492aba2f7ca72a74b575": {
     "model_module": "@jupyter-widgets/controls",
     "model_module_version": "1.5.0",
     "model_name": "DescriptionStyleModel",
     "state": {
      "_model_module": "@jupyter-widgets/controls",
      "_model_module_version": "1.5.0",
      "_model_name": "DescriptionStyleModel",
      "_view_count": null,
      "_view_module": "@jupyter-widgets/base",
      "_view_module_version": "1.2.0",
      "_view_name": "StyleView",
      "description_width": ""
     }
    },
    "339e2d1abf4740efb829251a749b1fea": {
     "model_module": "@jupyter-widgets/base",
     "model_module_version": "1.2.0",
     "model_name": "LayoutModel",
     "state": {
      "_model_module": "@jupyter-widgets/base",
      "_model_module_version": "1.2.0",
      "_model_name": "LayoutModel",
      "_view_count": null,
      "_view_module": "@jupyter-widgets/base",
      "_view_module_version": "1.2.0",
      "_view_name": "LayoutView",
      "align_content": null,
      "align_items": null,
      "align_self": null,
      "border": null,
      "bottom": null,
      "display": null,
      "flex": null,
      "flex_flow": null,
      "grid_area": null,
      "grid_auto_columns": null,
      "grid_auto_flow": null,
      "grid_auto_rows": null,
      "grid_column": null,
      "grid_gap": null,
      "grid_row": null,
      "grid_template_areas": null,
      "grid_template_columns": null,
      "grid_template_rows": null,
      "height": null,
      "justify_content": null,
      "justify_items": null,
      "left": null,
      "margin": null,
      "max_height": null,
      "max_width": null,
      "min_height": null,
      "min_width": null,
      "object_fit": null,
      "object_position": null,
      "order": null,
      "overflow": null,
      "overflow_x": null,
      "overflow_y": null,
      "padding": null,
      "right": null,
      "top": null,
      "visibility": null,
      "width": null
     }
    },
    "35a9536125424d278497b07cb775448f": {
     "model_module": "@jupyter-widgets/controls",
     "model_module_version": "1.5.0",
     "model_name": "ProgressStyleModel",
     "state": {
      "_model_module": "@jupyter-widgets/controls",
      "_model_module_version": "1.5.0",
      "_model_name": "ProgressStyleModel",
      "_view_count": null,
      "_view_module": "@jupyter-widgets/base",
      "_view_module_version": "1.2.0",
      "_view_name": "StyleView",
      "bar_color": null,
      "description_width": ""
     }
    },
    "389b62bf66e34abeb18c6624b32a1d23": {
     "model_module": "@jupyter-widgets/controls",
     "model_module_version": "1.5.0",
     "model_name": "DescriptionStyleModel",
     "state": {
      "_model_module": "@jupyter-widgets/controls",
      "_model_module_version": "1.5.0",
      "_model_name": "DescriptionStyleModel",
      "_view_count": null,
      "_view_module": "@jupyter-widgets/base",
      "_view_module_version": "1.2.0",
      "_view_name": "StyleView",
      "description_width": ""
     }
    },
    "38ebc42d33dc4aa48f3c4b34c6617016": {
     "model_module": "@jupyter-widgets/base",
     "model_module_version": "1.2.0",
     "model_name": "LayoutModel",
     "state": {
      "_model_module": "@jupyter-widgets/base",
      "_model_module_version": "1.2.0",
      "_model_name": "LayoutModel",
      "_view_count": null,
      "_view_module": "@jupyter-widgets/base",
      "_view_module_version": "1.2.0",
      "_view_name": "LayoutView",
      "align_content": null,
      "align_items": null,
      "align_self": null,
      "border": null,
      "bottom": null,
      "display": null,
      "flex": null,
      "flex_flow": null,
      "grid_area": null,
      "grid_auto_columns": null,
      "grid_auto_flow": null,
      "grid_auto_rows": null,
      "grid_column": null,
      "grid_gap": null,
      "grid_row": null,
      "grid_template_areas": null,
      "grid_template_columns": null,
      "grid_template_rows": null,
      "height": null,
      "justify_content": null,
      "justify_items": null,
      "left": null,
      "margin": null,
      "max_height": null,
      "max_width": null,
      "min_height": null,
      "min_width": null,
      "object_fit": null,
      "object_position": null,
      "order": null,
      "overflow": null,
      "overflow_x": null,
      "overflow_y": null,
      "padding": null,
      "right": null,
      "top": null,
      "visibility": null,
      "width": null
     }
    },
    "3b26b62e2dd549819bedff2803193e59": {
     "model_module": "@jupyter-widgets/base",
     "model_module_version": "1.2.0",
     "model_name": "LayoutModel",
     "state": {
      "_model_module": "@jupyter-widgets/base",
      "_model_module_version": "1.2.0",
      "_model_name": "LayoutModel",
      "_view_count": null,
      "_view_module": "@jupyter-widgets/base",
      "_view_module_version": "1.2.0",
      "_view_name": "LayoutView",
      "align_content": null,
      "align_items": null,
      "align_self": null,
      "border": null,
      "bottom": null,
      "display": null,
      "flex": null,
      "flex_flow": null,
      "grid_area": null,
      "grid_auto_columns": null,
      "grid_auto_flow": null,
      "grid_auto_rows": null,
      "grid_column": null,
      "grid_gap": null,
      "grid_row": null,
      "grid_template_areas": null,
      "grid_template_columns": null,
      "grid_template_rows": null,
      "height": null,
      "justify_content": null,
      "justify_items": null,
      "left": null,
      "margin": null,
      "max_height": null,
      "max_width": null,
      "min_height": null,
      "min_width": null,
      "object_fit": null,
      "object_position": null,
      "order": null,
      "overflow": null,
      "overflow_x": null,
      "overflow_y": null,
      "padding": null,
      "right": null,
      "top": null,
      "visibility": null,
      "width": null
     }
    },
    "3d4f928da782436ab3c93e9e9fb4e940": {
     "model_module": "@jupyter-widgets/base",
     "model_module_version": "1.2.0",
     "model_name": "LayoutModel",
     "state": {
      "_model_module": "@jupyter-widgets/base",
      "_model_module_version": "1.2.0",
      "_model_name": "LayoutModel",
      "_view_count": null,
      "_view_module": "@jupyter-widgets/base",
      "_view_module_version": "1.2.0",
      "_view_name": "LayoutView",
      "align_content": null,
      "align_items": null,
      "align_self": null,
      "border": null,
      "bottom": null,
      "display": null,
      "flex": null,
      "flex_flow": null,
      "grid_area": null,
      "grid_auto_columns": null,
      "grid_auto_flow": null,
      "grid_auto_rows": null,
      "grid_column": null,
      "grid_gap": null,
      "grid_row": null,
      "grid_template_areas": null,
      "grid_template_columns": null,
      "grid_template_rows": null,
      "height": null,
      "justify_content": null,
      "justify_items": null,
      "left": null,
      "margin": null,
      "max_height": null,
      "max_width": null,
      "min_height": null,
      "min_width": null,
      "object_fit": null,
      "object_position": null,
      "order": null,
      "overflow": null,
      "overflow_x": null,
      "overflow_y": null,
      "padding": null,
      "right": null,
      "top": null,
      "visibility": null,
      "width": null
     }
    },
    "3dc81b8f3a92410f95555b72aaa8a396": {
     "model_module": "@jupyter-widgets/base",
     "model_module_version": "1.2.0",
     "model_name": "LayoutModel",
     "state": {
      "_model_module": "@jupyter-widgets/base",
      "_model_module_version": "1.2.0",
      "_model_name": "LayoutModel",
      "_view_count": null,
      "_view_module": "@jupyter-widgets/base",
      "_view_module_version": "1.2.0",
      "_view_name": "LayoutView",
      "align_content": null,
      "align_items": null,
      "align_self": null,
      "border": null,
      "bottom": null,
      "display": null,
      "flex": null,
      "flex_flow": null,
      "grid_area": null,
      "grid_auto_columns": null,
      "grid_auto_flow": null,
      "grid_auto_rows": null,
      "grid_column": null,
      "grid_gap": null,
      "grid_row": null,
      "grid_template_areas": null,
      "grid_template_columns": null,
      "grid_template_rows": null,
      "height": null,
      "justify_content": null,
      "justify_items": null,
      "left": null,
      "margin": null,
      "max_height": null,
      "max_width": null,
      "min_height": null,
      "min_width": null,
      "object_fit": null,
      "object_position": null,
      "order": null,
      "overflow": null,
      "overflow_x": null,
      "overflow_y": null,
      "padding": null,
      "right": null,
      "top": null,
      "visibility": null,
      "width": null
     }
    },
    "4072b4aa162947dfa5dc8a86aa1b5dc0": {
     "model_module": "@jupyter-widgets/controls",
     "model_module_version": "1.5.0",
     "model_name": "DescriptionStyleModel",
     "state": {
      "_model_module": "@jupyter-widgets/controls",
      "_model_module_version": "1.5.0",
      "_model_name": "DescriptionStyleModel",
      "_view_count": null,
      "_view_module": "@jupyter-widgets/base",
      "_view_module_version": "1.2.0",
      "_view_name": "StyleView",
      "description_width": ""
     }
    },
    "4230ecfa455044a78496880f6d4f2565": {
     "model_module": "@jupyter-widgets/controls",
     "model_module_version": "1.5.0",
     "model_name": "HBoxModel",
     "state": {
      "_dom_classes": [],
      "_model_module": "@jupyter-widgets/controls",
      "_model_module_version": "1.5.0",
      "_model_name": "HBoxModel",
      "_view_count": null,
      "_view_module": "@jupyter-widgets/controls",
      "_view_module_version": "1.5.0",
      "_view_name": "HBoxView",
      "box_style": "",
      "children": [
       "IPY_MODEL_af7225a415884de98a5fe214378600be",
       "IPY_MODEL_a3d6387286eb43aeab7763c3939a3683",
       "IPY_MODEL_641d41911e4b482892d11ea3d3c9308d"
      ],
      "layout": "IPY_MODEL_ffafa61399c24b8ebd0a2ccbbba04132"
     }
    },
    "439838e5a2c948d8aab2fae692350d09": {
     "model_module": "@jupyter-widgets/controls",
     "model_module_version": "1.5.0",
     "model_name": "HBoxModel",
     "state": {
      "_dom_classes": [],
      "_model_module": "@jupyter-widgets/controls",
      "_model_module_version": "1.5.0",
      "_model_name": "HBoxModel",
      "_view_count": null,
      "_view_module": "@jupyter-widgets/controls",
      "_view_module_version": "1.5.0",
      "_view_name": "HBoxView",
      "box_style": "",
      "children": [
       "IPY_MODEL_a1b662a5e34d4f808ccb73f99e466377",
       "IPY_MODEL_4dec70aba00d45339a8f87733c664c8b",
       "IPY_MODEL_12ff19b19e574e6096370b29f0429d64"
      ],
      "layout": "IPY_MODEL_3dc81b8f3a92410f95555b72aaa8a396"
     }
    },
    "45f13200e45242e0a7b85d57865c6063": {
     "model_module": "@jupyter-widgets/base",
     "model_module_version": "1.2.0",
     "model_name": "LayoutModel",
     "state": {
      "_model_module": "@jupyter-widgets/base",
      "_model_module_version": "1.2.0",
      "_model_name": "LayoutModel",
      "_view_count": null,
      "_view_module": "@jupyter-widgets/base",
      "_view_module_version": "1.2.0",
      "_view_name": "LayoutView",
      "align_content": null,
      "align_items": null,
      "align_self": null,
      "border": null,
      "bottom": null,
      "display": null,
      "flex": null,
      "flex_flow": null,
      "grid_area": null,
      "grid_auto_columns": null,
      "grid_auto_flow": null,
      "grid_auto_rows": null,
      "grid_column": null,
      "grid_gap": null,
      "grid_row": null,
      "grid_template_areas": null,
      "grid_template_columns": null,
      "grid_template_rows": null,
      "height": null,
      "justify_content": null,
      "justify_items": null,
      "left": null,
      "margin": null,
      "max_height": null,
      "max_width": null,
      "min_height": null,
      "min_width": null,
      "object_fit": null,
      "object_position": null,
      "order": null,
      "overflow": null,
      "overflow_x": null,
      "overflow_y": null,
      "padding": null,
      "right": null,
      "top": null,
      "visibility": null,
      "width": null
     }
    },
    "4774fa66e0b7488ab16843de07517a3b": {
     "model_module": "@jupyter-widgets/base",
     "model_module_version": "1.2.0",
     "model_name": "LayoutModel",
     "state": {
      "_model_module": "@jupyter-widgets/base",
      "_model_module_version": "1.2.0",
      "_model_name": "LayoutModel",
      "_view_count": null,
      "_view_module": "@jupyter-widgets/base",
      "_view_module_version": "1.2.0",
      "_view_name": "LayoutView",
      "align_content": null,
      "align_items": null,
      "align_self": null,
      "border": null,
      "bottom": null,
      "display": null,
      "flex": null,
      "flex_flow": null,
      "grid_area": null,
      "grid_auto_columns": null,
      "grid_auto_flow": null,
      "grid_auto_rows": null,
      "grid_column": null,
      "grid_gap": null,
      "grid_row": null,
      "grid_template_areas": null,
      "grid_template_columns": null,
      "grid_template_rows": null,
      "height": null,
      "justify_content": null,
      "justify_items": null,
      "left": null,
      "margin": null,
      "max_height": null,
      "max_width": null,
      "min_height": null,
      "min_width": null,
      "object_fit": null,
      "object_position": null,
      "order": null,
      "overflow": null,
      "overflow_x": null,
      "overflow_y": null,
      "padding": null,
      "right": null,
      "top": null,
      "visibility": null,
      "width": "20px"
     }
    },
    "4990daf575164cf6ab70fedcfbda505f": {
     "model_module": "@jupyter-widgets/controls",
     "model_module_version": "1.5.0",
     "model_name": "ProgressStyleModel",
     "state": {
      "_model_module": "@jupyter-widgets/controls",
      "_model_module_version": "1.5.0",
      "_model_name": "ProgressStyleModel",
      "_view_count": null,
      "_view_module": "@jupyter-widgets/base",
      "_view_module_version": "1.2.0",
      "_view_name": "StyleView",
      "bar_color": null,
      "description_width": ""
     }
    },
    "49bab38cfa5a429cb1cdd0dd65069406": {
     "model_module": "@jupyter-widgets/controls",
     "model_module_version": "1.5.0",
     "model_name": "DescriptionStyleModel",
     "state": {
      "_model_module": "@jupyter-widgets/controls",
      "_model_module_version": "1.5.0",
      "_model_name": "DescriptionStyleModel",
      "_view_count": null,
      "_view_module": "@jupyter-widgets/base",
      "_view_module_version": "1.2.0",
      "_view_name": "StyleView",
      "description_width": ""
     }
    },
    "4a33238930034c5a98155ca038386f9b": {
     "model_module": "@jupyter-widgets/controls",
     "model_module_version": "1.5.0",
     "model_name": "FloatProgressModel",
     "state": {
      "_dom_classes": [],
      "_model_module": "@jupyter-widgets/controls",
      "_model_module_version": "1.5.0",
      "_model_name": "FloatProgressModel",
      "_view_count": null,
      "_view_module": "@jupyter-widgets/controls",
      "_view_module_version": "1.5.0",
      "_view_name": "ProgressView",
      "bar_style": "success",
      "description": "",
      "description_tooltip": null,
      "layout": "IPY_MODEL_ef6f7966e89f443391bda9fdc0651650",
      "max": 1,
      "min": 0,
      "orientation": "horizontal",
      "style": "IPY_MODEL_5f3d51b8610843b1b40ceea43bac3052",
      "value": 1
     }
    },
    "4a83039ea9d44dada4c7e9c7d0458790": {
     "model_module": "@jupyter-widgets/controls",
     "model_module_version": "1.5.0",
     "model_name": "DescriptionStyleModel",
     "state": {
      "_model_module": "@jupyter-widgets/controls",
      "_model_module_version": "1.5.0",
      "_model_name": "DescriptionStyleModel",
      "_view_count": null,
      "_view_module": "@jupyter-widgets/base",
      "_view_module_version": "1.2.0",
      "_view_name": "StyleView",
      "description_width": ""
     }
    },
    "4bd7e354b35040cfb5ea8139268fddcd": {
     "model_module": "@jupyter-widgets/controls",
     "model_module_version": "1.5.0",
     "model_name": "PasswordModel",
     "state": {
      "_dom_classes": [],
      "_model_module": "@jupyter-widgets/controls",
      "_model_module_version": "1.5.0",
      "_model_name": "PasswordModel",
      "_view_count": null,
      "_view_module": "@jupyter-widgets/controls",
      "_view_module_version": "1.5.0",
      "_view_name": "PasswordView",
      "continuous_update": true,
      "description": "Token:",
      "description_tooltip": null,
      "disabled": false,
      "layout": "IPY_MODEL_969f27d0e89e40d2afc5b8644649e97c",
      "placeholder": "​",
      "style": "IPY_MODEL_4072b4aa162947dfa5dc8a86aa1b5dc0",
      "value": ""
     }
    },
    "4c8deab6c09a40b29b92dab1d8b2f5ae": {
     "model_module": "@jupyter-widgets/base",
     "model_module_version": "1.2.0",
     "model_name": "LayoutModel",
     "state": {
      "_model_module": "@jupyter-widgets/base",
      "_model_module_version": "1.2.0",
      "_model_name": "LayoutModel",
      "_view_count": null,
      "_view_module": "@jupyter-widgets/base",
      "_view_module_version": "1.2.0",
      "_view_name": "LayoutView",
      "align_content": null,
      "align_items": null,
      "align_self": null,
      "border": null,
      "bottom": null,
      "display": null,
      "flex": null,
      "flex_flow": null,
      "grid_area": null,
      "grid_auto_columns": null,
      "grid_auto_flow": null,
      "grid_auto_rows": null,
      "grid_column": null,
      "grid_gap": null,
      "grid_row": null,
      "grid_template_areas": null,
      "grid_template_columns": null,
      "grid_template_rows": null,
      "height": null,
      "justify_content": null,
      "justify_items": null,
      "left": null,
      "margin": null,
      "max_height": null,
      "max_width": null,
      "min_height": null,
      "min_width": null,
      "object_fit": null,
      "object_position": null,
      "order": null,
      "overflow": null,
      "overflow_x": null,
      "overflow_y": null,
      "padding": null,
      "right": null,
      "top": null,
      "visibility": null,
      "width": null
     }
    },
    "4c924a9090c7410a929f4d8af4e23d3f": {
     "model_module": "@jupyter-widgets/controls",
     "model_module_version": "1.5.0",
     "model_name": "HTMLModel",
     "state": {
      "_dom_classes": [],
      "_model_module": "@jupyter-widgets/controls",
      "_model_module_version": "1.5.0",
      "_model_name": "HTMLModel",
      "_view_count": null,
      "_view_module": "@jupyter-widgets/controls",
      "_view_module_version": "1.5.0",
      "_view_name": "HTMLView",
      "description": "",
      "description_tooltip": null,
      "layout": "IPY_MODEL_111c21f708604c0388eb948e93491164",
      "placeholder": "​",
      "style": "IPY_MODEL_4f8263a7e3d14c678b5597e80c826085",
      "value": "100%"
     }
    },
    "4d88133366cc43499a4f3f0d93275bd8": {
     "model_module": "@jupyter-widgets/controls",
     "model_module_version": "1.5.0",
     "model_name": "DescriptionStyleModel",
     "state": {
      "_model_module": "@jupyter-widgets/controls",
      "_model_module_version": "1.5.0",
      "_model_name": "DescriptionStyleModel",
      "_view_count": null,
      "_view_module": "@jupyter-widgets/base",
      "_view_module_version": "1.2.0",
      "_view_name": "StyleView",
      "description_width": ""
     }
    },
    "4dec70aba00d45339a8f87733c664c8b": {
     "model_module": "@jupyter-widgets/controls",
     "model_module_version": "1.5.0",
     "model_name": "FloatProgressModel",
     "state": {
      "_dom_classes": [],
      "_model_module": "@jupyter-widgets/controls",
      "_model_module_version": "1.5.0",
      "_model_name": "FloatProgressModel",
      "_view_count": null,
      "_view_module": "@jupyter-widgets/controls",
      "_view_module_version": "1.5.0",
      "_view_name": "ProgressView",
      "bar_style": "success",
      "description": "",
      "description_tooltip": null,
      "layout": "IPY_MODEL_fe7737dee44d42fcabdc9344a62d23b6",
      "max": 1568,
      "min": 0,
      "orientation": "horizontal",
      "style": "IPY_MODEL_6c5743d38548432f81ff5fb85a815776",
      "value": 1568
     }
    },
    "4f8263a7e3d14c678b5597e80c826085": {
     "model_module": "@jupyter-widgets/controls",
     "model_module_version": "1.5.0",
     "model_name": "DescriptionStyleModel",
     "state": {
      "_model_module": "@jupyter-widgets/controls",
      "_model_module_version": "1.5.0",
      "_model_name": "DescriptionStyleModel",
      "_view_count": null,
      "_view_module": "@jupyter-widgets/base",
      "_view_module_version": "1.2.0",
      "_view_name": "StyleView",
      "description_width": ""
     }
    },
    "4f878b0694404a88b22bc7d4d9e62ecc": {
     "model_module": "@jupyter-widgets/controls",
     "model_module_version": "1.5.0",
     "model_name": "HBoxModel",
     "state": {
      "_dom_classes": [],
      "_model_module": "@jupyter-widgets/controls",
      "_model_module_version": "1.5.0",
      "_model_name": "HBoxModel",
      "_view_count": null,
      "_view_module": "@jupyter-widgets/controls",
      "_view_module_version": "1.5.0",
      "_view_name": "HBoxView",
      "box_style": "",
      "children": [
       "IPY_MODEL_d2c62c2c1b6c433192bbd95b422ccaa1",
       "IPY_MODEL_4a33238930034c5a98155ca038386f9b",
       "IPY_MODEL_f3e07b1ee30e49bfaafcfbb3d71f142e"
      ],
      "layout": "IPY_MODEL_6cc3ee4a6f2540a1ba8ed516ec16faac"
     }
    },
    "506a9097f8c245d8a30e12d55b0e315d": {
     "model_module": "@jupyter-widgets/controls",
     "model_module_version": "1.5.0",
     "model_name": "HTMLModel",
     "state": {
      "_dom_classes": [],
      "_model_module": "@jupyter-widgets/controls",
      "_model_module_version": "1.5.0",
      "_model_name": "HTMLModel",
      "_view_count": null,
      "_view_module": "@jupyter-widgets/controls",
      "_view_module_version": "1.5.0",
      "_view_name": "HTMLView",
      "description": "",
      "description_tooltip": null,
      "layout": "IPY_MODEL_d9402b1a2b7b4d26938c30e5f0506edf",
      "placeholder": "​",
      "style": "IPY_MODEL_b09d33803c624b92b291e95a83e33f48",
      "value": "Downloading: 100%"
     }
    },
    "527053b7bfdb47ce87fdb461e3325cf8": {
     "model_module": "@jupyter-widgets/base",
     "model_module_version": "1.2.0",
     "model_name": "LayoutModel",
     "state": {
      "_model_module": "@jupyter-widgets/base",
      "_model_module_version": "1.2.0",
      "_model_name": "LayoutModel",
      "_view_count": null,
      "_view_module": "@jupyter-widgets/base",
      "_view_module_version": "1.2.0",
      "_view_name": "LayoutView",
      "align_content": null,
      "align_items": null,
      "align_self": null,
      "border": null,
      "bottom": null,
      "display": null,
      "flex": null,
      "flex_flow": null,
      "grid_area": null,
      "grid_auto_columns": null,
      "grid_auto_flow": null,
      "grid_auto_rows": null,
      "grid_column": null,
      "grid_gap": null,
      "grid_row": null,
      "grid_template_areas": null,
      "grid_template_columns": null,
      "grid_template_rows": null,
      "height": null,
      "justify_content": null,
      "justify_items": null,
      "left": null,
      "margin": null,
      "max_height": null,
      "max_width": null,
      "min_height": null,
      "min_width": null,
      "object_fit": null,
      "object_position": null,
      "order": null,
      "overflow": null,
      "overflow_x": null,
      "overflow_y": null,
      "padding": null,
      "right": null,
      "top": null,
      "visibility": null,
      "width": null
     }
    },
    "530a48b9ad004be28b8338adab952255": {
     "model_module": "@jupyter-widgets/controls",
     "model_module_version": "1.5.0",
     "model_name": "FloatProgressModel",
     "state": {
      "_dom_classes": [],
      "_model_module": "@jupyter-widgets/controls",
      "_model_module_version": "1.5.0",
      "_model_name": "FloatProgressModel",
      "_view_count": null,
      "_view_module": "@jupyter-widgets/controls",
      "_view_module_version": "1.5.0",
      "_view_name": "ProgressView",
      "bar_style": "success",
      "description": "",
      "description_tooltip": null,
      "layout": "IPY_MODEL_8beabbd6fb9f4415abde501d77b221a9",
      "max": 1269737156,
      "min": 0,
      "orientation": "horizontal",
      "style": "IPY_MODEL_a7093a476b0c4c35bdce897046fb0512",
      "value": 1269737156
     }
    },
    "541a6621da094723a0e942dc2cd540e1": {
     "model_module": "@jupyter-widgets/controls",
     "model_module_version": "1.5.0",
     "model_name": "VBoxModel",
     "state": {
      "_dom_classes": [],
      "_model_module": "@jupyter-widgets/controls",
      "_model_module_version": "1.5.0",
      "_model_name": "VBoxModel",
      "_view_count": null,
      "_view_module": "@jupyter-widgets/controls",
      "_view_module_version": "1.5.0",
      "_view_name": "VBoxView",
      "box_style": "",
      "children": [
       "IPY_MODEL_7be12029a9d94fa99eb6c8db1e470088",
       "IPY_MODEL_4bd7e354b35040cfb5ea8139268fddcd",
       "IPY_MODEL_d3fbbda6803448bba393bfea3d812530",
       "IPY_MODEL_beb69b8487d14a479db95c3e34bdf93b"
      ],
      "layout": "IPY_MODEL_d88f92cdbc7540169abe27cc52308fca"
     }
    },
    "551464ae7e5041d5a83e66b3dff19049": {
     "model_module": "@jupyter-widgets/base",
     "model_module_version": "1.2.0",
     "model_name": "LayoutModel",
     "state": {
      "_model_module": "@jupyter-widgets/base",
      "_model_module_version": "1.2.0",
      "_model_name": "LayoutModel",
      "_view_count": null,
      "_view_module": "@jupyter-widgets/base",
      "_view_module_version": "1.2.0",
      "_view_name": "LayoutView",
      "align_content": null,
      "align_items": null,
      "align_self": null,
      "border": null,
      "bottom": null,
      "display": null,
      "flex": null,
      "flex_flow": null,
      "grid_area": null,
      "grid_auto_columns": null,
      "grid_auto_flow": null,
      "grid_auto_rows": null,
      "grid_column": null,
      "grid_gap": null,
      "grid_row": null,
      "grid_template_areas": null,
      "grid_template_columns": null,
      "grid_template_rows": null,
      "height": null,
      "justify_content": null,
      "justify_items": null,
      "left": null,
      "margin": null,
      "max_height": null,
      "max_width": null,
      "min_height": null,
      "min_width": null,
      "object_fit": null,
      "object_position": null,
      "order": null,
      "overflow": null,
      "overflow_x": null,
      "overflow_y": null,
      "padding": null,
      "right": null,
      "top": null,
      "visibility": null,
      "width": null
     }
    },
    "55a0d69a4b6c4ac8b514cab236599274": {
     "model_module": "@jupyter-widgets/controls",
     "model_module_version": "1.5.0",
     "model_name": "DescriptionStyleModel",
     "state": {
      "_model_module": "@jupyter-widgets/controls",
      "_model_module_version": "1.5.0",
      "_model_name": "DescriptionStyleModel",
      "_view_count": null,
      "_view_module": "@jupyter-widgets/base",
      "_view_module_version": "1.2.0",
      "_view_name": "StyleView",
      "description_width": ""
     }
    },
    "599f6f827559467f9dfd406394442fad": {
     "model_module": "@jupyter-widgets/controls",
     "model_module_version": "1.5.0",
     "model_name": "ButtonStyleModel",
     "state": {
      "_model_module": "@jupyter-widgets/controls",
      "_model_module_version": "1.5.0",
      "_model_name": "ButtonStyleModel",
      "_view_count": null,
      "_view_module": "@jupyter-widgets/base",
      "_view_module_version": "1.2.0",
      "_view_name": "StyleView",
      "button_color": null,
      "font_weight": ""
     }
    },
    "5b33a68e33c34ff79e1712d848a7da6d": {
     "model_module": "@jupyter-widgets/base",
     "model_module_version": "1.2.0",
     "model_name": "LayoutModel",
     "state": {
      "_model_module": "@jupyter-widgets/base",
      "_model_module_version": "1.2.0",
      "_model_name": "LayoutModel",
      "_view_count": null,
      "_view_module": "@jupyter-widgets/base",
      "_view_module_version": "1.2.0",
      "_view_name": "LayoutView",
      "align_content": null,
      "align_items": null,
      "align_self": null,
      "border": null,
      "bottom": null,
      "display": null,
      "flex": null,
      "flex_flow": null,
      "grid_area": null,
      "grid_auto_columns": null,
      "grid_auto_flow": null,
      "grid_auto_rows": null,
      "grid_column": null,
      "grid_gap": null,
      "grid_row": null,
      "grid_template_areas": null,
      "grid_template_columns": null,
      "grid_template_rows": null,
      "height": null,
      "justify_content": null,
      "justify_items": null,
      "left": null,
      "margin": null,
      "max_height": null,
      "max_width": null,
      "min_height": null,
      "min_width": null,
      "object_fit": null,
      "object_position": null,
      "order": null,
      "overflow": null,
      "overflow_x": null,
      "overflow_y": null,
      "padding": null,
      "right": null,
      "top": null,
      "visibility": null,
      "width": null
     }
    },
    "5c782276080f4475807f419b822557e7": {
     "model_module": "@jupyter-widgets/base",
     "model_module_version": "1.2.0",
     "model_name": "LayoutModel",
     "state": {
      "_model_module": "@jupyter-widgets/base",
      "_model_module_version": "1.2.0",
      "_model_name": "LayoutModel",
      "_view_count": null,
      "_view_module": "@jupyter-widgets/base",
      "_view_module_version": "1.2.0",
      "_view_name": "LayoutView",
      "align_content": null,
      "align_items": null,
      "align_self": null,
      "border": null,
      "bottom": null,
      "display": null,
      "flex": null,
      "flex_flow": null,
      "grid_area": null,
      "grid_auto_columns": null,
      "grid_auto_flow": null,
      "grid_auto_rows": null,
      "grid_column": null,
      "grid_gap": null,
      "grid_row": null,
      "grid_template_areas": null,
      "grid_template_columns": null,
      "grid_template_rows": null,
      "height": null,
      "justify_content": null,
      "justify_items": null,
      "left": null,
      "margin": null,
      "max_height": null,
      "max_width": null,
      "min_height": null,
      "min_width": null,
      "object_fit": null,
      "object_position": null,
      "order": null,
      "overflow": null,
      "overflow_x": null,
      "overflow_y": null,
      "padding": null,
      "right": null,
      "top": null,
      "visibility": null,
      "width": null
     }
    },
    "5ccc3d151ec74deba176f25ac5c0325d": {
     "model_module": "@jupyter-widgets/controls",
     "model_module_version": "1.5.0",
     "model_name": "HTMLModel",
     "state": {
      "_dom_classes": [],
      "_model_module": "@jupyter-widgets/controls",
      "_model_module_version": "1.5.0",
      "_model_name": "HTMLModel",
      "_view_count": null,
      "_view_module": "@jupyter-widgets/controls",
      "_view_module_version": "1.5.0",
      "_view_name": "HTMLView",
      "description": "",
      "description_tooltip": null,
      "layout": "IPY_MODEL_cd4fe068dc494006a308e2238d00f3dc",
      "placeholder": "​",
      "style": "IPY_MODEL_c535ba71680749dbb7bb4f4219b1349c",
      "value": " 10.3G/10.3G [14:22&lt;00:00, 11.3MB/s]"
     }
    },
    "5d75711959b944f091d71fe6ed4481e7": {
     "model_module": "@jupyter-widgets/controls",
     "model_module_version": "1.5.0",
     "model_name": "HTMLModel",
     "state": {
      "_dom_classes": [],
      "_model_module": "@jupyter-widgets/controls",
      "_model_module_version": "1.5.0",
      "_model_name": "HTMLModel",
      "_view_count": null,
      "_view_module": "@jupyter-widgets/controls",
      "_view_module_version": "1.5.0",
      "_view_name": "HTMLView",
      "description": "",
      "description_tooltip": null,
      "layout": "IPY_MODEL_551464ae7e5041d5a83e66b3dff19049",
      "placeholder": "​",
      "style": "IPY_MODEL_06505625fc054999919811e4d06f492d",
      "value": ""
     }
    },
    "5e26b69e61eb45d7a4a1eecf4ca276d4": {
     "model_module": "@jupyter-widgets/controls",
     "model_module_version": "1.5.0",
     "model_name": "DescriptionStyleModel",
     "state": {
      "_model_module": "@jupyter-widgets/controls",
      "_model_module_version": "1.5.0",
      "_model_name": "DescriptionStyleModel",
      "_view_count": null,
      "_view_module": "@jupyter-widgets/base",
      "_view_module_version": "1.2.0",
      "_view_name": "StyleView",
      "description_width": ""
     }
    },
    "5e7786edb3b8488fbe2868541ccaacdb": {
     "model_module": "@jupyter-widgets/base",
     "model_module_version": "1.2.0",
     "model_name": "LayoutModel",
     "state": {
      "_model_module": "@jupyter-widgets/base",
      "_model_module_version": "1.2.0",
      "_model_name": "LayoutModel",
      "_view_count": null,
      "_view_module": "@jupyter-widgets/base",
      "_view_module_version": "1.2.0",
      "_view_name": "LayoutView",
      "align_content": null,
      "align_items": null,
      "align_self": null,
      "border": null,
      "bottom": null,
      "display": null,
      "flex": null,
      "flex_flow": null,
      "grid_area": null,
      "grid_auto_columns": null,
      "grid_auto_flow": null,
      "grid_auto_rows": null,
      "grid_column": null,
      "grid_gap": null,
      "grid_row": null,
      "grid_template_areas": null,
      "grid_template_columns": null,
      "grid_template_rows": null,
      "height": null,
      "justify_content": null,
      "justify_items": null,
      "left": null,
      "margin": null,
      "max_height": null,
      "max_width": null,
      "min_height": null,
      "min_width": null,
      "object_fit": null,
      "object_position": null,
      "order": null,
      "overflow": null,
      "overflow_x": null,
      "overflow_y": null,
      "padding": null,
      "right": null,
      "top": null,
      "visibility": null,
      "width": "20px"
     }
    },
    "5f3d51b8610843b1b40ceea43bac3052": {
     "model_module": "@jupyter-widgets/controls",
     "model_module_version": "1.5.0",
     "model_name": "ProgressStyleModel",
     "state": {
      "_model_module": "@jupyter-widgets/controls",
      "_model_module_version": "1.5.0",
      "_model_name": "ProgressStyleModel",
      "_view_count": null,
      "_view_module": "@jupyter-widgets/base",
      "_view_module_version": "1.2.0",
      "_view_name": "StyleView",
      "bar_color": null,
      "description_width": ""
     }
    },
    "5f95aa2024164d0aa276420cfb2eeeed": {
     "model_module": "@jupyter-widgets/controls",
     "model_module_version": "1.5.0",
     "model_name": "HTMLModel",
     "state": {
      "_dom_classes": [],
      "_model_module": "@jupyter-widgets/controls",
      "_model_module_version": "1.5.0",
      "_model_name": "HTMLModel",
      "_view_count": null,
      "_view_module": "@jupyter-widgets/controls",
      "_view_module_version": "1.5.0",
      "_view_name": "HTMLView",
      "description": "",
      "description_tooltip": null,
      "layout": "IPY_MODEL_38ebc42d33dc4aa48f3c4b34c6617016",
      "placeholder": "​",
      "style": "IPY_MODEL_83b0831514f74e1cbc3c879e4a037093",
      "value": "Downloading: 100%"
     }
    },
    "6027ba42a1814abf9fb47ca85c626eeb": {
     "model_module": "@jupyter-widgets/base",
     "model_module_version": "1.2.0",
     "model_name": "LayoutModel",
     "state": {
      "_model_module": "@jupyter-widgets/base",
      "_model_module_version": "1.2.0",
      "_model_name": "LayoutModel",
      "_view_count": null,
      "_view_module": "@jupyter-widgets/base",
      "_view_module_version": "1.2.0",
      "_view_name": "LayoutView",
      "align_content": null,
      "align_items": null,
      "align_self": null,
      "border": null,
      "bottom": null,
      "display": null,
      "flex": null,
      "flex_flow": null,
      "grid_area": null,
      "grid_auto_columns": null,
      "grid_auto_flow": null,
      "grid_auto_rows": null,
      "grid_column": null,
      "grid_gap": null,
      "grid_row": null,
      "grid_template_areas": null,
      "grid_template_columns": null,
      "grid_template_rows": null,
      "height": null,
      "justify_content": null,
      "justify_items": null,
      "left": null,
      "margin": null,
      "max_height": null,
      "max_width": null,
      "min_height": null,
      "min_width": null,
      "object_fit": null,
      "object_position": null,
      "order": null,
      "overflow": null,
      "overflow_x": null,
      "overflow_y": null,
      "padding": null,
      "right": null,
      "top": null,
      "visibility": null,
      "width": null
     }
    },
    "60f031f7debd4270be97c1158098d697": {
     "model_module": "@jupyter-widgets/controls",
     "model_module_version": "1.5.0",
     "model_name": "HTMLModel",
     "state": {
      "_dom_classes": [],
      "_model_module": "@jupyter-widgets/controls",
      "_model_module_version": "1.5.0",
      "_model_name": "HTMLModel",
      "_view_count": null,
      "_view_module": "@jupyter-widgets/controls",
      "_view_module_version": "1.5.0",
      "_view_name": "HTMLView",
      "description": "",
      "description_tooltip": null,
      "layout": "IPY_MODEL_a1449d3b68494c2a951c8c391692824e",
      "placeholder": "​",
      "style": "IPY_MODEL_2f8db87af3a84e9e846ee83689ffcef4",
      "value": "Downloading: "
     }
    },
    "641d41911e4b482892d11ea3d3c9308d": {
     "model_module": "@jupyter-widgets/controls",
     "model_module_version": "1.5.0",
     "model_name": "HTMLModel",
     "state": {
      "_dom_classes": [],
      "_model_module": "@jupyter-widgets/controls",
      "_model_module_version": "1.5.0",
      "_model_name": "HTMLModel",
      "_view_count": null,
      "_view_module": "@jupyter-widgets/controls",
      "_view_module_version": "1.5.0",
      "_view_name": "HTMLView",
      "description": "",
      "description_tooltip": null,
      "layout": "IPY_MODEL_1c99621f4b1345e49f2e3f004223bdb2",
      "placeholder": "​",
      "style": "IPY_MODEL_7e479f2c5b624c089eded9528e618726",
      "value": " 2/2 [00:00&lt;00:00, 42.78it/s]"
     }
    },
    "64a6d36e60a24f5e8fa8c6fc27baeb51": {
     "model_module": "@jupyter-widgets/controls",
     "model_module_version": "1.5.0",
     "model_name": "HBoxModel",
     "state": {
      "_dom_classes": [],
      "_model_module": "@jupyter-widgets/controls",
      "_model_module_version": "1.5.0",
      "_model_name": "HBoxModel",
      "_view_count": null,
      "_view_module": "@jupyter-widgets/controls",
      "_view_module_version": "1.5.0",
      "_view_name": "HBoxView",
      "box_style": "",
      "children": [
       "IPY_MODEL_506a9097f8c245d8a30e12d55b0e315d",
       "IPY_MODEL_256ea08e45e64170b7fc328e10442d6e",
       "IPY_MODEL_5ccc3d151ec74deba176f25ac5c0325d"
      ],
      "layout": "IPY_MODEL_c2773786c33e4760ab2bde29e52e0aa9"
     }
    },
    "682c392661a64c6a99c573ed0f2ec37d": {
     "model_module": "@jupyter-widgets/controls",
     "model_module_version": "1.5.0",
     "model_name": "HTMLModel",
     "state": {
      "_dom_classes": [],
      "_model_module": "@jupyter-widgets/controls",
      "_model_module_version": "1.5.0",
      "_model_name": "HTMLModel",
      "_view_count": null,
      "_view_module": "@jupyter-widgets/controls",
      "_view_module_version": "1.5.0",
      "_view_name": "HTMLView",
      "description": "",
      "description_tooltip": null,
      "layout": "IPY_MODEL_cdd15f91dbb64b1b8aa9d849437cfcf7",
      "placeholder": "​",
      "style": "IPY_MODEL_c08fee1e52b54bb59deafd1f83b2a459",
      "value": "100%"
     }
    },
    "68a8f1df126e4a13af38956e9deffeb6": {
     "model_module": "@jupyter-widgets/base",
     "model_module_version": "1.2.0",
     "model_name": "LayoutModel",
     "state": {
      "_model_module": "@jupyter-widgets/base",
      "_model_module_version": "1.2.0",
      "_model_name": "LayoutModel",
      "_view_count": null,
      "_view_module": "@jupyter-widgets/base",
      "_view_module_version": "1.2.0",
      "_view_name": "LayoutView",
      "align_content": null,
      "align_items": null,
      "align_self": null,
      "border": null,
      "bottom": null,
      "display": null,
      "flex": null,
      "flex_flow": null,
      "grid_area": null,
      "grid_auto_columns": null,
      "grid_auto_flow": null,
      "grid_auto_rows": null,
      "grid_column": null,
      "grid_gap": null,
      "grid_row": null,
      "grid_template_areas": null,
      "grid_template_columns": null,
      "grid_template_rows": null,
      "height": null,
      "justify_content": null,
      "justify_items": null,
      "left": null,
      "margin": null,
      "max_height": null,
      "max_width": null,
      "min_height": null,
      "min_width": null,
      "object_fit": null,
      "object_position": null,
      "order": null,
      "overflow": null,
      "overflow_x": null,
      "overflow_y": null,
      "padding": null,
      "right": null,
      "top": null,
      "visibility": null,
      "width": null
     }
    },
    "691c280323874c548ef199797674a10d": {
     "model_module": "@jupyter-widgets/controls",
     "model_module_version": "1.5.0",
     "model_name": "HBoxModel",
     "state": {
      "_dom_classes": [],
      "_model_module": "@jupyter-widgets/controls",
      "_model_module_version": "1.5.0",
      "_model_name": "HBoxModel",
      "_view_count": null,
      "_view_module": "@jupyter-widgets/controls",
      "_view_module_version": "1.5.0",
      "_view_name": "HBoxView",
      "box_style": "",
      "children": [
       "IPY_MODEL_03d77a8429844e5eae4f1e098cef7530",
       "IPY_MODEL_f0d9d8e29248444f89fb2ee3b2e2f9a7",
       "IPY_MODEL_965aab196ac64203a44a296664c745f0"
      ],
      "layout": "IPY_MODEL_6b1dcb2a96a54c34b902e8bb946813e9"
     }
    },
    "69e5efc0c30540a188dfdf288bee2c48": {
     "model_module": "@jupyter-widgets/base",
     "model_module_version": "1.2.0",
     "model_name": "LayoutModel",
     "state": {
      "_model_module": "@jupyter-widgets/base",
      "_model_module_version": "1.2.0",
      "_model_name": "LayoutModel",
      "_view_count": null,
      "_view_module": "@jupyter-widgets/base",
      "_view_module_version": "1.2.0",
      "_view_name": "LayoutView",
      "align_content": null,
      "align_items": null,
      "align_self": null,
      "border": null,
      "bottom": null,
      "display": null,
      "flex": null,
      "flex_flow": null,
      "grid_area": null,
      "grid_auto_columns": null,
      "grid_auto_flow": null,
      "grid_auto_rows": null,
      "grid_column": null,
      "grid_gap": null,
      "grid_row": null,
      "grid_template_areas": null,
      "grid_template_columns": null,
      "grid_template_rows": null,
      "height": null,
      "justify_content": null,
      "justify_items": null,
      "left": null,
      "margin": null,
      "max_height": null,
      "max_width": null,
      "min_height": null,
      "min_width": null,
      "object_fit": null,
      "object_position": null,
      "order": null,
      "overflow": null,
      "overflow_x": null,
      "overflow_y": null,
      "padding": null,
      "right": null,
      "top": null,
      "visibility": null,
      "width": "20px"
     }
    },
    "6a4bab6f2f314f1d985d57fc09e813d3": {
     "model_module": "@jupyter-widgets/controls",
     "model_module_version": "1.5.0",
     "model_name": "HBoxModel",
     "state": {
      "_dom_classes": [],
      "_model_module": "@jupyter-widgets/controls",
      "_model_module_version": "1.5.0",
      "_model_name": "HBoxModel",
      "_view_count": null,
      "_view_module": "@jupyter-widgets/controls",
      "_view_module_version": "1.5.0",
      "_view_name": "HBoxView",
      "box_style": "",
      "children": [
       "IPY_MODEL_5d75711959b944f091d71fe6ed4481e7",
       "IPY_MODEL_131129dd475f4d28a4c4f3b6dd506e8d",
       "IPY_MODEL_1d5d2c74b42b4545ac984d10bb1f7cb8"
      ],
      "layout": "IPY_MODEL_755a3ae9baa44b85b3bf8bafa290ac74"
     }
    },
    "6a631c893d594bcfb22ff64ec8780b60": {
     "model_module": "@jupyter-widgets/controls",
     "model_module_version": "1.5.0",
     "model_name": "HBoxModel",
     "state": {
      "_dom_classes": [],
      "_model_module": "@jupyter-widgets/controls",
      "_model_module_version": "1.5.0",
      "_model_name": "HBoxModel",
      "_view_count": null,
      "_view_module": "@jupyter-widgets/controls",
      "_view_module_version": "1.5.0",
      "_view_name": "HBoxView",
      "box_style": "",
      "children": [
       "IPY_MODEL_2e8d919be25a4382a915e8c2ca82e876",
       "IPY_MODEL_1b15478d821e45f9b8c3fa5ca3562381",
       "IPY_MODEL_802451b887474b9e87083e607a11ff07"
      ],
      "layout": "IPY_MODEL_302209a692cf44399e5f786296a12bb4"
     }
    },
    "6a98a1971bb2433c93d516283a065dcb": {
     "model_module": "@jupyter-widgets/controls",
     "model_module_version": "1.5.0",
     "model_name": "DescriptionStyleModel",
     "state": {
      "_model_module": "@jupyter-widgets/controls",
      "_model_module_version": "1.5.0",
      "_model_name": "DescriptionStyleModel",
      "_view_count": null,
      "_view_module": "@jupyter-widgets/base",
      "_view_module_version": "1.2.0",
      "_view_name": "StyleView",
      "description_width": ""
     }
    },
    "6b1dcb2a96a54c34b902e8bb946813e9": {
     "model_module": "@jupyter-widgets/base",
     "model_module_version": "1.2.0",
     "model_name": "LayoutModel",
     "state": {
      "_model_module": "@jupyter-widgets/base",
      "_model_module_version": "1.2.0",
      "_model_name": "LayoutModel",
      "_view_count": null,
      "_view_module": "@jupyter-widgets/base",
      "_view_module_version": "1.2.0",
      "_view_name": "LayoutView",
      "align_content": null,
      "align_items": null,
      "align_self": null,
      "border": null,
      "bottom": null,
      "display": null,
      "flex": null,
      "flex_flow": null,
      "grid_area": null,
      "grid_auto_columns": null,
      "grid_auto_flow": null,
      "grid_auto_rows": null,
      "grid_column": null,
      "grid_gap": null,
      "grid_row": null,
      "grid_template_areas": null,
      "grid_template_columns": null,
      "grid_template_rows": null,
      "height": null,
      "justify_content": null,
      "justify_items": null,
      "left": null,
      "margin": null,
      "max_height": null,
      "max_width": null,
      "min_height": null,
      "min_width": null,
      "object_fit": null,
      "object_position": null,
      "order": null,
      "overflow": null,
      "overflow_x": null,
      "overflow_y": null,
      "padding": null,
      "right": null,
      "top": null,
      "visibility": null,
      "width": null
     }
    },
    "6c5743d38548432f81ff5fb85a815776": {
     "model_module": "@jupyter-widgets/controls",
     "model_module_version": "1.5.0",
     "model_name": "ProgressStyleModel",
     "state": {
      "_model_module": "@jupyter-widgets/controls",
      "_model_module_version": "1.5.0",
      "_model_name": "ProgressStyleModel",
      "_view_count": null,
      "_view_module": "@jupyter-widgets/base",
      "_view_module_version": "1.2.0",
      "_view_name": "StyleView",
      "bar_color": null,
      "description_width": ""
     }
    },
    "6cc3ee4a6f2540a1ba8ed516ec16faac": {
     "model_module": "@jupyter-widgets/base",
     "model_module_version": "1.2.0",
     "model_name": "LayoutModel",
     "state": {
      "_model_module": "@jupyter-widgets/base",
      "_model_module_version": "1.2.0",
      "_model_name": "LayoutModel",
      "_view_count": null,
      "_view_module": "@jupyter-widgets/base",
      "_view_module_version": "1.2.0",
      "_view_name": "LayoutView",
      "align_content": null,
      "align_items": null,
      "align_self": null,
      "border": null,
      "bottom": null,
      "display": null,
      "flex": null,
      "flex_flow": null,
      "grid_area": null,
      "grid_auto_columns": null,
      "grid_auto_flow": null,
      "grid_auto_rows": null,
      "grid_column": null,
      "grid_gap": null,
      "grid_row": null,
      "grid_template_areas": null,
      "grid_template_columns": null,
      "grid_template_rows": null,
      "height": null,
      "justify_content": null,
      "justify_items": null,
      "left": null,
      "margin": null,
      "max_height": null,
      "max_width": null,
      "min_height": null,
      "min_width": null,
      "object_fit": null,
      "object_position": null,
      "order": null,
      "overflow": null,
      "overflow_x": null,
      "overflow_y": null,
      "padding": null,
      "right": null,
      "top": null,
      "visibility": null,
      "width": null
     }
    },
    "6ef66ee5efc24241893eece8c0cf53ee": {
     "model_module": "@jupyter-widgets/base",
     "model_module_version": "1.2.0",
     "model_name": "LayoutModel",
     "state": {
      "_model_module": "@jupyter-widgets/base",
      "_model_module_version": "1.2.0",
      "_model_name": "LayoutModel",
      "_view_count": null,
      "_view_module": "@jupyter-widgets/base",
      "_view_module_version": "1.2.0",
      "_view_name": "LayoutView",
      "align_content": null,
      "align_items": null,
      "align_self": null,
      "border": null,
      "bottom": null,
      "display": null,
      "flex": null,
      "flex_flow": null,
      "grid_area": null,
      "grid_auto_columns": null,
      "grid_auto_flow": null,
      "grid_auto_rows": null,
      "grid_column": null,
      "grid_gap": null,
      "grid_row": null,
      "grid_template_areas": null,
      "grid_template_columns": null,
      "grid_template_rows": null,
      "height": null,
      "justify_content": null,
      "justify_items": null,
      "left": null,
      "margin": null,
      "max_height": null,
      "max_width": null,
      "min_height": null,
      "min_width": null,
      "object_fit": null,
      "object_position": null,
      "order": null,
      "overflow": null,
      "overflow_x": null,
      "overflow_y": null,
      "padding": null,
      "right": null,
      "top": null,
      "visibility": null,
      "width": null
     }
    },
    "704a1078729c48fa917d6b6d69768985": {
     "model_module": "@jupyter-widgets/controls",
     "model_module_version": "1.5.0",
     "model_name": "HTMLModel",
     "state": {
      "_dom_classes": [],
      "_model_module": "@jupyter-widgets/controls",
      "_model_module_version": "1.5.0",
      "_model_name": "HTMLModel",
      "_view_count": null,
      "_view_module": "@jupyter-widgets/controls",
      "_view_module_version": "1.5.0",
      "_view_name": "HTMLView",
      "description": "",
      "description_tooltip": null,
      "layout": "IPY_MODEL_0c5e072f42b44293b83631f860a1c723",
      "placeholder": "​",
      "style": "IPY_MODEL_4d88133366cc43499a4f3f0d93275bd8",
      "value": " 1/1 [00:00&lt;00:00, 25.86ba/s]"
     }
    },
    "72a51759248d4b06adecffa5e64a29b0": {
     "model_module": "@jupyter-widgets/controls",
     "model_module_version": "1.5.0",
     "model_name": "ProgressStyleModel",
     "state": {
      "_model_module": "@jupyter-widgets/controls",
      "_model_module_version": "1.5.0",
      "_model_name": "ProgressStyleModel",
      "_view_count": null,
      "_view_module": "@jupyter-widgets/base",
      "_view_module_version": "1.2.0",
      "_view_name": "StyleView",
      "bar_color": null,
      "description_width": ""
     }
    },
    "73954faa65e64689b3d7cec10fc91324": {
     "model_module": "@jupyter-widgets/controls",
     "model_module_version": "1.5.0",
     "model_name": "HTMLModel",
     "state": {
      "_dom_classes": [],
      "_model_module": "@jupyter-widgets/controls",
      "_model_module_version": "1.5.0",
      "_model_name": "HTMLModel",
      "_view_count": null,
      "_view_module": "@jupyter-widgets/controls",
      "_view_module_version": "1.5.0",
      "_view_name": "HTMLView",
      "description": "",
      "description_tooltip": null,
      "layout": "IPY_MODEL_3d4f928da782436ab3c93e9e9fb4e940",
      "placeholder": "​",
      "style": "IPY_MODEL_5e26b69e61eb45d7a4a1eecf4ca276d4",
      "value": " 5.59k/? [00:00&lt;00:00, 168kB/s]"
     }
    },
    "755a3ae9baa44b85b3bf8bafa290ac74": {
     "model_module": "@jupyter-widgets/base",
     "model_module_version": "1.2.0",
     "model_name": "LayoutModel",
     "state": {
      "_model_module": "@jupyter-widgets/base",
      "_model_module_version": "1.2.0",
      "_model_name": "LayoutModel",
      "_view_count": null,
      "_view_module": "@jupyter-widgets/base",
      "_view_module_version": "1.2.0",
      "_view_name": "LayoutView",
      "align_content": null,
      "align_items": null,
      "align_self": null,
      "border": null,
      "bottom": null,
      "display": null,
      "flex": null,
      "flex_flow": null,
      "grid_area": null,
      "grid_auto_columns": null,
      "grid_auto_flow": null,
      "grid_auto_rows": null,
      "grid_column": null,
      "grid_gap": null,
      "grid_row": null,
      "grid_template_areas": null,
      "grid_template_columns": null,
      "grid_template_rows": null,
      "height": null,
      "justify_content": null,
      "justify_items": null,
      "left": null,
      "margin": null,
      "max_height": null,
      "max_width": null,
      "min_height": null,
      "min_width": null,
      "object_fit": null,
      "object_position": null,
      "order": null,
      "overflow": null,
      "overflow_x": null,
      "overflow_y": null,
      "padding": null,
      "right": null,
      "top": null,
      "visibility": "hidden",
      "width": null
     }
    },
    "78d30a4a666548458376ceede1af6402": {
     "model_module": "@jupyter-widgets/controls",
     "model_module_version": "1.5.0",
     "model_name": "DescriptionStyleModel",
     "state": {
      "_model_module": "@jupyter-widgets/controls",
      "_model_module_version": "1.5.0",
      "_model_name": "DescriptionStyleModel",
      "_view_count": null,
      "_view_module": "@jupyter-widgets/base",
      "_view_module_version": "1.2.0",
      "_view_name": "StyleView",
      "description_width": ""
     }
    },
    "7940a4bac6074146a77a322ac7753045": {
     "model_module": "@jupyter-widgets/controls",
     "model_module_version": "1.5.0",
     "model_name": "DescriptionStyleModel",
     "state": {
      "_model_module": "@jupyter-widgets/controls",
      "_model_module_version": "1.5.0",
      "_model_name": "DescriptionStyleModel",
      "_view_count": null,
      "_view_module": "@jupyter-widgets/base",
      "_view_module_version": "1.2.0",
      "_view_name": "StyleView",
      "description_width": ""
     }
    },
    "79fca6b1d8ef4b53a92f12f5fb4f2285": {
     "model_module": "@jupyter-widgets/controls",
     "model_module_version": "1.5.0",
     "model_name": "ProgressStyleModel",
     "state": {
      "_model_module": "@jupyter-widgets/controls",
      "_model_module_version": "1.5.0",
      "_model_name": "ProgressStyleModel",
      "_view_count": null,
      "_view_module": "@jupyter-widgets/base",
      "_view_module_version": "1.2.0",
      "_view_name": "StyleView",
      "bar_color": null,
      "description_width": ""
     }
    },
    "7b609b990fca43258ee4d1b1a3e0da90": {
     "model_module": "@jupyter-widgets/controls",
     "model_module_version": "1.5.0",
     "model_name": "FloatProgressModel",
     "state": {
      "_dom_classes": [],
      "_model_module": "@jupyter-widgets/controls",
      "_model_module_version": "1.5.0",
      "_model_name": "FloatProgressModel",
      "_view_count": null,
      "_view_module": "@jupyter-widgets/controls",
      "_view_module_version": "1.5.0",
      "_view_name": "ProgressView",
      "bar_style": "success",
      "description": "",
      "description_tooltip": null,
      "layout": "IPY_MODEL_6027ba42a1814abf9fb47ca85c626eeb",
      "max": 1,
      "min": 0,
      "orientation": "horizontal",
      "style": "IPY_MODEL_14b3e757dcee41a9b6487fb7428ac923",
      "value": 1
     }
    },
    "7b9ed078b48e48d1be0aae85afc63c06": {
     "model_module": "@jupyter-widgets/controls",
     "model_module_version": "1.5.0",
     "model_name": "HTMLModel",
     "state": {
      "_dom_classes": [],
      "_model_module": "@jupyter-widgets/controls",
      "_model_module_version": "1.5.0",
      "_model_name": "HTMLModel",
      "_view_count": null,
      "_view_module": "@jupyter-widgets/controls",
      "_view_module_version": "1.5.0",
      "_view_name": "HTMLView",
      "description": "",
      "description_tooltip": null,
      "layout": "IPY_MODEL_fdcfc48ef566417491a1de82e5ece30d",
      "placeholder": "​",
      "style": "IPY_MODEL_df512ce76cf944ceaa0d0e8584dd6295",
      "value": " 4.67k/4.67k [00:00&lt;00:00, 168kB/s]"
     }
    },
    "7be12029a9d94fa99eb6c8db1e470088": {
     "model_module": "@jupyter-widgets/controls",
     "model_module_version": "1.5.0",
     "model_name": "HTMLModel",
     "state": {
      "_dom_classes": [],
      "_model_module": "@jupyter-widgets/controls",
      "_model_module_version": "1.5.0",
      "_model_name": "HTMLModel",
      "_view_count": null,
      "_view_module": "@jupyter-widgets/controls",
      "_view_module_version": "1.5.0",
      "_view_name": "HTMLView",
      "description": "",
      "description_tooltip": null,
      "layout": "IPY_MODEL_81bf7b27e37d4e289b854b54e5dfc6db",
      "placeholder": "​",
      "style": "IPY_MODEL_befe6810ec764cc1bab989ca607b1095",
      "value": "<center> <img\nsrc=https://huggingface.co/front/assets/huggingface_logo-noborder.svg\nalt='Hugging Face'> <br> Copy a token from <a\nhref=\"https://huggingface.co/settings/tokens\" target=\"_blank\">your Hugging Face\ntokens page</a> and paste it below. <br> Immediately click login after copying\nyour token or it might be stored in plain text in this notebook file. </center>"
     }
    },
    "7e479f2c5b624c089eded9528e618726": {
     "model_module": "@jupyter-widgets/controls",
     "model_module_version": "1.5.0",
     "model_name": "DescriptionStyleModel",
     "state": {
      "_model_module": "@jupyter-widgets/controls",
      "_model_module_version": "1.5.0",
      "_model_name": "DescriptionStyleModel",
      "_view_count": null,
      "_view_module": "@jupyter-widgets/base",
      "_view_module_version": "1.2.0",
      "_view_name": "StyleView",
      "description_width": ""
     }
    },
    "7eb43411c5074346b4468dc1678acc7f": {
     "model_module": "@jupyter-widgets/base",
     "model_module_version": "1.2.0",
     "model_name": "LayoutModel",
     "state": {
      "_model_module": "@jupyter-widgets/base",
      "_model_module_version": "1.2.0",
      "_model_name": "LayoutModel",
      "_view_count": null,
      "_view_module": "@jupyter-widgets/base",
      "_view_module_version": "1.2.0",
      "_view_name": "LayoutView",
      "align_content": null,
      "align_items": null,
      "align_self": null,
      "border": null,
      "bottom": null,
      "display": null,
      "flex": null,
      "flex_flow": null,
      "grid_area": null,
      "grid_auto_columns": null,
      "grid_auto_flow": null,
      "grid_auto_rows": null,
      "grid_column": null,
      "grid_gap": null,
      "grid_row": null,
      "grid_template_areas": null,
      "grid_template_columns": null,
      "grid_template_rows": null,
      "height": null,
      "justify_content": null,
      "justify_items": null,
      "left": null,
      "margin": null,
      "max_height": null,
      "max_width": null,
      "min_height": null,
      "min_width": null,
      "object_fit": null,
      "object_position": null,
      "order": null,
      "overflow": null,
      "overflow_x": null,
      "overflow_y": null,
      "padding": null,
      "right": null,
      "top": null,
      "visibility": null,
      "width": null
     }
    },
    "7efe4f6df3fd4eacbb5a3768d45a1768": {
     "model_module": "@jupyter-widgets/controls",
     "model_module_version": "1.5.0",
     "model_name": "HTMLModel",
     "state": {
      "_dom_classes": [],
      "_model_module": "@jupyter-widgets/controls",
      "_model_module_version": "1.5.0",
      "_model_name": "HTMLModel",
      "_view_count": null,
      "_view_module": "@jupyter-widgets/controls",
      "_view_module_version": "1.5.0",
      "_view_name": "HTMLView",
      "description": "",
      "description_tooltip": null,
      "layout": "IPY_MODEL_9d15ae91bcdc407da5eb9fedd471dde1",
      "placeholder": "​",
      "style": "IPY_MODEL_49bab38cfa5a429cb1cdd0dd65069406",
      "value": ""
     }
    },
    "802451b887474b9e87083e607a11ff07": {
     "model_module": "@jupyter-widgets/controls",
     "model_module_version": "1.5.0",
     "model_name": "HTMLModel",
     "state": {
      "_dom_classes": [],
      "_model_module": "@jupyter-widgets/controls",
      "_model_module_version": "1.5.0",
      "_model_name": "HTMLModel",
      "_view_count": null,
      "_view_module": "@jupyter-widgets/controls",
      "_view_module_version": "1.5.0",
      "_view_name": "HTMLView",
      "description": "",
      "description_tooltip": null,
      "layout": "IPY_MODEL_f649dc81e256422ba6eff93c07eb60e4",
      "placeholder": "​",
      "style": "IPY_MODEL_31c19f36d662492aba2f7ca72a74b575",
      "value": " 9.15k/9.15k [20:43&lt;00:00, 4.79B/s]"
     }
    },
    "81bf7b27e37d4e289b854b54e5dfc6db": {
     "model_module": "@jupyter-widgets/base",
     "model_module_version": "1.2.0",
     "model_name": "LayoutModel",
     "state": {
      "_model_module": "@jupyter-widgets/base",
      "_model_module_version": "1.2.0",
      "_model_name": "LayoutModel",
      "_view_count": null,
      "_view_module": "@jupyter-widgets/base",
      "_view_module_version": "1.2.0",
      "_view_name": "LayoutView",
      "align_content": null,
      "align_items": null,
      "align_self": null,
      "border": null,
      "bottom": null,
      "display": null,
      "flex": null,
      "flex_flow": null,
      "grid_area": null,
      "grid_auto_columns": null,
      "grid_auto_flow": null,
      "grid_auto_rows": null,
      "grid_column": null,
      "grid_gap": null,
      "grid_row": null,
      "grid_template_areas": null,
      "grid_template_columns": null,
      "grid_template_rows": null,
      "height": null,
      "justify_content": null,
      "justify_items": null,
      "left": null,
      "margin": null,
      "max_height": null,
      "max_width": null,
      "min_height": null,
      "min_width": null,
      "object_fit": null,
      "object_position": null,
      "order": null,
      "overflow": null,
      "overflow_x": null,
      "overflow_y": null,
      "padding": null,
      "right": null,
      "top": null,
      "visibility": null,
      "width": null
     }
    },
    "82f5d46b67244893a820cbed4ff939ae": {
     "model_module": "@jupyter-widgets/base",
     "model_module_version": "1.2.0",
     "model_name": "LayoutModel",
     "state": {
      "_model_module": "@jupyter-widgets/base",
      "_model_module_version": "1.2.0",
      "_model_name": "LayoutModel",
      "_view_count": null,
      "_view_module": "@jupyter-widgets/base",
      "_view_module_version": "1.2.0",
      "_view_name": "LayoutView",
      "align_content": null,
      "align_items": null,
      "align_self": null,
      "border": null,
      "bottom": null,
      "display": null,
      "flex": null,
      "flex_flow": null,
      "grid_area": null,
      "grid_auto_columns": null,
      "grid_auto_flow": null,
      "grid_auto_rows": null,
      "grid_column": null,
      "grid_gap": null,
      "grid_row": null,
      "grid_template_areas": null,
      "grid_template_columns": null,
      "grid_template_rows": null,
      "height": null,
      "justify_content": null,
      "justify_items": null,
      "left": null,
      "margin": null,
      "max_height": null,
      "max_width": null,
      "min_height": null,
      "min_width": null,
      "object_fit": null,
      "object_position": null,
      "order": null,
      "overflow": null,
      "overflow_x": null,
      "overflow_y": null,
      "padding": null,
      "right": null,
      "top": null,
      "visibility": null,
      "width": null
     }
    },
    "8388ddb9054249c78b1d83ba3818d560": {
     "model_module": "@jupyter-widgets/base",
     "model_module_version": "1.2.0",
     "model_name": "LayoutModel",
     "state": {
      "_model_module": "@jupyter-widgets/base",
      "_model_module_version": "1.2.0",
      "_model_name": "LayoutModel",
      "_view_count": null,
      "_view_module": "@jupyter-widgets/base",
      "_view_module_version": "1.2.0",
      "_view_name": "LayoutView",
      "align_content": null,
      "align_items": null,
      "align_self": null,
      "border": null,
      "bottom": null,
      "display": null,
      "flex": null,
      "flex_flow": null,
      "grid_area": null,
      "grid_auto_columns": null,
      "grid_auto_flow": null,
      "grid_auto_rows": null,
      "grid_column": null,
      "grid_gap": null,
      "grid_row": null,
      "grid_template_areas": null,
      "grid_template_columns": null,
      "grid_template_rows": null,
      "height": null,
      "justify_content": null,
      "justify_items": null,
      "left": null,
      "margin": null,
      "max_height": null,
      "max_width": null,
      "min_height": null,
      "min_width": null,
      "object_fit": null,
      "object_position": null,
      "order": null,
      "overflow": null,
      "overflow_x": null,
      "overflow_y": null,
      "padding": null,
      "right": null,
      "top": null,
      "visibility": null,
      "width": null
     }
    },
    "83b0831514f74e1cbc3c879e4a037093": {
     "model_module": "@jupyter-widgets/controls",
     "model_module_version": "1.5.0",
     "model_name": "DescriptionStyleModel",
     "state": {
      "_model_module": "@jupyter-widgets/controls",
      "_model_module_version": "1.5.0",
      "_model_name": "DescriptionStyleModel",
      "_view_count": null,
      "_view_module": "@jupyter-widgets/base",
      "_view_module_version": "1.2.0",
      "_view_name": "StyleView",
      "description_width": ""
     }
    },
    "876d50f01fd3461f9960e580800d4502": {
     "model_module": "@jupyter-widgets/controls",
     "model_module_version": "1.5.0",
     "model_name": "DescriptionStyleModel",
     "state": {
      "_model_module": "@jupyter-widgets/controls",
      "_model_module_version": "1.5.0",
      "_model_name": "DescriptionStyleModel",
      "_view_count": null,
      "_view_module": "@jupyter-widgets/base",
      "_view_module_version": "1.2.0",
      "_view_name": "StyleView",
      "description_width": ""
     }
    },
    "87e891199999405bac57c10c2222e5d4": {
     "model_module": "@jupyter-widgets/base",
     "model_module_version": "1.2.0",
     "model_name": "LayoutModel",
     "state": {
      "_model_module": "@jupyter-widgets/base",
      "_model_module_version": "1.2.0",
      "_model_name": "LayoutModel",
      "_view_count": null,
      "_view_module": "@jupyter-widgets/base",
      "_view_module_version": "1.2.0",
      "_view_name": "LayoutView",
      "align_content": null,
      "align_items": null,
      "align_self": null,
      "border": null,
      "bottom": null,
      "display": null,
      "flex": null,
      "flex_flow": null,
      "grid_area": null,
      "grid_auto_columns": null,
      "grid_auto_flow": null,
      "grid_auto_rows": null,
      "grid_column": null,
      "grid_gap": null,
      "grid_row": null,
      "grid_template_areas": null,
      "grid_template_columns": null,
      "grid_template_rows": null,
      "height": null,
      "justify_content": null,
      "justify_items": null,
      "left": null,
      "margin": null,
      "max_height": null,
      "max_width": null,
      "min_height": null,
      "min_width": null,
      "object_fit": null,
      "object_position": null,
      "order": null,
      "overflow": null,
      "overflow_x": null,
      "overflow_y": null,
      "padding": null,
      "right": null,
      "top": null,
      "visibility": null,
      "width": null
     }
    },
    "8b6fc3b341634905af7987dde8c772f7": {
     "model_module": "@jupyter-widgets/base",
     "model_module_version": "1.2.0",
     "model_name": "LayoutModel",
     "state": {
      "_model_module": "@jupyter-widgets/base",
      "_model_module_version": "1.2.0",
      "_model_name": "LayoutModel",
      "_view_count": null,
      "_view_module": "@jupyter-widgets/base",
      "_view_module_version": "1.2.0",
      "_view_name": "LayoutView",
      "align_content": null,
      "align_items": null,
      "align_self": null,
      "border": null,
      "bottom": null,
      "display": null,
      "flex": null,
      "flex_flow": null,
      "grid_area": null,
      "grid_auto_columns": null,
      "grid_auto_flow": null,
      "grid_auto_rows": null,
      "grid_column": null,
      "grid_gap": null,
      "grid_row": null,
      "grid_template_areas": null,
      "grid_template_columns": null,
      "grid_template_rows": null,
      "height": null,
      "justify_content": null,
      "justify_items": null,
      "left": null,
      "margin": null,
      "max_height": null,
      "max_width": null,
      "min_height": null,
      "min_width": null,
      "object_fit": null,
      "object_position": null,
      "order": null,
      "overflow": null,
      "overflow_x": null,
      "overflow_y": null,
      "padding": null,
      "right": null,
      "top": null,
      "visibility": null,
      "width": null
     }
    },
    "8beabbd6fb9f4415abde501d77b221a9": {
     "model_module": "@jupyter-widgets/base",
     "model_module_version": "1.2.0",
     "model_name": "LayoutModel",
     "state": {
      "_model_module": "@jupyter-widgets/base",
      "_model_module_version": "1.2.0",
      "_model_name": "LayoutModel",
      "_view_count": null,
      "_view_module": "@jupyter-widgets/base",
      "_view_module_version": "1.2.0",
      "_view_name": "LayoutView",
      "align_content": null,
      "align_items": null,
      "align_self": null,
      "border": null,
      "bottom": null,
      "display": null,
      "flex": null,
      "flex_flow": null,
      "grid_area": null,
      "grid_auto_columns": null,
      "grid_auto_flow": null,
      "grid_auto_rows": null,
      "grid_column": null,
      "grid_gap": null,
      "grid_row": null,
      "grid_template_areas": null,
      "grid_template_columns": null,
      "grid_template_rows": null,
      "height": null,
      "justify_content": null,
      "justify_items": null,
      "left": null,
      "margin": null,
      "max_height": null,
      "max_width": null,
      "min_height": null,
      "min_width": null,
      "object_fit": null,
      "object_position": null,
      "order": null,
      "overflow": null,
      "overflow_x": null,
      "overflow_y": null,
      "padding": null,
      "right": null,
      "top": null,
      "visibility": null,
      "width": null
     }
    },
    "8eaba8d199ad4a33864555dc7f75a953": {
     "model_module": "@jupyter-widgets/controls",
     "model_module_version": "1.5.0",
     "model_name": "ProgressStyleModel",
     "state": {
      "_model_module": "@jupyter-widgets/controls",
      "_model_module_version": "1.5.0",
      "_model_name": "ProgressStyleModel",
      "_view_count": null,
      "_view_module": "@jupyter-widgets/base",
      "_view_module_version": "1.2.0",
      "_view_name": "StyleView",
      "bar_color": null,
      "description_width": ""
     }
    },
    "9129bc64871645e9962e7198ec5508a4": {
     "model_module": "@jupyter-widgets/controls",
     "model_module_version": "1.5.0",
     "model_name": "DescriptionStyleModel",
     "state": {
      "_model_module": "@jupyter-widgets/controls",
      "_model_module_version": "1.5.0",
      "_model_name": "DescriptionStyleModel",
      "_view_count": null,
      "_view_module": "@jupyter-widgets/base",
      "_view_module_version": "1.2.0",
      "_view_name": "StyleView",
      "description_width": ""
     }
    },
    "9251795a6c5b4e3d8b34cdffebaf198b": {
     "model_module": "@jupyter-widgets/base",
     "model_module_version": "1.2.0",
     "model_name": "LayoutModel",
     "state": {
      "_model_module": "@jupyter-widgets/base",
      "_model_module_version": "1.2.0",
      "_model_name": "LayoutModel",
      "_view_count": null,
      "_view_module": "@jupyter-widgets/base",
      "_view_module_version": "1.2.0",
      "_view_name": "LayoutView",
      "align_content": null,
      "align_items": null,
      "align_self": null,
      "border": null,
      "bottom": null,
      "display": null,
      "flex": null,
      "flex_flow": null,
      "grid_area": null,
      "grid_auto_columns": null,
      "grid_auto_flow": null,
      "grid_auto_rows": null,
      "grid_column": null,
      "grid_gap": null,
      "grid_row": null,
      "grid_template_areas": null,
      "grid_template_columns": null,
      "grid_template_rows": null,
      "height": null,
      "justify_content": null,
      "justify_items": null,
      "left": null,
      "margin": null,
      "max_height": null,
      "max_width": null,
      "min_height": null,
      "min_width": null,
      "object_fit": null,
      "object_position": null,
      "order": null,
      "overflow": null,
      "overflow_x": null,
      "overflow_y": null,
      "padding": null,
      "right": null,
      "top": null,
      "visibility": null,
      "width": null
     }
    },
    "9428466f97f7487985997443b2defc0d": {
     "model_module": "@jupyter-widgets/controls",
     "model_module_version": "1.5.0",
     "model_name": "HTMLModel",
     "state": {
      "_dom_classes": [],
      "_model_module": "@jupyter-widgets/controls",
      "_model_module_version": "1.5.0",
      "_model_name": "HTMLModel",
      "_view_count": null,
      "_view_module": "@jupyter-widgets/controls",
      "_view_module_version": "1.5.0",
      "_view_name": "HTMLView",
      "description": "",
      "description_tooltip": null,
      "layout": "IPY_MODEL_f0baf2d9e07d47f8bde4303734582dc9",
      "placeholder": "​",
      "style": "IPY_MODEL_389b62bf66e34abeb18c6624b32a1d23",
      "value": " 457/? [00:00&lt;00:00, 2225.95ex/s]"
     }
    },
    "965aab196ac64203a44a296664c745f0": {
     "model_module": "@jupyter-widgets/controls",
     "model_module_version": "1.5.0",
     "model_name": "HTMLModel",
     "state": {
      "_dom_classes": [],
      "_model_module": "@jupyter-widgets/controls",
      "_model_module_version": "1.5.0",
      "_model_name": "HTMLModel",
      "_view_count": null,
      "_view_module": "@jupyter-widgets/controls",
      "_view_module_version": "1.5.0",
      "_view_name": "HTMLView",
      "description": "",
      "description_tooltip": null,
      "layout": "IPY_MODEL_339e2d1abf4740efb829251a749b1fea",
      "placeholder": "​",
      "style": "IPY_MODEL_876d50f01fd3461f9960e580800d4502",
      "value": " 457/? [01:27&lt;00:00,  5.26ex/s]"
     }
    },
    "969f27d0e89e40d2afc5b8644649e97c": {
     "model_module": "@jupyter-widgets/base",
     "model_module_version": "1.2.0",
     "model_name": "LayoutModel",
     "state": {
      "_model_module": "@jupyter-widgets/base",
      "_model_module_version": "1.2.0",
      "_model_name": "LayoutModel",
      "_view_count": null,
      "_view_module": "@jupyter-widgets/base",
      "_view_module_version": "1.2.0",
      "_view_name": "LayoutView",
      "align_content": null,
      "align_items": null,
      "align_self": null,
      "border": null,
      "bottom": null,
      "display": null,
      "flex": null,
      "flex_flow": null,
      "grid_area": null,
      "grid_auto_columns": null,
      "grid_auto_flow": null,
      "grid_auto_rows": null,
      "grid_column": null,
      "grid_gap": null,
      "grid_row": null,
      "grid_template_areas": null,
      "grid_template_columns": null,
      "grid_template_rows": null,
      "height": null,
      "justify_content": null,
      "justify_items": null,
      "left": null,
      "margin": null,
      "max_height": null,
      "max_width": null,
      "min_height": null,
      "min_width": null,
      "object_fit": null,
      "object_position": null,
      "order": null,
      "overflow": null,
      "overflow_x": null,
      "overflow_y": null,
      "padding": null,
      "right": null,
      "top": null,
      "visibility": null,
      "width": null
     }
    },
    "971a9fc2a6194c849630e5f3714bce30": {
     "model_module": "@jupyter-widgets/controls",
     "model_module_version": "1.5.0",
     "model_name": "DescriptionStyleModel",
     "state": {
      "_model_module": "@jupyter-widgets/controls",
      "_model_module_version": "1.5.0",
      "_model_name": "DescriptionStyleModel",
      "_view_count": null,
      "_view_module": "@jupyter-widgets/base",
      "_view_module_version": "1.2.0",
      "_view_name": "StyleView",
      "description_width": ""
     }
    },
    "9925dd2e71c3435f80dead6aabc789a3": {
     "model_module": "@jupyter-widgets/controls",
     "model_module_version": "1.5.0",
     "model_name": "HTMLModel",
     "state": {
      "_dom_classes": [],
      "_model_module": "@jupyter-widgets/controls",
      "_model_module_version": "1.5.0",
      "_model_name": "HTMLModel",
      "_view_count": null,
      "_view_module": "@jupyter-widgets/controls",
      "_view_module_version": "1.5.0",
      "_view_name": "HTMLView",
      "description": "",
      "description_tooltip": null,
      "layout": "IPY_MODEL_68a8f1df126e4a13af38956e9deffeb6",
      "placeholder": "​",
      "style": "IPY_MODEL_b7862f4e0b05418091c2e22c2e3c5a31",
      "value": " 1.18G/1.18G [01:03&lt;00:00, 20.1MB/s]"
     }
    },
    "9d15ae91bcdc407da5eb9fedd471dde1": {
     "model_module": "@jupyter-widgets/base",
     "model_module_version": "1.2.0",
     "model_name": "LayoutModel",
     "state": {
      "_model_module": "@jupyter-widgets/base",
      "_model_module_version": "1.2.0",
      "_model_name": "LayoutModel",
      "_view_count": null,
      "_view_module": "@jupyter-widgets/base",
      "_view_module_version": "1.2.0",
      "_view_name": "LayoutView",
      "align_content": null,
      "align_items": null,
      "align_self": null,
      "border": null,
      "bottom": null,
      "display": null,
      "flex": null,
      "flex_flow": null,
      "grid_area": null,
      "grid_auto_columns": null,
      "grid_auto_flow": null,
      "grid_auto_rows": null,
      "grid_column": null,
      "grid_gap": null,
      "grid_row": null,
      "grid_template_areas": null,
      "grid_template_columns": null,
      "grid_template_rows": null,
      "height": null,
      "justify_content": null,
      "justify_items": null,
      "left": null,
      "margin": null,
      "max_height": null,
      "max_width": null,
      "min_height": null,
      "min_width": null,
      "object_fit": null,
      "object_position": null,
      "order": null,
      "overflow": null,
      "overflow_x": null,
      "overflow_y": null,
      "padding": null,
      "right": null,
      "top": null,
      "visibility": null,
      "width": null
     }
    },
    "9fcf11ab67674102bb552b35cfe4e826": {
     "model_module": "@jupyter-widgets/base",
     "model_module_version": "1.2.0",
     "model_name": "LayoutModel",
     "state": {
      "_model_module": "@jupyter-widgets/base",
      "_model_module_version": "1.2.0",
      "_model_name": "LayoutModel",
      "_view_count": null,
      "_view_module": "@jupyter-widgets/base",
      "_view_module_version": "1.2.0",
      "_view_name": "LayoutView",
      "align_content": null,
      "align_items": null,
      "align_self": null,
      "border": null,
      "bottom": null,
      "display": null,
      "flex": null,
      "flex_flow": null,
      "grid_area": null,
      "grid_auto_columns": null,
      "grid_auto_flow": null,
      "grid_auto_rows": null,
      "grid_column": null,
      "grid_gap": null,
      "grid_row": null,
      "grid_template_areas": null,
      "grid_template_columns": null,
      "grid_template_rows": null,
      "height": null,
      "justify_content": null,
      "justify_items": null,
      "left": null,
      "margin": null,
      "max_height": null,
      "max_width": null,
      "min_height": null,
      "min_width": null,
      "object_fit": null,
      "object_position": null,
      "order": null,
      "overflow": null,
      "overflow_x": null,
      "overflow_y": null,
      "padding": null,
      "right": null,
      "top": null,
      "visibility": null,
      "width": null
     }
    },
    "a11115de235149379c876baa7637d61c": {
     "model_module": "@jupyter-widgets/base",
     "model_module_version": "1.2.0",
     "model_name": "LayoutModel",
     "state": {
      "_model_module": "@jupyter-widgets/base",
      "_model_module_version": "1.2.0",
      "_model_name": "LayoutModel",
      "_view_count": null,
      "_view_module": "@jupyter-widgets/base",
      "_view_module_version": "1.2.0",
      "_view_name": "LayoutView",
      "align_content": null,
      "align_items": null,
      "align_self": null,
      "border": null,
      "bottom": null,
      "display": null,
      "flex": null,
      "flex_flow": null,
      "grid_area": null,
      "grid_auto_columns": null,
      "grid_auto_flow": null,
      "grid_auto_rows": null,
      "grid_column": null,
      "grid_gap": null,
      "grid_row": null,
      "grid_template_areas": null,
      "grid_template_columns": null,
      "grid_template_rows": null,
      "height": null,
      "justify_content": null,
      "justify_items": null,
      "left": null,
      "margin": null,
      "max_height": null,
      "max_width": null,
      "min_height": null,
      "min_width": null,
      "object_fit": null,
      "object_position": null,
      "order": null,
      "overflow": null,
      "overflow_x": null,
      "overflow_y": null,
      "padding": null,
      "right": null,
      "top": null,
      "visibility": null,
      "width": null
     }
    },
    "a1449d3b68494c2a951c8c391692824e": {
     "model_module": "@jupyter-widgets/base",
     "model_module_version": "1.2.0",
     "model_name": "LayoutModel",
     "state": {
      "_model_module": "@jupyter-widgets/base",
      "_model_module_version": "1.2.0",
      "_model_name": "LayoutModel",
      "_view_count": null,
      "_view_module": "@jupyter-widgets/base",
      "_view_module_version": "1.2.0",
      "_view_name": "LayoutView",
      "align_content": null,
      "align_items": null,
      "align_self": null,
      "border": null,
      "bottom": null,
      "display": null,
      "flex": null,
      "flex_flow": null,
      "grid_area": null,
      "grid_auto_columns": null,
      "grid_auto_flow": null,
      "grid_auto_rows": null,
      "grid_column": null,
      "grid_gap": null,
      "grid_row": null,
      "grid_template_areas": null,
      "grid_template_columns": null,
      "grid_template_rows": null,
      "height": null,
      "justify_content": null,
      "justify_items": null,
      "left": null,
      "margin": null,
      "max_height": null,
      "max_width": null,
      "min_height": null,
      "min_width": null,
      "object_fit": null,
      "object_position": null,
      "order": null,
      "overflow": null,
      "overflow_x": null,
      "overflow_y": null,
      "padding": null,
      "right": null,
      "top": null,
      "visibility": null,
      "width": null
     }
    },
    "a1b662a5e34d4f808ccb73f99e466377": {
     "model_module": "@jupyter-widgets/controls",
     "model_module_version": "1.5.0",
     "model_name": "HTMLModel",
     "state": {
      "_dom_classes": [],
      "_model_module": "@jupyter-widgets/controls",
      "_model_module_version": "1.5.0",
      "_model_name": "HTMLModel",
      "_view_count": null,
      "_view_module": "@jupyter-widgets/controls",
      "_view_module_version": "1.5.0",
      "_view_name": "HTMLView",
      "description": "",
      "description_tooltip": null,
      "layout": "IPY_MODEL_6ef66ee5efc24241893eece8c0cf53ee",
      "placeholder": "​",
      "style": "IPY_MODEL_4a83039ea9d44dada4c7e9c7d0458790",
      "value": "Downloading: 100%"
     }
    },
    "a3c7f0e14f014d17a349f3205191a138": {
     "model_module": "@jupyter-widgets/base",
     "model_module_version": "1.2.0",
     "model_name": "LayoutModel",
     "state": {
      "_model_module": "@jupyter-widgets/base",
      "_model_module_version": "1.2.0",
      "_model_name": "LayoutModel",
      "_view_count": null,
      "_view_module": "@jupyter-widgets/base",
      "_view_module_version": "1.2.0",
      "_view_name": "LayoutView",
      "align_content": null,
      "align_items": null,
      "align_self": null,
      "border": null,
      "bottom": null,
      "display": null,
      "flex": null,
      "flex_flow": null,
      "grid_area": null,
      "grid_auto_columns": null,
      "grid_auto_flow": null,
      "grid_auto_rows": null,
      "grid_column": null,
      "grid_gap": null,
      "grid_row": null,
      "grid_template_areas": null,
      "grid_template_columns": null,
      "grid_template_rows": null,
      "height": null,
      "justify_content": null,
      "justify_items": null,
      "left": null,
      "margin": null,
      "max_height": null,
      "max_width": null,
      "min_height": null,
      "min_width": null,
      "object_fit": null,
      "object_position": null,
      "order": null,
      "overflow": null,
      "overflow_x": null,
      "overflow_y": null,
      "padding": null,
      "right": null,
      "top": null,
      "visibility": null,
      "width": "20px"
     }
    },
    "a3d6387286eb43aeab7763c3939a3683": {
     "model_module": "@jupyter-widgets/controls",
     "model_module_version": "1.5.0",
     "model_name": "FloatProgressModel",
     "state": {
      "_dom_classes": [],
      "_model_module": "@jupyter-widgets/controls",
      "_model_module_version": "1.5.0",
      "_model_name": "FloatProgressModel",
      "_view_count": null,
      "_view_module": "@jupyter-widgets/controls",
      "_view_module_version": "1.5.0",
      "_view_name": "ProgressView",
      "bar_style": "success",
      "description": "",
      "description_tooltip": null,
      "layout": "IPY_MODEL_afe1087c40bc4a15a189e9fac177f309",
      "max": 2,
      "min": 0,
      "orientation": "horizontal",
      "style": "IPY_MODEL_2c89d22f52c9458ea29a9729e891b63b",
      "value": 2
     }
    },
    "a7093a476b0c4c35bdce897046fb0512": {
     "model_module": "@jupyter-widgets/controls",
     "model_module_version": "1.5.0",
     "model_name": "ProgressStyleModel",
     "state": {
      "_model_module": "@jupyter-widgets/controls",
      "_model_module_version": "1.5.0",
      "_model_name": "ProgressStyleModel",
      "_view_count": null,
      "_view_module": "@jupyter-widgets/base",
      "_view_module_version": "1.2.0",
      "_view_name": "StyleView",
      "bar_color": null,
      "description_width": ""
     }
    },
    "a76db059eb74489a87a63b074fe84272": {
     "model_module": "@jupyter-widgets/controls",
     "model_module_version": "1.5.0",
     "model_name": "HTMLModel",
     "state": {
      "_dom_classes": [],
      "_model_module": "@jupyter-widgets/controls",
      "_model_module_version": "1.5.0",
      "_model_name": "HTMLModel",
      "_view_count": null,
      "_view_module": "@jupyter-widgets/controls",
      "_view_module_version": "1.5.0",
      "_view_name": "HTMLView",
      "description": "",
      "description_tooltip": null,
      "layout": "IPY_MODEL_01cfa7cc707142b898dba385f82c4a47",
      "placeholder": "​",
      "style": "IPY_MODEL_23dc162fca924e378a3ef4edeab5b021",
      "value": "Upload file pytorch_model.bin: 100%"
     }
    },
    "a8194a5d062b4351bfb4f516f5f3116b": {
     "model_module": "@jupyter-widgets/base",
     "model_module_version": "1.2.0",
     "model_name": "LayoutModel",
     "state": {
      "_model_module": "@jupyter-widgets/base",
      "_model_module_version": "1.2.0",
      "_model_name": "LayoutModel",
      "_view_count": null,
      "_view_module": "@jupyter-widgets/base",
      "_view_module_version": "1.2.0",
      "_view_name": "LayoutView",
      "align_content": null,
      "align_items": null,
      "align_self": null,
      "border": null,
      "bottom": null,
      "display": null,
      "flex": null,
      "flex_flow": null,
      "grid_area": null,
      "grid_auto_columns": null,
      "grid_auto_flow": null,
      "grid_auto_rows": null,
      "grid_column": null,
      "grid_gap": null,
      "grid_row": null,
      "grid_template_areas": null,
      "grid_template_columns": null,
      "grid_template_rows": null,
      "height": null,
      "justify_content": null,
      "justify_items": null,
      "left": null,
      "margin": null,
      "max_height": null,
      "max_width": null,
      "min_height": null,
      "min_width": null,
      "object_fit": null,
      "object_position": null,
      "order": null,
      "overflow": null,
      "overflow_x": null,
      "overflow_y": null,
      "padding": null,
      "right": null,
      "top": null,
      "visibility": null,
      "width": null
     }
    },
    "aae61c9a5e18450696d7353306d32337": {
     "model_module": "@jupyter-widgets/controls",
     "model_module_version": "1.5.0",
     "model_name": "DescriptionStyleModel",
     "state": {
      "_model_module": "@jupyter-widgets/controls",
      "_model_module_version": "1.5.0",
      "_model_name": "DescriptionStyleModel",
      "_view_count": null,
      "_view_module": "@jupyter-widgets/base",
      "_view_module_version": "1.2.0",
      "_view_name": "StyleView",
      "description_width": ""
     }
    },
    "af7225a415884de98a5fe214378600be": {
     "model_module": "@jupyter-widgets/controls",
     "model_module_version": "1.5.0",
     "model_name": "HTMLModel",
     "state": {
      "_dom_classes": [],
      "_model_module": "@jupyter-widgets/controls",
      "_model_module_version": "1.5.0",
      "_model_name": "HTMLModel",
      "_view_count": null,
      "_view_module": "@jupyter-widgets/controls",
      "_view_module_version": "1.5.0",
      "_view_name": "HTMLView",
      "description": "",
      "description_tooltip": null,
      "layout": "IPY_MODEL_87e891199999405bac57c10c2222e5d4",
      "placeholder": "​",
      "style": "IPY_MODEL_971a9fc2a6194c849630e5f3714bce30",
      "value": "100%"
     }
    },
    "afe1087c40bc4a15a189e9fac177f309": {
     "model_module": "@jupyter-widgets/base",
     "model_module_version": "1.2.0",
     "model_name": "LayoutModel",
     "state": {
      "_model_module": "@jupyter-widgets/base",
      "_model_module_version": "1.2.0",
      "_model_name": "LayoutModel",
      "_view_count": null,
      "_view_module": "@jupyter-widgets/base",
      "_view_module_version": "1.2.0",
      "_view_name": "LayoutView",
      "align_content": null,
      "align_items": null,
      "align_self": null,
      "border": null,
      "bottom": null,
      "display": null,
      "flex": null,
      "flex_flow": null,
      "grid_area": null,
      "grid_auto_columns": null,
      "grid_auto_flow": null,
      "grid_auto_rows": null,
      "grid_column": null,
      "grid_gap": null,
      "grid_row": null,
      "grid_template_areas": null,
      "grid_template_columns": null,
      "grid_template_rows": null,
      "height": null,
      "justify_content": null,
      "justify_items": null,
      "left": null,
      "margin": null,
      "max_height": null,
      "max_width": null,
      "min_height": null,
      "min_width": null,
      "object_fit": null,
      "object_position": null,
      "order": null,
      "overflow": null,
      "overflow_x": null,
      "overflow_y": null,
      "padding": null,
      "right": null,
      "top": null,
      "visibility": null,
      "width": null
     }
    },
    "b09d33803c624b92b291e95a83e33f48": {
     "model_module": "@jupyter-widgets/controls",
     "model_module_version": "1.5.0",
     "model_name": "DescriptionStyleModel",
     "state": {
      "_model_module": "@jupyter-widgets/controls",
      "_model_module_version": "1.5.0",
      "_model_name": "DescriptionStyleModel",
      "_view_count": null,
      "_view_module": "@jupyter-widgets/base",
      "_view_module_version": "1.2.0",
      "_view_name": "StyleView",
      "description_width": ""
     }
    },
    "b38c7b80ea0f4bc6b80a2051452bfa24": {
     "model_module": "@jupyter-widgets/base",
     "model_module_version": "1.2.0",
     "model_name": "LayoutModel",
     "state": {
      "_model_module": "@jupyter-widgets/base",
      "_model_module_version": "1.2.0",
      "_model_name": "LayoutModel",
      "_view_count": null,
      "_view_module": "@jupyter-widgets/base",
      "_view_module_version": "1.2.0",
      "_view_name": "LayoutView",
      "align_content": null,
      "align_items": null,
      "align_self": null,
      "border": null,
      "bottom": null,
      "display": null,
      "flex": null,
      "flex_flow": null,
      "grid_area": null,
      "grid_auto_columns": null,
      "grid_auto_flow": null,
      "grid_auto_rows": null,
      "grid_column": null,
      "grid_gap": null,
      "grid_row": null,
      "grid_template_areas": null,
      "grid_template_columns": null,
      "grid_template_rows": null,
      "height": null,
      "justify_content": null,
      "justify_items": null,
      "left": null,
      "margin": null,
      "max_height": null,
      "max_width": null,
      "min_height": null,
      "min_width": null,
      "object_fit": null,
      "object_position": null,
      "order": null,
      "overflow": null,
      "overflow_x": null,
      "overflow_y": null,
      "padding": null,
      "right": null,
      "top": null,
      "visibility": null,
      "width": null
     }
    },
    "b39d63c40094404f8a073bc8604a3bdd": {
     "model_module": "@jupyter-widgets/controls",
     "model_module_version": "1.5.0",
     "model_name": "ProgressStyleModel",
     "state": {
      "_model_module": "@jupyter-widgets/controls",
      "_model_module_version": "1.5.0",
      "_model_name": "ProgressStyleModel",
      "_view_count": null,
      "_view_module": "@jupyter-widgets/base",
      "_view_module_version": "1.2.0",
      "_view_name": "StyleView",
      "bar_color": null,
      "description_width": ""
     }
    },
    "b7862f4e0b05418091c2e22c2e3c5a31": {
     "model_module": "@jupyter-widgets/controls",
     "model_module_version": "1.5.0",
     "model_name": "DescriptionStyleModel",
     "state": {
      "_model_module": "@jupyter-widgets/controls",
      "_model_module_version": "1.5.0",
      "_model_name": "DescriptionStyleModel",
      "_view_count": null,
      "_view_module": "@jupyter-widgets/base",
      "_view_module_version": "1.2.0",
      "_view_name": "StyleView",
      "description_width": ""
     }
    },
    "ba86603b1ca146979b9b35aecbee94d0": {
     "model_module": "@jupyter-widgets/controls",
     "model_module_version": "1.5.0",
     "model_name": "ProgressStyleModel",
     "state": {
      "_model_module": "@jupyter-widgets/controls",
      "_model_module_version": "1.5.0",
      "_model_name": "ProgressStyleModel",
      "_view_count": null,
      "_view_module": "@jupyter-widgets/base",
      "_view_module_version": "1.2.0",
      "_view_name": "StyleView",
      "bar_color": null,
      "description_width": ""
     }
    },
    "be725e415b804b1994efacbb17c41dc5": {
     "model_module": "@jupyter-widgets/controls",
     "model_module_version": "1.5.0",
     "model_name": "HTMLModel",
     "state": {
      "_dom_classes": [],
      "_model_module": "@jupyter-widgets/controls",
      "_model_module_version": "1.5.0",
      "_model_name": "HTMLModel",
      "_view_count": null,
      "_view_module": "@jupyter-widgets/controls",
      "_view_module_version": "1.5.0",
      "_view_name": "HTMLView",
      "description": "",
      "description_tooltip": null,
      "layout": "IPY_MODEL_a8194a5d062b4351bfb4f516f5f3116b",
      "placeholder": "​",
      "style": "IPY_MODEL_e9cc96aa2fc04ef9b167c78177216cd4",
      "value": " 23/23 [00:00&lt;00:00, 121.79ba/s]"
     }
    },
    "beb69b8487d14a479db95c3e34bdf93b": {
     "model_module": "@jupyter-widgets/controls",
     "model_module_version": "1.5.0",
     "model_name": "HTMLModel",
     "state": {
      "_dom_classes": [],
      "_model_module": "@jupyter-widgets/controls",
      "_model_module_version": "1.5.0",
      "_model_name": "HTMLModel",
      "_view_count": null,
      "_view_module": "@jupyter-widgets/controls",
      "_view_module_version": "1.5.0",
      "_view_name": "HTMLView",
      "description": "",
      "description_tooltip": null,
      "layout": "IPY_MODEL_45f13200e45242e0a7b85d57865c6063",
      "placeholder": "​",
      "style": "IPY_MODEL_aae61c9a5e18450696d7353306d32337",
      "value": "\n<b>Pro Tip:</b> If you don't already have one, you can create a dedicated\n'notebooks' token with 'write' access, that you can then easily reuse for all\nnotebooks. </center>"
     }
    },
    "befe6810ec764cc1bab989ca607b1095": {
     "model_module": "@jupyter-widgets/controls",
     "model_module_version": "1.5.0",
     "model_name": "DescriptionStyleModel",
     "state": {
      "_model_module": "@jupyter-widgets/controls",
      "_model_module_version": "1.5.0",
      "_model_name": "DescriptionStyleModel",
      "_view_count": null,
      "_view_module": "@jupyter-widgets/base",
      "_view_module_version": "1.2.0",
      "_view_name": "StyleView",
      "description_width": ""
     }
    },
    "c08fee1e52b54bb59deafd1f83b2a459": {
     "model_module": "@jupyter-widgets/controls",
     "model_module_version": "1.5.0",
     "model_name": "DescriptionStyleModel",
     "state": {
      "_model_module": "@jupyter-widgets/controls",
      "_model_module_version": "1.5.0",
      "_model_name": "DescriptionStyleModel",
      "_view_count": null,
      "_view_module": "@jupyter-widgets/base",
      "_view_module_version": "1.2.0",
      "_view_name": "StyleView",
      "description_width": ""
     }
    },
    "c2773786c33e4760ab2bde29e52e0aa9": {
     "model_module": "@jupyter-widgets/base",
     "model_module_version": "1.2.0",
     "model_name": "LayoutModel",
     "state": {
      "_model_module": "@jupyter-widgets/base",
      "_model_module_version": "1.2.0",
      "_model_name": "LayoutModel",
      "_view_count": null,
      "_view_module": "@jupyter-widgets/base",
      "_view_module_version": "1.2.0",
      "_view_name": "LayoutView",
      "align_content": null,
      "align_items": null,
      "align_self": null,
      "border": null,
      "bottom": null,
      "display": null,
      "flex": null,
      "flex_flow": null,
      "grid_area": null,
      "grid_auto_columns": null,
      "grid_auto_flow": null,
      "grid_auto_rows": null,
      "grid_column": null,
      "grid_gap": null,
      "grid_row": null,
      "grid_template_areas": null,
      "grid_template_columns": null,
      "grid_template_rows": null,
      "height": null,
      "justify_content": null,
      "justify_items": null,
      "left": null,
      "margin": null,
      "max_height": null,
      "max_width": null,
      "min_height": null,
      "min_width": null,
      "object_fit": null,
      "object_position": null,
      "order": null,
      "overflow": null,
      "overflow_x": null,
      "overflow_y": null,
      "padding": null,
      "right": null,
      "top": null,
      "visibility": null,
      "width": null
     }
    },
    "c336d9a9cae74a70b5132e52013786bb": {
     "model_module": "@jupyter-widgets/controls",
     "model_module_version": "1.5.0",
     "model_name": "DescriptionStyleModel",
     "state": {
      "_model_module": "@jupyter-widgets/controls",
      "_model_module_version": "1.5.0",
      "_model_name": "DescriptionStyleModel",
      "_view_count": null,
      "_view_module": "@jupyter-widgets/base",
      "_view_module_version": "1.2.0",
      "_view_name": "StyleView",
      "description_width": ""
     }
    },
    "c535ba71680749dbb7bb4f4219b1349c": {
     "model_module": "@jupyter-widgets/controls",
     "model_module_version": "1.5.0",
     "model_name": "DescriptionStyleModel",
     "state": {
      "_model_module": "@jupyter-widgets/controls",
      "_model_module_version": "1.5.0",
      "_model_name": "DescriptionStyleModel",
      "_view_count": null,
      "_view_module": "@jupyter-widgets/base",
      "_view_module_version": "1.2.0",
      "_view_name": "StyleView",
      "description_width": ""
     }
    },
    "c56a404a0ee54397a568759235a37325": {
     "model_module": "@jupyter-widgets/controls",
     "model_module_version": "1.5.0",
     "model_name": "HBoxModel",
     "state": {
      "_dom_classes": [],
      "_model_module": "@jupyter-widgets/controls",
      "_model_module_version": "1.5.0",
      "_model_name": "HBoxModel",
      "_view_count": null,
      "_view_module": "@jupyter-widgets/controls",
      "_view_module_version": "1.5.0",
      "_view_name": "HBoxView",
      "box_style": "",
      "children": [
       "IPY_MODEL_682c392661a64c6a99c573ed0f2ec37d",
       "IPY_MODEL_7b609b990fca43258ee4d1b1a3e0da90",
       "IPY_MODEL_704a1078729c48fa917d6b6d69768985"
      ],
      "layout": "IPY_MODEL_08e99b0c97d44719aedd28ef94376873"
     }
    },
    "c72b35c5f9a34a789359599d984a3f83": {
     "model_module": "@jupyter-widgets/controls",
     "model_module_version": "1.5.0",
     "model_name": "FloatProgressModel",
     "state": {
      "_dom_classes": [],
      "_model_module": "@jupyter-widgets/controls",
      "_model_module_version": "1.5.0",
      "_model_name": "FloatProgressModel",
      "_view_count": null,
      "_view_module": "@jupyter-widgets/controls",
      "_view_module_version": "1.5.0",
      "_view_name": "ProgressView",
      "bar_style": "success",
      "description": "",
      "description_tooltip": null,
      "layout": "IPY_MODEL_5b33a68e33c34ff79e1712d848a7da6d",
      "max": 4675,
      "min": 0,
      "orientation": "horizontal",
      "style": "IPY_MODEL_72a51759248d4b06adecffa5e64a29b0",
      "value": 4675
     }
    },
    "c89641c29ff1482fbccc62c13cc7d2db": {
     "model_module": "@jupyter-widgets/controls",
     "model_module_version": "1.5.0",
     "model_name": "HBoxModel",
     "state": {
      "_dom_classes": [],
      "_model_module": "@jupyter-widgets/controls",
      "_model_module_version": "1.5.0",
      "_model_name": "HBoxModel",
      "_view_count": null,
      "_view_module": "@jupyter-widgets/controls",
      "_view_module_version": "1.5.0",
      "_view_name": "HBoxView",
      "box_style": "",
      "children": [
       "IPY_MODEL_60f031f7debd4270be97c1158098d697",
       "IPY_MODEL_041b2b245f75439c91a25a3792fa9e10",
       "IPY_MODEL_73954faa65e64689b3d7cec10fc91324"
      ],
      "layout": "IPY_MODEL_3b26b62e2dd549819bedff2803193e59"
     }
    },
    "c8c152acddde4583b983df90332d44f1": {
     "model_module": "@jupyter-widgets/controls",
     "model_module_version": "1.5.0",
     "model_name": "HTMLModel",
     "state": {
      "_dom_classes": [],
      "_model_module": "@jupyter-widgets/controls",
      "_model_module_version": "1.5.0",
      "_model_name": "HTMLModel",
      "_view_count": null,
      "_view_module": "@jupyter-widgets/controls",
      "_view_module_version": "1.5.0",
      "_view_name": "HTMLView",
      "description": "",
      "description_tooltip": null,
      "layout": "IPY_MODEL_7eb43411c5074346b4468dc1678acc7f",
      "placeholder": "​",
      "style": "IPY_MODEL_78d30a4a666548458376ceede1af6402",
      "value": ""
     }
    },
    "ca38167b10c24fbfb29b3b5686367f5d": {
     "model_module": "@jupyter-widgets/controls",
     "model_module_version": "1.5.0",
     "model_name": "FloatProgressModel",
     "state": {
      "_dom_classes": [],
      "_model_module": "@jupyter-widgets/controls",
      "_model_module_version": "1.5.0",
      "_model_name": "FloatProgressModel",
      "_view_count": null,
      "_view_module": "@jupyter-widgets/controls",
      "_view_module_version": "1.5.0",
      "_view_name": "ProgressView",
      "bar_style": "success",
      "description": "",
      "description_tooltip": null,
      "layout": "IPY_MODEL_ddce011f22564f31b57ebab7be80b925",
      "max": 1262135409,
      "min": 0,
      "orientation": "horizontal",
      "style": "IPY_MODEL_ba86603b1ca146979b9b35aecbee94d0",
      "value": 1262135409
     }
    },
    "ca695d68e4544b75a00a5118c383dfa3": {
     "model_module": "@jupyter-widgets/controls",
     "model_module_version": "1.5.0",
     "model_name": "HBoxModel",
     "state": {
      "_dom_classes": [],
      "_model_module": "@jupyter-widgets/controls",
      "_model_module_version": "1.5.0",
      "_model_name": "HBoxModel",
      "_view_count": null,
      "_view_module": "@jupyter-widgets/controls",
      "_view_module_version": "1.5.0",
      "_view_name": "HBoxView",
      "box_style": "",
      "children": [
       "IPY_MODEL_c8c152acddde4583b983df90332d44f1",
       "IPY_MODEL_e5879b1a19764f49a8dd7743636875c5",
       "IPY_MODEL_eac5fc2f18354083bf84163a395b61f0"
      ],
      "layout": "IPY_MODEL_9251795a6c5b4e3d8b34cdffebaf198b"
     }
    },
    "cd4fe068dc494006a308e2238d00f3dc": {
     "model_module": "@jupyter-widgets/base",
     "model_module_version": "1.2.0",
     "model_name": "LayoutModel",
     "state": {
      "_model_module": "@jupyter-widgets/base",
      "_model_module_version": "1.2.0",
      "_model_name": "LayoutModel",
      "_view_count": null,
      "_view_module": "@jupyter-widgets/base",
      "_view_module_version": "1.2.0",
      "_view_name": "LayoutView",
      "align_content": null,
      "align_items": null,
      "align_self": null,
      "border": null,
      "bottom": null,
      "display": null,
      "flex": null,
      "flex_flow": null,
      "grid_area": null,
      "grid_auto_columns": null,
      "grid_auto_flow": null,
      "grid_auto_rows": null,
      "grid_column": null,
      "grid_gap": null,
      "grid_row": null,
      "grid_template_areas": null,
      "grid_template_columns": null,
      "grid_template_rows": null,
      "height": null,
      "justify_content": null,
      "justify_items": null,
      "left": null,
      "margin": null,
      "max_height": null,
      "max_width": null,
      "min_height": null,
      "min_width": null,
      "object_fit": null,
      "object_position": null,
      "order": null,
      "overflow": null,
      "overflow_x": null,
      "overflow_y": null,
      "padding": null,
      "right": null,
      "top": null,
      "visibility": null,
      "width": null
     }
    },
    "cdd15f91dbb64b1b8aa9d849437cfcf7": {
     "model_module": "@jupyter-widgets/base",
     "model_module_version": "1.2.0",
     "model_name": "LayoutModel",
     "state": {
      "_model_module": "@jupyter-widgets/base",
      "_model_module_version": "1.2.0",
      "_model_name": "LayoutModel",
      "_view_count": null,
      "_view_module": "@jupyter-widgets/base",
      "_view_module_version": "1.2.0",
      "_view_name": "LayoutView",
      "align_content": null,
      "align_items": null,
      "align_self": null,
      "border": null,
      "bottom": null,
      "display": null,
      "flex": null,
      "flex_flow": null,
      "grid_area": null,
      "grid_auto_columns": null,
      "grid_auto_flow": null,
      "grid_auto_rows": null,
      "grid_column": null,
      "grid_gap": null,
      "grid_row": null,
      "grid_template_areas": null,
      "grid_template_columns": null,
      "grid_template_rows": null,
      "height": null,
      "justify_content": null,
      "justify_items": null,
      "left": null,
      "margin": null,
      "max_height": null,
      "max_width": null,
      "min_height": null,
      "min_width": null,
      "object_fit": null,
      "object_position": null,
      "order": null,
      "overflow": null,
      "overflow_x": null,
      "overflow_y": null,
      "padding": null,
      "right": null,
      "top": null,
      "visibility": null,
      "width": null
     }
    },
    "d0e69a65084942a69692c4ceb792acf7": {
     "model_module": "@jupyter-widgets/controls",
     "model_module_version": "1.5.0",
     "model_name": "ProgressStyleModel",
     "state": {
      "_model_module": "@jupyter-widgets/controls",
      "_model_module_version": "1.5.0",
      "_model_name": "ProgressStyleModel",
      "_view_count": null,
      "_view_module": "@jupyter-widgets/base",
      "_view_module_version": "1.2.0",
      "_view_name": "StyleView",
      "bar_color": null,
      "description_width": ""
     }
    },
    "d2c62c2c1b6c433192bbd95b422ccaa1": {
     "model_module": "@jupyter-widgets/controls",
     "model_module_version": "1.5.0",
     "model_name": "HTMLModel",
     "state": {
      "_dom_classes": [],
      "_model_module": "@jupyter-widgets/controls",
      "_model_module_version": "1.5.0",
      "_model_name": "HTMLModel",
      "_view_count": null,
      "_view_module": "@jupyter-widgets/controls",
      "_view_module_version": "1.5.0",
      "_view_name": "HTMLView",
      "description": "",
      "description_tooltip": null,
      "layout": "IPY_MODEL_0bf7155044f840999890fcf693d82c66",
      "placeholder": "​",
      "style": "IPY_MODEL_6a98a1971bb2433c93d516283a065dcb",
      "value": "100%"
     }
    },
    "d3f7a229fc59468eaf7f395ef83af8ab": {
     "model_module": "@jupyter-widgets/controls",
     "model_module_version": "1.5.0",
     "model_name": "HTMLModel",
     "state": {
      "_dom_classes": [],
      "_model_module": "@jupyter-widgets/controls",
      "_model_module_version": "1.5.0",
      "_model_name": "HTMLModel",
      "_view_count": null,
      "_view_module": "@jupyter-widgets/controls",
      "_view_module_version": "1.5.0",
      "_view_name": "HTMLView",
      "description": "",
      "description_tooltip": null,
      "layout": "IPY_MODEL_1aca8a38aa5343e9bc46d9bb64ef5e50",
      "placeholder": "​",
      "style": "IPY_MODEL_55a0d69a4b6c4ac8b514cab236599274",
      "value": "Downloading: 100%"
     }
    },
    "d3fbbda6803448bba393bfea3d812530": {
     "model_module": "@jupyter-widgets/controls",
     "model_module_version": "1.5.0",
     "model_name": "ButtonModel",
     "state": {
      "_dom_classes": [],
      "_model_module": "@jupyter-widgets/controls",
      "_model_module_version": "1.5.0",
      "_model_name": "ButtonModel",
      "_view_count": null,
      "_view_module": "@jupyter-widgets/controls",
      "_view_module_version": "1.5.0",
      "_view_name": "ButtonView",
      "button_style": "",
      "description": "Login",
      "disabled": false,
      "icon": "",
      "layout": "IPY_MODEL_0551dd908d1a4b02839242588c2929e7",
      "style": "IPY_MODEL_599f6f827559467f9dfd406394442fad",
      "tooltip": ""
     }
    },
    "d4727fed46f74fae91d56a6defb974a2": {
     "model_module": "@jupyter-widgets/base",
     "model_module_version": "1.2.0",
     "model_name": "LayoutModel",
     "state": {
      "_model_module": "@jupyter-widgets/base",
      "_model_module_version": "1.2.0",
      "_model_name": "LayoutModel",
      "_view_count": null,
      "_view_module": "@jupyter-widgets/base",
      "_view_module_version": "1.2.0",
      "_view_name": "LayoutView",
      "align_content": null,
      "align_items": null,
      "align_self": null,
      "border": null,
      "bottom": null,
      "display": null,
      "flex": null,
      "flex_flow": null,
      "grid_area": null,
      "grid_auto_columns": null,
      "grid_auto_flow": null,
      "grid_auto_rows": null,
      "grid_column": null,
      "grid_gap": null,
      "grid_row": null,
      "grid_template_areas": null,
      "grid_template_columns": null,
      "grid_template_rows": null,
      "height": null,
      "justify_content": null,
      "justify_items": null,
      "left": null,
      "margin": null,
      "max_height": null,
      "max_width": null,
      "min_height": null,
      "min_width": null,
      "object_fit": null,
      "object_position": null,
      "order": null,
      "overflow": null,
      "overflow_x": null,
      "overflow_y": null,
      "padding": null,
      "right": null,
      "top": null,
      "visibility": null,
      "width": null
     }
    },
    "d7368f2a8c354aaba1944c0d421a8f5f": {
     "model_module": "@jupyter-widgets/controls",
     "model_module_version": "1.5.0",
     "model_name": "DescriptionStyleModel",
     "state": {
      "_model_module": "@jupyter-widgets/controls",
      "_model_module_version": "1.5.0",
      "_model_name": "DescriptionStyleModel",
      "_view_count": null,
      "_view_module": "@jupyter-widgets/base",
      "_view_module_version": "1.2.0",
      "_view_name": "StyleView",
      "description_width": ""
     }
    },
    "d88f92cdbc7540169abe27cc52308fca": {
     "model_module": "@jupyter-widgets/base",
     "model_module_version": "1.2.0",
     "model_name": "LayoutModel",
     "state": {
      "_model_module": "@jupyter-widgets/base",
      "_model_module_version": "1.2.0",
      "_model_name": "LayoutModel",
      "_view_count": null,
      "_view_module": "@jupyter-widgets/base",
      "_view_module_version": "1.2.0",
      "_view_name": "LayoutView",
      "align_content": null,
      "align_items": "center",
      "align_self": null,
      "border": null,
      "bottom": null,
      "display": "flex",
      "flex": null,
      "flex_flow": "column",
      "grid_area": null,
      "grid_auto_columns": null,
      "grid_auto_flow": null,
      "grid_auto_rows": null,
      "grid_column": null,
      "grid_gap": null,
      "grid_row": null,
      "grid_template_areas": null,
      "grid_template_columns": null,
      "grid_template_rows": null,
      "height": null,
      "justify_content": null,
      "justify_items": null,
      "left": null,
      "margin": null,
      "max_height": null,
      "max_width": null,
      "min_height": null,
      "min_width": null,
      "object_fit": null,
      "object_position": null,
      "order": null,
      "overflow": null,
      "overflow_x": null,
      "overflow_y": null,
      "padding": null,
      "right": null,
      "top": null,
      "visibility": null,
      "width": "50%"
     }
    },
    "d9402b1a2b7b4d26938c30e5f0506edf": {
     "model_module": "@jupyter-widgets/base",
     "model_module_version": "1.2.0",
     "model_name": "LayoutModel",
     "state": {
      "_model_module": "@jupyter-widgets/base",
      "_model_module_version": "1.2.0",
      "_model_name": "LayoutModel",
      "_view_count": null,
      "_view_module": "@jupyter-widgets/base",
      "_view_module_version": "1.2.0",
      "_view_name": "LayoutView",
      "align_content": null,
      "align_items": null,
      "align_self": null,
      "border": null,
      "bottom": null,
      "display": null,
      "flex": null,
      "flex_flow": null,
      "grid_area": null,
      "grid_auto_columns": null,
      "grid_auto_flow": null,
      "grid_auto_rows": null,
      "grid_column": null,
      "grid_gap": null,
      "grid_row": null,
      "grid_template_areas": null,
      "grid_template_columns": null,
      "grid_template_rows": null,
      "height": null,
      "justify_content": null,
      "justify_items": null,
      "left": null,
      "margin": null,
      "max_height": null,
      "max_width": null,
      "min_height": null,
      "min_width": null,
      "object_fit": null,
      "object_position": null,
      "order": null,
      "overflow": null,
      "overflow_x": null,
      "overflow_y": null,
      "padding": null,
      "right": null,
      "top": null,
      "visibility": null,
      "width": null
     }
    },
    "da22f2ef40b24800a3369b53484114c5": {
     "model_module": "@jupyter-widgets/controls",
     "model_module_version": "1.5.0",
     "model_name": "HTMLModel",
     "state": {
      "_dom_classes": [],
      "_model_module": "@jupyter-widgets/controls",
      "_model_module_version": "1.5.0",
      "_model_name": "HTMLModel",
      "_view_count": null,
      "_view_module": "@jupyter-widgets/controls",
      "_view_module_version": "1.5.0",
      "_view_name": "HTMLView",
      "description": "",
      "description_tooltip": null,
      "layout": "IPY_MODEL_8388ddb9054249c78b1d83ba3818d560",
      "placeholder": "​",
      "style": "IPY_MODEL_d7368f2a8c354aaba1944c0d421a8f5f",
      "value": " 0/0 [00:00&lt;?, ? examples/s]"
     }
    },
    "dc7fab131e7f42ee884814a10c5727ce": {
     "model_module": "@jupyter-widgets/base",
     "model_module_version": "1.2.0",
     "model_name": "LayoutModel",
     "state": {
      "_model_module": "@jupyter-widgets/base",
      "_model_module_version": "1.2.0",
      "_model_name": "LayoutModel",
      "_view_count": null,
      "_view_module": "@jupyter-widgets/base",
      "_view_module_version": "1.2.0",
      "_view_name": "LayoutView",
      "align_content": null,
      "align_items": null,
      "align_self": null,
      "border": null,
      "bottom": null,
      "display": null,
      "flex": null,
      "flex_flow": null,
      "grid_area": null,
      "grid_auto_columns": null,
      "grid_auto_flow": null,
      "grid_auto_rows": null,
      "grid_column": null,
      "grid_gap": null,
      "grid_row": null,
      "grid_template_areas": null,
      "grid_template_columns": null,
      "grid_template_rows": null,
      "height": null,
      "justify_content": null,
      "justify_items": null,
      "left": null,
      "margin": null,
      "max_height": null,
      "max_width": null,
      "min_height": null,
      "min_width": null,
      "object_fit": null,
      "object_position": null,
      "order": null,
      "overflow": null,
      "overflow_x": null,
      "overflow_y": null,
      "padding": null,
      "right": null,
      "top": null,
      "visibility": null,
      "width": "20px"
     }
    },
    "ddce011f22564f31b57ebab7be80b925": {
     "model_module": "@jupyter-widgets/base",
     "model_module_version": "1.2.0",
     "model_name": "LayoutModel",
     "state": {
      "_model_module": "@jupyter-widgets/base",
      "_model_module_version": "1.2.0",
      "_model_name": "LayoutModel",
      "_view_count": null,
      "_view_module": "@jupyter-widgets/base",
      "_view_module_version": "1.2.0",
      "_view_name": "LayoutView",
      "align_content": null,
      "align_items": null,
      "align_self": null,
      "border": null,
      "bottom": null,
      "display": null,
      "flex": null,
      "flex_flow": null,
      "grid_area": null,
      "grid_auto_columns": null,
      "grid_auto_flow": null,
      "grid_auto_rows": null,
      "grid_column": null,
      "grid_gap": null,
      "grid_row": null,
      "grid_template_areas": null,
      "grid_template_columns": null,
      "grid_template_rows": null,
      "height": null,
      "justify_content": null,
      "justify_items": null,
      "left": null,
      "margin": null,
      "max_height": null,
      "max_width": null,
      "min_height": null,
      "min_width": null,
      "object_fit": null,
      "object_position": null,
      "order": null,
      "overflow": null,
      "overflow_x": null,
      "overflow_y": null,
      "padding": null,
      "right": null,
      "top": null,
      "visibility": null,
      "width": null
     }
    },
    "df512ce76cf944ceaa0d0e8584dd6295": {
     "model_module": "@jupyter-widgets/controls",
     "model_module_version": "1.5.0",
     "model_name": "DescriptionStyleModel",
     "state": {
      "_model_module": "@jupyter-widgets/controls",
      "_model_module_version": "1.5.0",
      "_model_name": "DescriptionStyleModel",
      "_view_count": null,
      "_view_module": "@jupyter-widgets/base",
      "_view_module_version": "1.2.0",
      "_view_name": "StyleView",
      "description_width": ""
     }
    },
    "df88b32fcb7f40edb7b5868e40eea5fc": {
     "model_module": "@jupyter-widgets/controls",
     "model_module_version": "1.5.0",
     "model_name": "FloatProgressModel",
     "state": {
      "_dom_classes": [],
      "_model_module": "@jupyter-widgets/controls",
      "_model_module_version": "1.5.0",
      "_model_name": "FloatProgressModel",
      "_view_count": null,
      "_view_module": "@jupyter-widgets/controls",
      "_view_module_version": "1.5.0",
      "_view_name": "ProgressView",
      "bar_style": "success",
      "description": "",
      "description_tooltip": null,
      "layout": "IPY_MODEL_dc7fab131e7f42ee884814a10c5727ce",
      "max": 1,
      "min": 0,
      "orientation": "horizontal",
      "style": "IPY_MODEL_d0e69a65084942a69692c4ceb792acf7",
      "value": 1
     }
    },
    "e1e9407bccf542cfb53b2e8f05cdf949": {
     "model_module": "@jupyter-widgets/controls",
     "model_module_version": "1.5.0",
     "model_name": "FloatProgressModel",
     "state": {
      "_dom_classes": [],
      "_model_module": "@jupyter-widgets/controls",
      "_model_module_version": "1.5.0",
      "_model_name": "FloatProgressModel",
      "_view_count": null,
      "_view_module": "@jupyter-widgets/controls",
      "_view_module_version": "1.5.0",
      "_view_name": "ProgressView",
      "bar_style": "success",
      "description": "",
      "description_tooltip": null,
      "layout": "IPY_MODEL_69e5efc0c30540a188dfdf288bee2c48",
      "max": 1,
      "min": 0,
      "orientation": "horizontal",
      "style": "IPY_MODEL_35a9536125424d278497b07cb775448f",
      "value": 1
     }
    },
    "e3297bd0d60f4fe39ab5781854826df9": {
     "model_module": "@jupyter-widgets/base",
     "model_module_version": "1.2.0",
     "model_name": "LayoutModel",
     "state": {
      "_model_module": "@jupyter-widgets/base",
      "_model_module_version": "1.2.0",
      "_model_name": "LayoutModel",
      "_view_count": null,
      "_view_module": "@jupyter-widgets/base",
      "_view_module_version": "1.2.0",
      "_view_name": "LayoutView",
      "align_content": null,
      "align_items": null,
      "align_self": null,
      "border": null,
      "bottom": null,
      "display": null,
      "flex": null,
      "flex_flow": null,
      "grid_area": null,
      "grid_auto_columns": null,
      "grid_auto_flow": null,
      "grid_auto_rows": null,
      "grid_column": null,
      "grid_gap": null,
      "grid_row": null,
      "grid_template_areas": null,
      "grid_template_columns": null,
      "grid_template_rows": null,
      "height": null,
      "justify_content": null,
      "justify_items": null,
      "left": null,
      "margin": null,
      "max_height": null,
      "max_width": null,
      "min_height": null,
      "min_width": null,
      "object_fit": null,
      "object_position": null,
      "order": null,
      "overflow": null,
      "overflow_x": null,
      "overflow_y": null,
      "padding": null,
      "right": null,
      "top": null,
      "visibility": null,
      "width": "20px"
     }
    },
    "e37940223110433ea634f2b6a53b89e7": {
     "model_module": "@jupyter-widgets/controls",
     "model_module_version": "1.5.0",
     "model_name": "HTMLModel",
     "state": {
      "_dom_classes": [],
      "_model_module": "@jupyter-widgets/controls",
      "_model_module_version": "1.5.0",
      "_model_name": "HTMLModel",
      "_view_count": null,
      "_view_module": "@jupyter-widgets/controls",
      "_view_module_version": "1.5.0",
      "_view_name": "HTMLView",
      "description": "",
      "description_tooltip": null,
      "layout": "IPY_MODEL_2e75206293794798b6b8fa2401641d06",
      "placeholder": "​",
      "style": "IPY_MODEL_7940a4bac6074146a77a322ac7753045",
      "value": " 22263/? [00:05&lt;00:00, 3854.35ex/s]"
     }
    },
    "e4d861e102d848a5a8c09783ad4fe253": {
     "model_module": "@jupyter-widgets/controls",
     "model_module_version": "1.5.0",
     "model_name": "ProgressStyleModel",
     "state": {
      "_model_module": "@jupyter-widgets/controls",
      "_model_module_version": "1.5.0",
      "_model_name": "ProgressStyleModel",
      "_view_count": null,
      "_view_module": "@jupyter-widgets/base",
      "_view_module_version": "1.2.0",
      "_view_name": "StyleView",
      "bar_color": null,
      "description_width": ""
     }
    },
    "e5879b1a19764f49a8dd7743636875c5": {
     "model_module": "@jupyter-widgets/controls",
     "model_module_version": "1.5.0",
     "model_name": "FloatProgressModel",
     "state": {
      "_dom_classes": [],
      "_model_module": "@jupyter-widgets/controls",
      "_model_module_version": "1.5.0",
      "_model_name": "FloatProgressModel",
      "_view_count": null,
      "_view_module": "@jupyter-widgets/controls",
      "_view_module_version": "1.5.0",
      "_view_name": "ProgressView",
      "bar_style": "success",
      "description": "",
      "description_tooltip": null,
      "layout": "IPY_MODEL_4774fa66e0b7488ab16843de07517a3b",
      "max": 1,
      "min": 0,
      "orientation": "horizontal",
      "style": "IPY_MODEL_046e9a11ac164156ab273c465af0f376",
      "value": 1
     }
    },
    "e5bb10c1a2344a4aa0b928cbc248db68": {
     "model_module": "@jupyter-widgets/controls",
     "model_module_version": "1.5.0",
     "model_name": "HBoxModel",
     "state": {
      "_dom_classes": [],
      "_model_module": "@jupyter-widgets/controls",
      "_model_module_version": "1.5.0",
      "_model_name": "HBoxModel",
      "_view_count": null,
      "_view_module": "@jupyter-widgets/controls",
      "_view_module_version": "1.5.0",
      "_view_name": "HBoxView",
      "box_style": "",
      "children": [
       "IPY_MODEL_4c924a9090c7410a929f4d8af4e23d3f",
       "IPY_MODEL_1e4263c1fa264abb841988b4169fee14",
       "IPY_MODEL_be725e415b804b1994efacbb17c41dc5"
      ],
      "layout": "IPY_MODEL_8b6fc3b341634905af7987dde8c772f7"
     }
    },
    "e5cf425c436847a3b08af2785ab3ac0f": {
     "model_module": "@jupyter-widgets/controls",
     "model_module_version": "1.5.0",
     "model_name": "HTMLModel",
     "state": {
      "_dom_classes": [],
      "_model_module": "@jupyter-widgets/controls",
      "_model_module_version": "1.5.0",
      "_model_name": "HTMLModel",
      "_view_count": null,
      "_view_module": "@jupyter-widgets/controls",
      "_view_module_version": "1.5.0",
      "_view_name": "HTMLView",
      "description": "",
      "description_tooltip": null,
      "layout": "IPY_MODEL_a11115de235149379c876baa7637d61c",
      "placeholder": "​",
      "style": "IPY_MODEL_0a51920ce48e46e2b52f279ef4d86b80",
      "value": " 1.18G/1.18G [20:44&lt;00:00, 480kB/s]"
     }
    },
    "e7d5744b636647b1b217671df955f2e1": {
     "model_module": "@jupyter-widgets/controls",
     "model_module_version": "1.5.0",
     "model_name": "HBoxModel",
     "state": {
      "_dom_classes": [],
      "_model_module": "@jupyter-widgets/controls",
      "_model_module_version": "1.5.0",
      "_model_name": "HBoxModel",
      "_view_count": null,
      "_view_module": "@jupyter-widgets/controls",
      "_view_module_version": "1.5.0",
      "_view_name": "HBoxView",
      "box_style": "",
      "children": [
       "IPY_MODEL_003082f5a1444f77a5a2247078ea2784",
       "IPY_MODEL_e1e9407bccf542cfb53b2e8f05cdf949",
       "IPY_MODEL_9428466f97f7487985997443b2defc0d"
      ],
      "layout": "IPY_MODEL_0d8e33d171054fb7bc044d3f5564c797"
     }
    },
    "e9cc96aa2fc04ef9b167c78177216cd4": {
     "model_module": "@jupyter-widgets/controls",
     "model_module_version": "1.5.0",
     "model_name": "DescriptionStyleModel",
     "state": {
      "_model_module": "@jupyter-widgets/controls",
      "_model_module_version": "1.5.0",
      "_model_name": "DescriptionStyleModel",
      "_view_count": null,
      "_view_module": "@jupyter-widgets/base",
      "_view_module_version": "1.2.0",
      "_view_name": "StyleView",
      "description_width": ""
     }
    },
    "eac5fc2f18354083bf84163a395b61f0": {
     "model_module": "@jupyter-widgets/controls",
     "model_module_version": "1.5.0",
     "model_name": "HTMLModel",
     "state": {
      "_dom_classes": [],
      "_model_module": "@jupyter-widgets/controls",
      "_model_module_version": "1.5.0",
      "_model_name": "HTMLModel",
      "_view_count": null,
      "_view_module": "@jupyter-widgets/controls",
      "_view_module_version": "1.5.0",
      "_view_name": "HTMLView",
      "description": "",
      "description_tooltip": null,
      "layout": "IPY_MODEL_527053b7bfdb47ce87fdb461e3325cf8",
      "placeholder": "​",
      "style": "IPY_MODEL_23b46a82a7a94e808c801a7587443fdb",
      "value": " 457/? [00:00&lt;00:00, 1183.99ex/s]"
     }
    },
    "ef6f7966e89f443391bda9fdc0651650": {
     "model_module": "@jupyter-widgets/base",
     "model_module_version": "1.2.0",
     "model_name": "LayoutModel",
     "state": {
      "_model_module": "@jupyter-widgets/base",
      "_model_module_version": "1.2.0",
      "_model_name": "LayoutModel",
      "_view_count": null,
      "_view_module": "@jupyter-widgets/base",
      "_view_module_version": "1.2.0",
      "_view_name": "LayoutView",
      "align_content": null,
      "align_items": null,
      "align_self": null,
      "border": null,
      "bottom": null,
      "display": null,
      "flex": null,
      "flex_flow": null,
      "grid_area": null,
      "grid_auto_columns": null,
      "grid_auto_flow": null,
      "grid_auto_rows": null,
      "grid_column": null,
      "grid_gap": null,
      "grid_row": null,
      "grid_template_areas": null,
      "grid_template_columns": null,
      "grid_template_rows": null,
      "height": null,
      "justify_content": null,
      "justify_items": null,
      "left": null,
      "margin": null,
      "max_height": null,
      "max_width": null,
      "min_height": null,
      "min_width": null,
      "object_fit": null,
      "object_position": null,
      "order": null,
      "overflow": null,
      "overflow_x": null,
      "overflow_y": null,
      "padding": null,
      "right": null,
      "top": null,
      "visibility": null,
      "width": null
     }
    },
    "ef8a697d22074eebad6ae0646ca8d3d4": {
     "model_module": "@jupyter-widgets/controls",
     "model_module_version": "1.5.0",
     "model_name": "DescriptionStyleModel",
     "state": {
      "_model_module": "@jupyter-widgets/controls",
      "_model_module_version": "1.5.0",
      "_model_name": "DescriptionStyleModel",
      "_view_count": null,
      "_view_module": "@jupyter-widgets/base",
      "_view_module_version": "1.2.0",
      "_view_name": "StyleView",
      "description_width": ""
     }
    },
    "f0baf2d9e07d47f8bde4303734582dc9": {
     "model_module": "@jupyter-widgets/base",
     "model_module_version": "1.2.0",
     "model_name": "LayoutModel",
     "state": {
      "_model_module": "@jupyter-widgets/base",
      "_model_module_version": "1.2.0",
      "_model_name": "LayoutModel",
      "_view_count": null,
      "_view_module": "@jupyter-widgets/base",
      "_view_module_version": "1.2.0",
      "_view_name": "LayoutView",
      "align_content": null,
      "align_items": null,
      "align_self": null,
      "border": null,
      "bottom": null,
      "display": null,
      "flex": null,
      "flex_flow": null,
      "grid_area": null,
      "grid_auto_columns": null,
      "grid_auto_flow": null,
      "grid_auto_rows": null,
      "grid_column": null,
      "grid_gap": null,
      "grid_row": null,
      "grid_template_areas": null,
      "grid_template_columns": null,
      "grid_template_rows": null,
      "height": null,
      "justify_content": null,
      "justify_items": null,
      "left": null,
      "margin": null,
      "max_height": null,
      "max_width": null,
      "min_height": null,
      "min_width": null,
      "object_fit": null,
      "object_position": null,
      "order": null,
      "overflow": null,
      "overflow_x": null,
      "overflow_y": null,
      "padding": null,
      "right": null,
      "top": null,
      "visibility": null,
      "width": null
     }
    },
    "f0d9d8e29248444f89fb2ee3b2e2f9a7": {
     "model_module": "@jupyter-widgets/controls",
     "model_module_version": "1.5.0",
     "model_name": "FloatProgressModel",
     "state": {
      "_dom_classes": [],
      "_model_module": "@jupyter-widgets/controls",
      "_model_module_version": "1.5.0",
      "_model_name": "FloatProgressModel",
      "_view_count": null,
      "_view_module": "@jupyter-widgets/controls",
      "_view_module_version": "1.5.0",
      "_view_name": "ProgressView",
      "bar_style": "success",
      "description": "",
      "description_tooltip": null,
      "layout": "IPY_MODEL_e3297bd0d60f4fe39ab5781854826df9",
      "max": 1,
      "min": 0,
      "orientation": "horizontal",
      "style": "IPY_MODEL_4990daf575164cf6ab70fedcfbda505f",
      "value": 1
     }
    },
    "f2941ed40d2849ba910b17e8183c9c23": {
     "model_module": "@jupyter-widgets/controls",
     "model_module_version": "1.5.0",
     "model_name": "HBoxModel",
     "state": {
      "_dom_classes": [],
      "_model_module": "@jupyter-widgets/controls",
      "_model_module_version": "1.5.0",
      "_model_name": "HBoxModel",
      "_view_count": null,
      "_view_module": "@jupyter-widgets/controls",
      "_view_module_version": "1.5.0",
      "_view_name": "HBoxView",
      "box_style": "",
      "children": [
       "IPY_MODEL_7efe4f6df3fd4eacbb5a3768d45a1768",
       "IPY_MODEL_df88b32fcb7f40edb7b5868e40eea5fc",
       "IPY_MODEL_e37940223110433ea634f2b6a53b89e7"
      ],
      "layout": "IPY_MODEL_5c782276080f4475807f419b822557e7"
     }
    },
    "f3e07b1ee30e49bfaafcfbb3d71f142e": {
     "model_module": "@jupyter-widgets/controls",
     "model_module_version": "1.5.0",
     "model_name": "HTMLModel",
     "state": {
      "_dom_classes": [],
      "_model_module": "@jupyter-widgets/controls",
      "_model_module_version": "1.5.0",
      "_model_name": "HTMLModel",
      "_view_count": null,
      "_view_module": "@jupyter-widgets/controls",
      "_view_module_version": "1.5.0",
      "_view_name": "HTMLView",
      "description": "",
      "description_tooltip": null,
      "layout": "IPY_MODEL_d4727fed46f74fae91d56a6defb974a2",
      "placeholder": "​",
      "style": "IPY_MODEL_fbec374d1d984d088a7adea9a38b074b",
      "value": " 1/1 [00:00&lt;00:00,  2.60ba/s]"
     }
    },
    "f649dc81e256422ba6eff93c07eb60e4": {
     "model_module": "@jupyter-widgets/base",
     "model_module_version": "1.2.0",
     "model_name": "LayoutModel",
     "state": {
      "_model_module": "@jupyter-widgets/base",
      "_model_module_version": "1.2.0",
      "_model_name": "LayoutModel",
      "_view_count": null,
      "_view_module": "@jupyter-widgets/base",
      "_view_module_version": "1.2.0",
      "_view_name": "LayoutView",
      "align_content": null,
      "align_items": null,
      "align_self": null,
      "border": null,
      "bottom": null,
      "display": null,
      "flex": null,
      "flex_flow": null,
      "grid_area": null,
      "grid_auto_columns": null,
      "grid_auto_flow": null,
      "grid_auto_rows": null,
      "grid_column": null,
      "grid_gap": null,
      "grid_row": null,
      "grid_template_areas": null,
      "grid_template_columns": null,
      "grid_template_rows": null,
      "height": null,
      "justify_content": null,
      "justify_items": null,
      "left": null,
      "margin": null,
      "max_height": null,
      "max_width": null,
      "min_height": null,
      "min_width": null,
      "object_fit": null,
      "object_position": null,
      "order": null,
      "overflow": null,
      "overflow_x": null,
      "overflow_y": null,
      "padding": null,
      "right": null,
      "top": null,
      "visibility": null,
      "width": null
     }
    },
    "f700b34288e24e848d11d9758d14c991": {
     "model_module": "@jupyter-widgets/controls",
     "model_module_version": "1.5.0",
     "model_name": "FloatProgressModel",
     "state": {
      "_dom_classes": [],
      "_model_module": "@jupyter-widgets/controls",
      "_model_module_version": "1.5.0",
      "_model_name": "FloatProgressModel",
      "_view_count": null,
      "_view_module": "@jupyter-widgets/controls",
      "_view_module_version": "1.5.0",
      "_view_name": "ProgressView",
      "bar_style": "info",
      "description": "",
      "description_tooltip": null,
      "layout": "IPY_MODEL_a3c7f0e14f014d17a349f3205191a138",
      "max": 1,
      "min": 0,
      "orientation": "horizontal",
      "style": "IPY_MODEL_79fca6b1d8ef4b53a92f12f5fb4f2285",
      "value": 1
     }
    },
    "f7dcf93d59b142f19a2f6109d4c9d9cb": {
     "model_module": "@jupyter-widgets/base",
     "model_module_version": "1.2.0",
     "model_name": "LayoutModel",
     "state": {
      "_model_module": "@jupyter-widgets/base",
      "_model_module_version": "1.2.0",
      "_model_name": "LayoutModel",
      "_view_count": null,
      "_view_module": "@jupyter-widgets/base",
      "_view_module_version": "1.2.0",
      "_view_name": "LayoutView",
      "align_content": null,
      "align_items": null,
      "align_self": null,
      "border": null,
      "bottom": null,
      "display": null,
      "flex": null,
      "flex_flow": null,
      "grid_area": null,
      "grid_auto_columns": null,
      "grid_auto_flow": null,
      "grid_auto_rows": null,
      "grid_column": null,
      "grid_gap": null,
      "grid_row": null,
      "grid_template_areas": null,
      "grid_template_columns": null,
      "grid_template_rows": null,
      "height": null,
      "justify_content": null,
      "justify_items": null,
      "left": null,
      "margin": null,
      "max_height": null,
      "max_width": null,
      "min_height": null,
      "min_width": null,
      "object_fit": null,
      "object_position": null,
      "order": null,
      "overflow": null,
      "overflow_x": null,
      "overflow_y": null,
      "padding": null,
      "right": null,
      "top": null,
      "visibility": null,
      "width": null
     }
    },
    "f80ae6637d8a4fcb9116da534515bdd3": {
     "model_module": "@jupyter-widgets/controls",
     "model_module_version": "1.5.0",
     "model_name": "HBoxModel",
     "state": {
      "_dom_classes": [],
      "_model_module": "@jupyter-widgets/controls",
      "_model_module_version": "1.5.0",
      "_model_name": "HBoxModel",
      "_view_count": null,
      "_view_module": "@jupyter-widgets/controls",
      "_view_module_version": "1.5.0",
      "_view_name": "HBoxView",
      "box_style": "",
      "children": [
       "IPY_MODEL_d3f7a229fc59468eaf7f395ef83af8ab",
       "IPY_MODEL_c72b35c5f9a34a789359599d984a3f83",
       "IPY_MODEL_7b9ed078b48e48d1be0aae85afc63c06"
      ],
      "layout": "IPY_MODEL_1dd355366f5d40e08d4515b3d8dc5121"
     }
    },
    "f990e16aeee24480a082c95a8a7cc20a": {
     "model_module": "@jupyter-widgets/controls",
     "model_module_version": "1.5.0",
     "model_name": "HBoxModel",
     "state": {
      "_dom_classes": [],
      "_model_module": "@jupyter-widgets/controls",
      "_model_module_version": "1.5.0",
      "_model_name": "HBoxModel",
      "_view_count": null,
      "_view_module": "@jupyter-widgets/controls",
      "_view_module_version": "1.5.0",
      "_view_name": "HBoxView",
      "box_style": "",
      "children": [
       "IPY_MODEL_2f270485eae645df83609653d470c786",
       "IPY_MODEL_f700b34288e24e848d11d9758d14c991",
       "IPY_MODEL_da22f2ef40b24800a3369b53484114c5"
      ],
      "layout": "IPY_MODEL_1166f134348740a8868ab0eea2d3e1e3"
     }
    },
    "fbec374d1d984d088a7adea9a38b074b": {
     "model_module": "@jupyter-widgets/controls",
     "model_module_version": "1.5.0",
     "model_name": "DescriptionStyleModel",
     "state": {
      "_model_module": "@jupyter-widgets/controls",
      "_model_module_version": "1.5.0",
      "_model_name": "DescriptionStyleModel",
      "_view_count": null,
      "_view_module": "@jupyter-widgets/base",
      "_view_module_version": "1.2.0",
      "_view_name": "StyleView",
      "description_width": ""
     }
    },
    "fdcfc48ef566417491a1de82e5ece30d": {
     "model_module": "@jupyter-widgets/base",
     "model_module_version": "1.2.0",
     "model_name": "LayoutModel",
     "state": {
      "_model_module": "@jupyter-widgets/base",
      "_model_module_version": "1.2.0",
      "_model_name": "LayoutModel",
      "_view_count": null,
      "_view_module": "@jupyter-widgets/base",
      "_view_module_version": "1.2.0",
      "_view_name": "LayoutView",
      "align_content": null,
      "align_items": null,
      "align_self": null,
      "border": null,
      "bottom": null,
      "display": null,
      "flex": null,
      "flex_flow": null,
      "grid_area": null,
      "grid_auto_columns": null,
      "grid_auto_flow": null,
      "grid_auto_rows": null,
      "grid_column": null,
      "grid_gap": null,
      "grid_row": null,
      "grid_template_areas": null,
      "grid_template_columns": null,
      "grid_template_rows": null,
      "height": null,
      "justify_content": null,
      "justify_items": null,
      "left": null,
      "margin": null,
      "max_height": null,
      "max_width": null,
      "min_height": null,
      "min_width": null,
      "object_fit": null,
      "object_position": null,
      "order": null,
      "overflow": null,
      "overflow_x": null,
      "overflow_y": null,
      "padding": null,
      "right": null,
      "top": null,
      "visibility": null,
      "width": null
     }
    },
    "fe7737dee44d42fcabdc9344a62d23b6": {
     "model_module": "@jupyter-widgets/base",
     "model_module_version": "1.2.0",
     "model_name": "LayoutModel",
     "state": {
      "_model_module": "@jupyter-widgets/base",
      "_model_module_version": "1.2.0",
      "_model_name": "LayoutModel",
      "_view_count": null,
      "_view_module": "@jupyter-widgets/base",
      "_view_module_version": "1.2.0",
      "_view_name": "LayoutView",
      "align_content": null,
      "align_items": null,
      "align_self": null,
      "border": null,
      "bottom": null,
      "display": null,
      "flex": null,
      "flex_flow": null,
      "grid_area": null,
      "grid_auto_columns": null,
      "grid_auto_flow": null,
      "grid_auto_rows": null,
      "grid_column": null,
      "grid_gap": null,
      "grid_row": null,
      "grid_template_areas": null,
      "grid_template_columns": null,
      "grid_template_rows": null,
      "height": null,
      "justify_content": null,
      "justify_items": null,
      "left": null,
      "margin": null,
      "max_height": null,
      "max_width": null,
      "min_height": null,
      "min_width": null,
      "object_fit": null,
      "object_position": null,
      "order": null,
      "overflow": null,
      "overflow_x": null,
      "overflow_y": null,
      "padding": null,
      "right": null,
      "top": null,
      "visibility": null,
      "width": null
     }
    },
    "ffafa61399c24b8ebd0a2ccbbba04132": {
     "model_module": "@jupyter-widgets/base",
     "model_module_version": "1.2.0",
     "model_name": "LayoutModel",
     "state": {
      "_model_module": "@jupyter-widgets/base",
      "_model_module_version": "1.2.0",
      "_model_name": "LayoutModel",
      "_view_count": null,
      "_view_module": "@jupyter-widgets/base",
      "_view_module_version": "1.2.0",
      "_view_name": "LayoutView",
      "align_content": null,
      "align_items": null,
      "align_self": null,
      "border": null,
      "bottom": null,
      "display": null,
      "flex": null,
      "flex_flow": null,
      "grid_area": null,
      "grid_auto_columns": null,
      "grid_auto_flow": null,
      "grid_auto_rows": null,
      "grid_column": null,
      "grid_gap": null,
      "grid_row": null,
      "grid_template_areas": null,
      "grid_template_columns": null,
      "grid_template_rows": null,
      "height": null,
      "justify_content": null,
      "justify_items": null,
      "left": null,
      "margin": null,
      "max_height": null,
      "max_width": null,
      "min_height": null,
      "min_width": null,
      "object_fit": null,
      "object_position": null,
      "order": null,
      "overflow": null,
      "overflow_x": null,
      "overflow_y": null,
      "padding": null,
      "right": null,
      "top": null,
      "visibility": null,
      "width": null
     }
    }
   }
  }
 },
 "nbformat": 4,
 "nbformat_minor": 4
}
